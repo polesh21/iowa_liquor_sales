{
  "nbformat": 4,
  "nbformat_minor": 0,
  "metadata": {
    "colab": {
      "name": "EDA_iowa.ipynb",
      "provenance": [],
      "collapsed_sections": [],
      "authorship_tag": "ABX9TyNqkMQWDMM+q5Rj0XOxF9j0",
      "include_colab_link": true
    },
    "kernelspec": {
      "name": "python3",
      "display_name": "Python 3"
    }
  },
  "cells": [
    {
      "cell_type": "markdown",
      "metadata": {
        "id": "view-in-github",
        "colab_type": "text"
      },
      "source": [
        "<a href=\"https://colab.research.google.com/github/polesh21/iowa_liquor_sales/blob/stage/EDA_iowa.ipynb\" target=\"_parent\"><img src=\"https://colab.research.google.com/assets/colab-badge.svg\" alt=\"Open In Colab\"/></a>"
      ]
    },
    {
      "cell_type": "markdown",
      "metadata": {
        "id": "uEk3TTXgjRZm",
        "colab_type": "text"
      },
      "source": [
        ""
      ]
    },
    {
      "cell_type": "code",
      "metadata": {
        "id": "j7U4fxzopm8t",
        "colab_type": "code",
        "colab": {}
      },
      "source": [
        "import pandas as pd\n",
        "import numpy as np"
      ],
      "execution_count": 0,
      "outputs": []
    },
    {
      "cell_type": "markdown",
      "metadata": {
        "id": "fSvQVu8qjJFR",
        "colab_type": "text"
      },
      "source": [
        "Connect to Google Bigquery public data \"iows_luqior_sales\"\n",
        "\n"
      ]
    },
    {
      "cell_type": "code",
      "metadata": {
        "id": "jEpZLjNalzV8",
        "colab_type": "code",
        "outputId": "c3279a56-a597-4562-d6f4-788968ac74c9",
        "colab": {
          "base_uri": "https://localhost:8080/",
          "height": 122
        }
      },
      "source": [
        "from google.colab import drive\n",
        "drive.mount('/content/gdrive')"
      ],
      "execution_count": 2,
      "outputs": [
        {
          "output_type": "stream",
          "text": [
            "Go to this URL in a browser: https://accounts.google.com/o/oauth2/auth?client_id=947318989803-6bn6qk8qdgf4n4g3pfee6491hc0brc4i.apps.googleusercontent.com&redirect_uri=urn%3aietf%3awg%3aoauth%3a2.0%3aoob&response_type=code&scope=email%20https%3a%2f%2fwww.googleapis.com%2fauth%2fdocs.test%20https%3a%2f%2fwww.googleapis.com%2fauth%2fdrive%20https%3a%2f%2fwww.googleapis.com%2fauth%2fdrive.photos.readonly%20https%3a%2f%2fwww.googleapis.com%2fauth%2fpeopleapi.readonly\n",
            "\n",
            "Enter your authorization code:\n",
            "··········\n",
            "Mounted at /content/gdrive\n"
          ],
          "name": "stdout"
        }
      ]
    },
    {
      "cell_type": "code",
      "metadata": {
        "colab_type": "code",
        "id": "NUzQWsLFlz6U",
        "outputId": "720f7d3a-7647-4f9e-851f-32b2879dbced",
        "colab": {
          "base_uri": "https://localhost:8080/",
          "height": 34
        }
      },
      "source": [
        "#ensure the file is accessible\n",
        "!ls /content/gdrive/'My Drive'/'Colab Notebooks'/temp"
      ],
      "execution_count": 3,
      "outputs": [
        {
          "output_type": "stream",
          "text": [
            "DPolieshko-0cf48e53ce74.json\n"
          ],
          "name": "stdout"
        }
      ]
    },
    {
      "cell_type": "code",
      "metadata": {
        "id": "DJH8ObvaoGA_",
        "colab_type": "code",
        "colab": {}
      },
      "source": [
        "from google.cloud import bigquery\n",
        "import os\n",
        "os.environ[\"GOOGLE_APPLICATION_CREDENTIALS\"]=\"/content/gdrive/My Drive/Colab Notebooks/temp/DPolieshko-0cf48e53ce74.json\""
      ],
      "execution_count": 0,
      "outputs": []
    },
    {
      "cell_type": "code",
      "metadata": {
        "id": "E8nrIvQcoT2E",
        "colab_type": "code",
        "outputId": "d68c30a8-ab8f-40d4-b9ee-aa3dc57c0e88",
        "colab": {
          "base_uri": "https://localhost:8080/",
          "height": 34
        }
      },
      "source": [
        "#ensure the path is set correctly\n",
        "!echo $GOOGLE_APPLICATION_CREDENTIALS"
      ],
      "execution_count": 5,
      "outputs": [
        {
          "output_type": "stream",
          "text": [
            "/content/gdrive/My Drive/Colab Notebooks/temp/DPolieshko-0cf48e53ce74.json\n"
          ],
          "name": "stdout"
        }
      ]
    },
    {
      "cell_type": "code",
      "metadata": {
        "id": "QiA6_MBVlbPi",
        "colab_type": "code",
        "colab": {}
      },
      "source": [
        "client = bigquery.Client()"
      ],
      "execution_count": 0,
      "outputs": []
    },
    {
      "cell_type": "code",
      "metadata": {
        "id": "uHgAZ23IwoYh",
        "colab_type": "code",
        "colab": {}
      },
      "source": [
        "sql = '''\n",
        "        SELECT *\n",
        "        FROM `bigquery-public-data.iowa_liquor_sales.sales`\n",
        "         where date >='2017-01-01' and date <='2019-12-31'\n",
        "        '''\n",
        "\n",
        "df = client.query(sql).to_dataframe()"
      ],
      "execution_count": 0,
      "outputs": []
    },
    {
      "cell_type": "code",
      "metadata": {
        "id": "UKGJVyGK1z_c",
        "colab_type": "code",
        "outputId": "1d018ade-3168-49b4-d0e2-e4ab5b50094f",
        "colab": {
          "base_uri": "https://localhost:8080/",
          "height": 173
        }
      },
      "source": [
        "df[['store_name','county','category_name','vendor_name','item_description','category_name']].describe()\n",
        " #   'bottle_volume_ml','state_bottle_cost','state_bottle_retail','bottles_sold','sale_dollars','volume_sold_liters']].describe()"
      ],
      "execution_count": 8,
      "outputs": [
        {
          "output_type": "execute_result",
          "data": {
            "text/html": [
              "<div>\n",
              "<style scoped>\n",
              "    .dataframe tbody tr th:only-of-type {\n",
              "        vertical-align: middle;\n",
              "    }\n",
              "\n",
              "    .dataframe tbody tr th {\n",
              "        vertical-align: top;\n",
              "    }\n",
              "\n",
              "    .dataframe thead th {\n",
              "        text-align: right;\n",
              "    }\n",
              "</style>\n",
              "<table border=\"1\" class=\"dataframe\">\n",
              "  <thead>\n",
              "    <tr style=\"text-align: right;\">\n",
              "      <th></th>\n",
              "      <th>store_name</th>\n",
              "      <th>county</th>\n",
              "      <th>category_name</th>\n",
              "      <th>vendor_name</th>\n",
              "      <th>item_description</th>\n",
              "      <th>category_name</th>\n",
              "    </tr>\n",
              "  </thead>\n",
              "  <tbody>\n",
              "    <tr>\n",
              "      <th>count</th>\n",
              "      <td>7027179</td>\n",
              "      <td>6977246</td>\n",
              "      <td>7019110</td>\n",
              "      <td>7027176</td>\n",
              "      <td>7027179</td>\n",
              "      <td>7019110</td>\n",
              "    </tr>\n",
              "    <tr>\n",
              "      <th>unique</th>\n",
              "      <td>2007</td>\n",
              "      <td>132</td>\n",
              "      <td>55</td>\n",
              "      <td>250</td>\n",
              "      <td>5303</td>\n",
              "      <td>55</td>\n",
              "    </tr>\n",
              "    <tr>\n",
              "      <th>top</th>\n",
              "      <td>Hy-Vee #3 / BDI / Des Moines</td>\n",
              "      <td>POLK</td>\n",
              "      <td>American Vodkas</td>\n",
              "      <td>DIAGEO AMERICAS</td>\n",
              "      <td>Black Velvet</td>\n",
              "      <td>American Vodkas</td>\n",
              "    </tr>\n",
              "    <tr>\n",
              "      <th>freq</th>\n",
              "      <td>63906</td>\n",
              "      <td>1160867</td>\n",
              "      <td>1063138</td>\n",
              "      <td>1193449</td>\n",
              "      <td>182819</td>\n",
              "      <td>1063138</td>\n",
              "    </tr>\n",
              "  </tbody>\n",
              "</table>\n",
              "</div>"
            ],
            "text/plain": [
              "                          store_name   county  ... item_description    category_name\n",
              "count                        7027179  6977246  ...          7027179          7019110\n",
              "unique                          2007      132  ...             5303               55\n",
              "top     Hy-Vee #3 / BDI / Des Moines     POLK  ...     Black Velvet  American Vodkas\n",
              "freq                           63906  1160867  ...           182819          1063138\n",
              "\n",
              "[4 rows x 6 columns]"
            ]
          },
          "metadata": {
            "tags": []
          },
          "execution_count": 8
        }
      ]
    },
    {
      "cell_type": "code",
      "metadata": {
        "id": "7cC_wSpyT0rN",
        "colab_type": "code",
        "colab": {}
      },
      "source": [
        "df = df.dropna()\n",
        "df = df.drop_duplicates()"
      ],
      "execution_count": 0,
      "outputs": []
    },
    {
      "cell_type": "code",
      "metadata": {
        "id": "-yj95CQYkWaN",
        "colab_type": "code",
        "colab": {
          "base_uri": "https://localhost:8080/",
          "height": 173
        },
        "outputId": "88656de6-c55a-40eb-baf8-d721a65a0387"
      },
      "source": [
        "df[['store_name','county','category_name','vendor_name','item_description','category_name']].describe()\n",
        " #   'bottle_volume_ml','state_bottle_cost','state_bottle_retail','bottles_sold','sale_dollars','volume_sold_liters']].describe()"
      ],
      "execution_count": 12,
      "outputs": [
        {
          "output_type": "execute_result",
          "data": {
            "text/html": [
              "<div>\n",
              "<style scoped>\n",
              "    .dataframe tbody tr th:only-of-type {\n",
              "        vertical-align: middle;\n",
              "    }\n",
              "\n",
              "    .dataframe tbody tr th {\n",
              "        vertical-align: top;\n",
              "    }\n",
              "\n",
              "    .dataframe thead th {\n",
              "        text-align: right;\n",
              "    }\n",
              "</style>\n",
              "<table border=\"1\" class=\"dataframe\">\n",
              "  <thead>\n",
              "    <tr style=\"text-align: right;\">\n",
              "      <th></th>\n",
              "      <th>store_name</th>\n",
              "      <th>county</th>\n",
              "      <th>category_name</th>\n",
              "      <th>vendor_name</th>\n",
              "      <th>item_description</th>\n",
              "      <th>category_name</th>\n",
              "    </tr>\n",
              "  </thead>\n",
              "  <tbody>\n",
              "    <tr>\n",
              "      <th>count</th>\n",
              "      <td>6315669</td>\n",
              "      <td>6315669</td>\n",
              "      <td>6315669</td>\n",
              "      <td>6315669</td>\n",
              "      <td>6315669</td>\n",
              "      <td>6315669</td>\n",
              "    </tr>\n",
              "    <tr>\n",
              "      <th>unique</th>\n",
              "      <td>1863</td>\n",
              "      <td>129</td>\n",
              "      <td>55</td>\n",
              "      <td>243</td>\n",
              "      <td>5090</td>\n",
              "      <td>55</td>\n",
              "    </tr>\n",
              "    <tr>\n",
              "      <th>top</th>\n",
              "      <td>Hy-Vee #3 / BDI / Des Moines</td>\n",
              "      <td>POLK</td>\n",
              "      <td>American Vodkas</td>\n",
              "      <td>DIAGEO AMERICAS</td>\n",
              "      <td>Black Velvet</td>\n",
              "      <td>American Vodkas</td>\n",
              "    </tr>\n",
              "    <tr>\n",
              "      <th>freq</th>\n",
              "      <td>63770</td>\n",
              "      <td>1032853</td>\n",
              "      <td>958487</td>\n",
              "      <td>1072822</td>\n",
              "      <td>166209</td>\n",
              "      <td>958487</td>\n",
              "    </tr>\n",
              "  </tbody>\n",
              "</table>\n",
              "</div>"
            ],
            "text/plain": [
              "                          store_name   county  ... item_description    category_name\n",
              "count                        6315669  6315669  ...          6315669          6315669\n",
              "unique                          1863      129  ...             5090               55\n",
              "top     Hy-Vee #3 / BDI / Des Moines     POLK  ...     Black Velvet  American Vodkas\n",
              "freq                           63770  1032853  ...           166209           958487\n",
              "\n",
              "[4 rows x 6 columns]"
            ]
          },
          "metadata": {
            "tags": []
          },
          "execution_count": 12
        }
      ]
    },
    {
      "cell_type": "code",
      "metadata": {
        "id": "KEFhpZuZoJ11",
        "colab_type": "code",
        "outputId": "94605920-6c21-48ef-8ecb-6c98feb3b63a",
        "colab": {
          "base_uri": "https://localhost:8080/",
          "height": 510
        }
      },
      "source": [
        "df.info()"
      ],
      "execution_count": 11,
      "outputs": [
        {
          "output_type": "stream",
          "text": [
            "<class 'pandas.core.frame.DataFrame'>\n",
            "Int64Index: 6315669 entries, 0 to 7027178\n",
            "Data columns (total 24 columns):\n",
            "invoice_and_item_number    object\n",
            "date                       object\n",
            "store_number               object\n",
            "store_name                 object\n",
            "address                    object\n",
            "city                       object\n",
            "zip_code                   object\n",
            "store_location             object\n",
            "county_number              object\n",
            "county                     object\n",
            "category                   object\n",
            "category_name              object\n",
            "vendor_number              object\n",
            "vendor_name                object\n",
            "item_number                object\n",
            "item_description           object\n",
            "pack                       int64\n",
            "bottle_volume_ml           int64\n",
            "state_bottle_cost          float64\n",
            "state_bottle_retail        float64\n",
            "bottles_sold               int64\n",
            "sale_dollars               float64\n",
            "volume_sold_liters         float64\n",
            "volume_sold_gallons        float64\n",
            "dtypes: float64(5), int64(3), object(16)\n",
            "memory usage: 1.2+ GB\n"
          ],
          "name": "stdout"
        }
      ]
    },
    {
      "cell_type": "code",
      "metadata": {
        "id": "Vuiomu1uoLjO",
        "colab_type": "code",
        "outputId": "8465b5e9-2a56-4c41-a5e2-2f1b19fadb57",
        "colab": {
          "base_uri": "https://localhost:8080/",
          "height": 864
        }
      },
      "source": [
        "#convert date column to date type\n",
        "df['date']= pd.to_datetime(df['date'])\n",
        "\n",
        "#make additional columns for further analysis\n",
        "df['month'] = df['date'].dt.month\n",
        "df['year'] = df['date'].dt.year\n",
        "df['day_of_week_num'] = df['date'].dt.dayofweek\n",
        "df['day_of_week'] = df['date'].dt.weekday_name\n",
        "df"
      ],
      "execution_count": 13,
      "outputs": [
        {
          "output_type": "execute_result",
          "data": {
            "text/html": [
              "<div>\n",
              "<style scoped>\n",
              "    .dataframe tbody tr th:only-of-type {\n",
              "        vertical-align: middle;\n",
              "    }\n",
              "\n",
              "    .dataframe tbody tr th {\n",
              "        vertical-align: top;\n",
              "    }\n",
              "\n",
              "    .dataframe thead th {\n",
              "        text-align: right;\n",
              "    }\n",
              "</style>\n",
              "<table border=\"1\" class=\"dataframe\">\n",
              "  <thead>\n",
              "    <tr style=\"text-align: right;\">\n",
              "      <th></th>\n",
              "      <th>invoice_and_item_number</th>\n",
              "      <th>date</th>\n",
              "      <th>store_number</th>\n",
              "      <th>store_name</th>\n",
              "      <th>address</th>\n",
              "      <th>city</th>\n",
              "      <th>zip_code</th>\n",
              "      <th>store_location</th>\n",
              "      <th>county_number</th>\n",
              "      <th>county</th>\n",
              "      <th>category</th>\n",
              "      <th>category_name</th>\n",
              "      <th>vendor_number</th>\n",
              "      <th>vendor_name</th>\n",
              "      <th>item_number</th>\n",
              "      <th>item_description</th>\n",
              "      <th>pack</th>\n",
              "      <th>bottle_volume_ml</th>\n",
              "      <th>state_bottle_cost</th>\n",
              "      <th>state_bottle_retail</th>\n",
              "      <th>bottles_sold</th>\n",
              "      <th>sale_dollars</th>\n",
              "      <th>volume_sold_liters</th>\n",
              "      <th>volume_sold_gallons</th>\n",
              "      <th>month</th>\n",
              "      <th>year</th>\n",
              "      <th>day_of_week_num</th>\n",
              "      <th>day_of_week</th>\n",
              "    </tr>\n",
              "  </thead>\n",
              "  <tbody>\n",
              "    <tr>\n",
              "      <th>0</th>\n",
              "      <td>INV-09442400016</td>\n",
              "      <td>2017-12-26</td>\n",
              "      <td>3644</td>\n",
              "      <td>Wal-Mart 2764 / Altoona</td>\n",
              "      <td>3501  8th St SW</td>\n",
              "      <td>Altoona</td>\n",
              "      <td>50009</td>\n",
              "      <td>POINT (-93.505276 41.644195)</td>\n",
              "      <td>77</td>\n",
              "      <td>POLK</td>\n",
              "      <td>1012100</td>\n",
              "      <td>Canadian Whiskies</td>\n",
              "      <td>085</td>\n",
              "      <td>Brown Forman Corp.</td>\n",
              "      <td>12476</td>\n",
              "      <td>Canadian Mist Whiskey Pet</td>\n",
              "      <td>12</td>\n",
              "      <td>750</td>\n",
              "      <td>5.44</td>\n",
              "      <td>8.16</td>\n",
              "      <td>12</td>\n",
              "      <td>97.92</td>\n",
              "      <td>9.00</td>\n",
              "      <td>2.38</td>\n",
              "      <td>12</td>\n",
              "      <td>2017</td>\n",
              "      <td>1</td>\n",
              "      <td>Tuesday</td>\n",
              "    </tr>\n",
              "    <tr>\n",
              "      <th>1</th>\n",
              "      <td>INV-06538200042</td>\n",
              "      <td>2017-08-08</td>\n",
              "      <td>2619</td>\n",
              "      <td>Hy-Vee Wine and Spirits / WDM</td>\n",
              "      <td>1725  74th St</td>\n",
              "      <td>West Des Moines</td>\n",
              "      <td>50266</td>\n",
              "      <td>POINT (-93.808855 41.598515)</td>\n",
              "      <td>77</td>\n",
              "      <td>POLK</td>\n",
              "      <td>1012100</td>\n",
              "      <td>Canadian Whiskies</td>\n",
              "      <td>115</td>\n",
              "      <td>CONSTELLATION BRANDS INC</td>\n",
              "      <td>11774</td>\n",
              "      <td>Black Velvet</td>\n",
              "      <td>24</td>\n",
              "      <td>375</td>\n",
              "      <td>3.07</td>\n",
              "      <td>4.61</td>\n",
              "      <td>24</td>\n",
              "      <td>110.64</td>\n",
              "      <td>9.00</td>\n",
              "      <td>2.38</td>\n",
              "      <td>8</td>\n",
              "      <td>2017</td>\n",
              "      <td>1</td>\n",
              "      <td>Tuesday</td>\n",
              "    </tr>\n",
              "    <tr>\n",
              "      <th>2</th>\n",
              "      <td>INV-07051500008</td>\n",
              "      <td>2017-09-05</td>\n",
              "      <td>3980</td>\n",
              "      <td>Wal-Mart 1721 / Iowa City</td>\n",
              "      <td>919 Hwy 1 West</td>\n",
              "      <td>Iowa City</td>\n",
              "      <td>52246</td>\n",
              "      <td>POINT (-91.552125 41.646646)</td>\n",
              "      <td>52</td>\n",
              "      <td>JOHNSON</td>\n",
              "      <td>1012100</td>\n",
              "      <td>Canadian Whiskies</td>\n",
              "      <td>395</td>\n",
              "      <td>PROXIMO</td>\n",
              "      <td>14192</td>\n",
              "      <td>Pendleton Canadian Whisky</td>\n",
              "      <td>12</td>\n",
              "      <td>750</td>\n",
              "      <td>13.10</td>\n",
              "      <td>19.65</td>\n",
              "      <td>12</td>\n",
              "      <td>235.80</td>\n",
              "      <td>9.00</td>\n",
              "      <td>2.38</td>\n",
              "      <td>9</td>\n",
              "      <td>2017</td>\n",
              "      <td>1</td>\n",
              "      <td>Tuesday</td>\n",
              "    </tr>\n",
              "    <tr>\n",
              "      <th>3</th>\n",
              "      <td>INV-12074500001</td>\n",
              "      <td>2018-05-15</td>\n",
              "      <td>4923</td>\n",
              "      <td>Casey's General Store #2270 / Aurelia</td>\n",
              "      <td>100, Pearl St</td>\n",
              "      <td>Aurelia</td>\n",
              "      <td>51005</td>\n",
              "      <td>POINT (-95.437639 42.712097)</td>\n",
              "      <td>18</td>\n",
              "      <td>CHEROKEE</td>\n",
              "      <td>1012100</td>\n",
              "      <td>Canadian Whiskies</td>\n",
              "      <td>115</td>\n",
              "      <td>CONSTELLATION BRANDS INC</td>\n",
              "      <td>11774</td>\n",
              "      <td>Black Velvet</td>\n",
              "      <td>24</td>\n",
              "      <td>375</td>\n",
              "      <td>3.07</td>\n",
              "      <td>4.61</td>\n",
              "      <td>24</td>\n",
              "      <td>110.64</td>\n",
              "      <td>9.00</td>\n",
              "      <td>2.38</td>\n",
              "      <td>5</td>\n",
              "      <td>2018</td>\n",
              "      <td>1</td>\n",
              "      <td>Tuesday</td>\n",
              "    </tr>\n",
              "    <tr>\n",
              "      <th>6</th>\n",
              "      <td>INV-02603800013</td>\n",
              "      <td>2017-01-09</td>\n",
              "      <td>4619</td>\n",
              "      <td>Smokin' Joe's #3 Tobacco and Liquor Outlet</td>\n",
              "      <td>1737 Ave H</td>\n",
              "      <td>Fort Madison</td>\n",
              "      <td>52627</td>\n",
              "      <td>POINT (-91.32982400000002 40.63021)</td>\n",
              "      <td>56</td>\n",
              "      <td>LEE</td>\n",
              "      <td>1012100</td>\n",
              "      <td>Canadian Whiskies</td>\n",
              "      <td>115</td>\n",
              "      <td>CONSTELLATION BRANDS INC</td>\n",
              "      <td>11774</td>\n",
              "      <td>Black Velvet</td>\n",
              "      <td>24</td>\n",
              "      <td>375</td>\n",
              "      <td>3.07</td>\n",
              "      <td>4.61</td>\n",
              "      <td>24</td>\n",
              "      <td>110.64</td>\n",
              "      <td>9.00</td>\n",
              "      <td>2.38</td>\n",
              "      <td>1</td>\n",
              "      <td>2017</td>\n",
              "      <td>0</td>\n",
              "      <td>Monday</td>\n",
              "    </tr>\n",
              "    <tr>\n",
              "      <th>...</th>\n",
              "      <td>...</td>\n",
              "      <td>...</td>\n",
              "      <td>...</td>\n",
              "      <td>...</td>\n",
              "      <td>...</td>\n",
              "      <td>...</td>\n",
              "      <td>...</td>\n",
              "      <td>...</td>\n",
              "      <td>...</td>\n",
              "      <td>...</td>\n",
              "      <td>...</td>\n",
              "      <td>...</td>\n",
              "      <td>...</td>\n",
              "      <td>...</td>\n",
              "      <td>...</td>\n",
              "      <td>...</td>\n",
              "      <td>...</td>\n",
              "      <td>...</td>\n",
              "      <td>...</td>\n",
              "      <td>...</td>\n",
              "      <td>...</td>\n",
              "      <td>...</td>\n",
              "      <td>...</td>\n",
              "      <td>...</td>\n",
              "      <td>...</td>\n",
              "      <td>...</td>\n",
              "      <td>...</td>\n",
              "      <td>...</td>\n",
              "    </tr>\n",
              "    <tr>\n",
              "      <th>7027174</th>\n",
              "      <td>INV-16583300042</td>\n",
              "      <td>2018-12-27</td>\n",
              "      <td>3592</td>\n",
              "      <td>Wal-Mart 0886 / Fort Dodge</td>\n",
              "      <td>3036 1st Ave South</td>\n",
              "      <td>Fort Dodge</td>\n",
              "      <td>50501</td>\n",
              "      <td>POINT (-94.153456 42.505334)</td>\n",
              "      <td>42</td>\n",
              "      <td>Hardin</td>\n",
              "      <td>1031100</td>\n",
              "      <td>American Vodkas</td>\n",
              "      <td>370</td>\n",
              "      <td>PERNOD RICARD USA</td>\n",
              "      <td>38031</td>\n",
              "      <td>Smithworks</td>\n",
              "      <td>12</td>\n",
              "      <td>750</td>\n",
              "      <td>7.49</td>\n",
              "      <td>11.24</td>\n",
              "      <td>12</td>\n",
              "      <td>134.88</td>\n",
              "      <td>9.00</td>\n",
              "      <td>2.37</td>\n",
              "      <td>12</td>\n",
              "      <td>2018</td>\n",
              "      <td>3</td>\n",
              "      <td>Thursday</td>\n",
              "    </tr>\n",
              "    <tr>\n",
              "      <th>7027175</th>\n",
              "      <td>INV-14400600038</td>\n",
              "      <td>2018-09-12</td>\n",
              "      <td>3776</td>\n",
              "      <td>Wal-Mart 5115 / Davenport</td>\n",
              "      <td>3101 West Kimberly Rd</td>\n",
              "      <td>Davenport</td>\n",
              "      <td>52806</td>\n",
              "      <td>POINT (-90.620069 41.559268)</td>\n",
              "      <td>82</td>\n",
              "      <td>SCOTT</td>\n",
              "      <td>1031100</td>\n",
              "      <td>American Vodkas</td>\n",
              "      <td>370</td>\n",
              "      <td>PERNOD RICARD USA</td>\n",
              "      <td>38031</td>\n",
              "      <td>Smithworks</td>\n",
              "      <td>12</td>\n",
              "      <td>750</td>\n",
              "      <td>7.49</td>\n",
              "      <td>11.24</td>\n",
              "      <td>12</td>\n",
              "      <td>134.88</td>\n",
              "      <td>9.00</td>\n",
              "      <td>2.37</td>\n",
              "      <td>9</td>\n",
              "      <td>2018</td>\n",
              "      <td>2</td>\n",
              "      <td>Wednesday</td>\n",
              "    </tr>\n",
              "    <tr>\n",
              "      <th>7027176</th>\n",
              "      <td>INV-18240000050</td>\n",
              "      <td>2019-03-20</td>\n",
              "      <td>3592</td>\n",
              "      <td>Wal-Mart 0886 / Fort Dodge</td>\n",
              "      <td>3036 1st Ave South</td>\n",
              "      <td>Fort Dodge</td>\n",
              "      <td>50501</td>\n",
              "      <td>POINT (-94.153456 42.505334)</td>\n",
              "      <td>42</td>\n",
              "      <td>Hardin</td>\n",
              "      <td>1031100</td>\n",
              "      <td>American Vodkas</td>\n",
              "      <td>370</td>\n",
              "      <td>PERNOD RICARD USA</td>\n",
              "      <td>38031</td>\n",
              "      <td>Smithworks</td>\n",
              "      <td>12</td>\n",
              "      <td>750</td>\n",
              "      <td>7.49</td>\n",
              "      <td>11.24</td>\n",
              "      <td>12</td>\n",
              "      <td>134.88</td>\n",
              "      <td>9.00</td>\n",
              "      <td>2.37</td>\n",
              "      <td>3</td>\n",
              "      <td>2019</td>\n",
              "      <td>2</td>\n",
              "      <td>Wednesday</td>\n",
              "    </tr>\n",
              "    <tr>\n",
              "      <th>7027177</th>\n",
              "      <td>INV-23820900021</td>\n",
              "      <td>2019-12-10</td>\n",
              "      <td>5380</td>\n",
              "      <td>Transit General Store</td>\n",
              "      <td>2324 Transit Plaza</td>\n",
              "      <td>Sioux City</td>\n",
              "      <td>51106</td>\n",
              "      <td>POINT (-96.378682 42.476368)</td>\n",
              "      <td>97</td>\n",
              "      <td>WOODBURY</td>\n",
              "      <td>1031100</td>\n",
              "      <td>American Vodkas</td>\n",
              "      <td>370</td>\n",
              "      <td>PERNOD RICARD USA</td>\n",
              "      <td>38031</td>\n",
              "      <td>Smithworks</td>\n",
              "      <td>12</td>\n",
              "      <td>750</td>\n",
              "      <td>7.49</td>\n",
              "      <td>11.24</td>\n",
              "      <td>2</td>\n",
              "      <td>22.48</td>\n",
              "      <td>1.50</td>\n",
              "      <td>0.39</td>\n",
              "      <td>12</td>\n",
              "      <td>2019</td>\n",
              "      <td>1</td>\n",
              "      <td>Tuesday</td>\n",
              "    </tr>\n",
              "    <tr>\n",
              "      <th>7027178</th>\n",
              "      <td>INV-22021400001</td>\n",
              "      <td>2019-09-20</td>\n",
              "      <td>4829</td>\n",
              "      <td>Central City 2</td>\n",
              "      <td>1501 Michigan Ave</td>\n",
              "      <td>Des Moines</td>\n",
              "      <td>50314</td>\n",
              "      <td>POINT (-93.613739 41.60572)</td>\n",
              "      <td>77</td>\n",
              "      <td>POLK</td>\n",
              "      <td>1031100</td>\n",
              "      <td>American Vodkas</td>\n",
              "      <td>370</td>\n",
              "      <td>PERNOD RICARD USA</td>\n",
              "      <td>38031</td>\n",
              "      <td>Smithworks</td>\n",
              "      <td>12</td>\n",
              "      <td>750</td>\n",
              "      <td>7.49</td>\n",
              "      <td>11.24</td>\n",
              "      <td>3</td>\n",
              "      <td>33.72</td>\n",
              "      <td>2.25</td>\n",
              "      <td>0.59</td>\n",
              "      <td>9</td>\n",
              "      <td>2019</td>\n",
              "      <td>4</td>\n",
              "      <td>Friday</td>\n",
              "    </tr>\n",
              "  </tbody>\n",
              "</table>\n",
              "<p>6315669 rows × 28 columns</p>\n",
              "</div>"
            ],
            "text/plain": [
              "        invoice_and_item_number       date  ... day_of_week_num day_of_week\n",
              "0               INV-09442400016 2017-12-26  ...               1     Tuesday\n",
              "1               INV-06538200042 2017-08-08  ...               1     Tuesday\n",
              "2               INV-07051500008 2017-09-05  ...               1     Tuesday\n",
              "3               INV-12074500001 2018-05-15  ...               1     Tuesday\n",
              "6               INV-02603800013 2017-01-09  ...               0      Monday\n",
              "...                         ...        ...  ...             ...         ...\n",
              "7027174         INV-16583300042 2018-12-27  ...               3    Thursday\n",
              "7027175         INV-14400600038 2018-09-12  ...               2   Wednesday\n",
              "7027176         INV-18240000050 2019-03-20  ...               2   Wednesday\n",
              "7027177         INV-23820900021 2019-12-10  ...               1     Tuesday\n",
              "7027178         INV-22021400001 2019-09-20  ...               4      Friday\n",
              "\n",
              "[6315669 rows x 28 columns]"
            ]
          },
          "metadata": {
            "tags": []
          },
          "execution_count": 13
        }
      ]
    },
    {
      "cell_type": "code",
      "metadata": {
        "id": "UwC26KSZykOz",
        "colab_type": "code",
        "colab": {
          "base_uri": "https://localhost:8080/",
          "height": 362
        },
        "outputId": "c1d370b6-42c0-4125-8035-1eccd078a956"
      },
      "source": [
        "by_year = df.groupby(['year']).sum().reset_index()\n",
        "liters_by_year = by_year[['year','volume_sold_liters']]\n",
        "\n",
        "import seaborn as sns\n",
        "plt.rcParams[\"figure.figsize\"] = (10,5)\n",
        "sns.barplot(x='year',y='volume_sold_liters',data=liters_by_year)"
      ],
      "execution_count": 22,
      "outputs": [
        {
          "output_type": "execute_result",
          "data": {
            "text/plain": [
              "<matplotlib.axes._subplots.AxesSubplot at 0x7fdf3256cdd8>"
            ]
          },
          "metadata": {
            "tags": []
          },
          "execution_count": 22
        },
        {
          "output_type": "display_data",
          "data": {
            "image/png": "[encoded data removed]",
            "text/plain": [
              "<Figure size 720x360 with 1 Axes>"
            ]
          },
          "metadata": {
            "tags": []
          }
        }
      ]
    },
    {
      "cell_type": "code",
      "metadata": {
        "id": "GhUDPhSLtSfH",
        "colab_type": "code",
        "outputId": "9141190c-a7c5-48e9-b0d9-19fc0f5d263f",
        "colab": {
          "base_uri": "https://localhost:8080/",
          "height": 351
        }
      },
      "source": [
        "by_month = df.groupby(['month']).sum().reset_index()\n",
        "liters_by_month = by_month[['month','volume_sold_liters']]\n",
        "\n",
        "sns.barplot(x='month',y='volume_sold_liters',data=liters_by_month)"
      ],
      "execution_count": 21,
      "outputs": [
        {
          "output_type": "execute_result",
          "data": {
            "text/plain": [
              "<matplotlib.axes._subplots.AxesSubplot at 0x7fdf325a87f0>"
            ]
          },
          "metadata": {
            "tags": []
          },
          "execution_count": 21
        },
        {
          "output_type": "display_data",
          "data": {
            "image/png": "[encoded data removed]",
            "text/plain": [
              "<Figure size 720x360 with 1 Axes>"
            ]
          },
          "metadata": {
            "tags": []
          }
        }
      ]
    },
    {
      "cell_type": "code",
      "metadata": {
        "id": "8W66Qt8Sk-by",
        "colab_type": "code",
        "outputId": "86971583-7219-418f-c53b-51edb4462429",
        "colab": {
          "base_uri": "https://localhost:8080/",
          "height": 363
        }
      },
      "source": [
        "by_day = df.groupby(['day_of_week_num','day_of_week']).sum().reset_index()\n",
        "liters_by_day = by_day[['day_of_week_num','day_of_week','volume_sold_liters']]\n",
        "\n",
        "sns.barplot(x='day_of_week',y='volume_sold_liters',data=liters_by_day)"
      ],
      "execution_count": 20,
      "outputs": [
        {
          "output_type": "execute_result",
          "data": {
            "text/plain": [
              "<matplotlib.axes._subplots.AxesSubplot at 0x7fdf3bb15518>"
            ]
          },
          "metadata": {
            "tags": []
          },
          "execution_count": 20
        },
        {
          "output_type": "display_data",
          "data": {
            "image/png": "[encoded data removed]",
            "text/plain": [
              "<Figure size 720x360 with 1 Axes>"
            ]
          },
          "metadata": {
            "tags": []
          }
        }
      ]
    },
    {
      "cell_type": "code",
      "metadata": {
        "id": "jmk-EPOZ1_4k",
        "colab_type": "code",
        "colab": {
          "base_uri": "https://localhost:8080/",
          "height": 374
        },
        "outputId": "79a0e784-5ff9-417f-b19f-54e8e0254458"
      },
      "source": [
        "cities_all = pd.pivot_table(df, values=['bottles_sold','state_bottle_cost','state_bottle_retail','sale_dollars','volume_sold_liters'], index=['city'], \n",
        "                            aggfunc={'bottles_sold':np.sum, 'state_bottle_cost':np.mean, 'state_bottle_retail':np.mean, 'sale_dollars':np.sum, 'volume_sold_liters':np.sum}).reset_index()\n",
        "сities_all = сities_all.sort_values(by='bottles_sold', ascending = False)\n",
        "\n",
        "сities_all.columns = ['city', 'total_bottles_sold','total_sale_dollars', 'average_bottle_cost','average_state_bottle_retail','total_volume_sold_liters']\n",
        "\n",
        "#remove scientific notation\n",
        "pd.set_option('display.float_format', lambda x: '%.2f' % x)\n",
        "\n",
        "сities_all.head(5)\n"
      ],
      "execution_count": 56,
      "outputs": [
        {
          "output_type": "error",
          "ename": "KeyError",
          "evalue": "ignored",
          "traceback": [
            "\u001b[0;31m---------------------------------------------------------------------------\u001b[0m",
            "\u001b[0;31mKeyError\u001b[0m                                  Traceback (most recent call last)",
            "\u001b[0;32m<ipython-input-56-4392e898e2d0>\u001b[0m in \u001b[0;36m<module>\u001b[0;34m()\u001b[0m\n\u001b[1;32m      1\u001b[0m cities_all = pd.pivot_table(df, values=['bottles_sold','state_bottle_cost','state_bottle_retail','sale_dollars','volume_sold_liters'], index=['city'], \n\u001b[1;32m      2\u001b[0m                             aggfunc={'bottles_sold':np.sum, 'state_bottle_cost':np.mean, 'state_bottle_retail':np.mean, 'sale_dollars':np.sum, 'volume_sold_liters':np.sum}).reset_index()\n\u001b[0;32m----> 3\u001b[0;31m \u001b[0mсities_all\u001b[0m \u001b[0;34m=\u001b[0m \u001b[0mсities_all\u001b[0m\u001b[0;34m.\u001b[0m\u001b[0msort_values\u001b[0m\u001b[0;34m(\u001b[0m\u001b[0mby\u001b[0m\u001b[0;34m=\u001b[0m\u001b[0;34m'bottles_sold'\u001b[0m\u001b[0;34m,\u001b[0m \u001b[0mascending\u001b[0m \u001b[0;34m=\u001b[0m \u001b[0;32mFalse\u001b[0m\u001b[0;34m)\u001b[0m\u001b[0;34m\u001b[0m\u001b[0;34m\u001b[0m\u001b[0m\n\u001b[0m\u001b[1;32m      4\u001b[0m \u001b[0;34m\u001b[0m\u001b[0m\n\u001b[1;32m      5\u001b[0m \u001b[0mсities_all\u001b[0m\u001b[0;34m.\u001b[0m\u001b[0mcolumns\u001b[0m \u001b[0;34m=\u001b[0m \u001b[0;34m[\u001b[0m\u001b[0;34m'city'\u001b[0m\u001b[0;34m,\u001b[0m \u001b[0;34m'total_bottles_sold'\u001b[0m\u001b[0;34m,\u001b[0m\u001b[0;34m'total_sale_dollars'\u001b[0m\u001b[0;34m,\u001b[0m \u001b[0;34m'average_bottle_cost'\u001b[0m\u001b[0;34m,\u001b[0m\u001b[0;34m'average_state_bottle_retail'\u001b[0m\u001b[0;34m,\u001b[0m\u001b[0;34m'total_volume_sold_liters'\u001b[0m\u001b[0;34m]\u001b[0m\u001b[0;34m\u001b[0m\u001b[0;34m\u001b[0m\u001b[0m\n",
            "\u001b[0;32m/usr/local/lib/python3.6/dist-packages/pandas/core/frame.py\u001b[0m in \u001b[0;36msort_values\u001b[0;34m(self, by, axis, ascending, inplace, kind, na_position)\u001b[0m\n\u001b[1;32m   5006\u001b[0m \u001b[0;34m\u001b[0m\u001b[0m\n\u001b[1;32m   5007\u001b[0m             \u001b[0mby\u001b[0m \u001b[0;34m=\u001b[0m \u001b[0mby\u001b[0m\u001b[0;34m[\u001b[0m\u001b[0;36m0\u001b[0m\u001b[0;34m]\u001b[0m\u001b[0;34m\u001b[0m\u001b[0;34m\u001b[0m\u001b[0m\n\u001b[0;32m-> 5008\u001b[0;31m             \u001b[0mk\u001b[0m \u001b[0;34m=\u001b[0m \u001b[0mself\u001b[0m\u001b[0;34m.\u001b[0m\u001b[0m_get_label_or_level_values\u001b[0m\u001b[0;34m(\u001b[0m\u001b[0mby\u001b[0m\u001b[0;34m,\u001b[0m \u001b[0maxis\u001b[0m\u001b[0;34m=\u001b[0m\u001b[0maxis\u001b[0m\u001b[0;34m)\u001b[0m\u001b[0;34m\u001b[0m\u001b[0;34m\u001b[0m\u001b[0m\n\u001b[0m\u001b[1;32m   5009\u001b[0m \u001b[0;34m\u001b[0m\u001b[0m\n\u001b[1;32m   5010\u001b[0m             \u001b[0;32mif\u001b[0m \u001b[0misinstance\u001b[0m\u001b[0;34m(\u001b[0m\u001b[0mascending\u001b[0m\u001b[0;34m,\u001b[0m \u001b[0;34m(\u001b[0m\u001b[0mtuple\u001b[0m\u001b[0;34m,\u001b[0m \u001b[0mlist\u001b[0m\u001b[0;34m)\u001b[0m\u001b[0;34m)\u001b[0m\u001b[0;34m:\u001b[0m\u001b[0;34m\u001b[0m\u001b[0;34m\u001b[0m\u001b[0m\n",
            "\u001b[0;32m/usr/local/lib/python3.6/dist-packages/pandas/core/generic.py\u001b[0m in \u001b[0;36m_get_label_or_level_values\u001b[0;34m(self, key, axis)\u001b[0m\n\u001b[1;32m   1772\u001b[0m             \u001b[0mvalues\u001b[0m \u001b[0;34m=\u001b[0m \u001b[0mself\u001b[0m\u001b[0;34m.\u001b[0m\u001b[0maxes\u001b[0m\u001b[0;34m[\u001b[0m\u001b[0maxis\u001b[0m\u001b[0;34m]\u001b[0m\u001b[0;34m.\u001b[0m\u001b[0mget_level_values\u001b[0m\u001b[0;34m(\u001b[0m\u001b[0mkey\u001b[0m\u001b[0;34m)\u001b[0m\u001b[0;34m.\u001b[0m\u001b[0m_values\u001b[0m\u001b[0;34m\u001b[0m\u001b[0;34m\u001b[0m\u001b[0m\n\u001b[1;32m   1773\u001b[0m         \u001b[0;32melse\u001b[0m\u001b[0;34m:\u001b[0m\u001b[0;34m\u001b[0m\u001b[0;34m\u001b[0m\u001b[0m\n\u001b[0;32m-> 1774\u001b[0;31m             \u001b[0;32mraise\u001b[0m \u001b[0mKeyError\u001b[0m\u001b[0;34m(\u001b[0m\u001b[0mkey\u001b[0m\u001b[0;34m)\u001b[0m\u001b[0;34m\u001b[0m\u001b[0;34m\u001b[0m\u001b[0m\n\u001b[0m\u001b[1;32m   1775\u001b[0m \u001b[0;34m\u001b[0m\u001b[0m\n\u001b[1;32m   1776\u001b[0m         \u001b[0;31m# Check for duplicates\u001b[0m\u001b[0;34m\u001b[0m\u001b[0;34m\u001b[0m\u001b[0;34m\u001b[0m\u001b[0m\n",
            "\u001b[0;31mKeyError\u001b[0m: 'bottles_sold'"
          ]
        }
      ]
    },
    {
      "cell_type": "code",
      "metadata": {
        "id": "SnD-bzXwAF56",
        "colab_type": "code",
        "colab": {
          "base_uri": "https://localhost:8080/",
          "height": 374
        },
        "outputId": "9ecc939f-3fe3-4410-ffff-a3b2b9f9f597"
      },
      "source": [
        "cities_all = pd.pivot_table(df, values=['bottles_sold','state_bottle_cost','state_bottle_retail','sale_dollars','volume_sold_liters'], index=['city'], \n",
        "                            aggfunc={'bottles_sold':np.sum, 'state_bottle_cost':np.mean, 'state_bottle_retail':np.mean, 'sale_dollars':np.sum, 'volume_sold_liters':np.sum}).reset_index()\n",
        "сities_all = сities_all.sort_values(by='bottles_sold', ascending = False)\n",
        "\n",
        "сities_all"
      ],
      "execution_count": 57,
      "outputs": [
        {
          "output_type": "error",
          "ename": "KeyError",
          "evalue": "ignored",
          "traceback": [
            "\u001b[0;31m---------------------------------------------------------------------------\u001b[0m",
            "\u001b[0;31mKeyError\u001b[0m                                  Traceback (most recent call last)",
            "\u001b[0;32m<ipython-input-57-f3ebaa9889e2>\u001b[0m in \u001b[0;36m<module>\u001b[0;34m()\u001b[0m\n\u001b[1;32m      1\u001b[0m cities_all = pd.pivot_table(df, values=['bottles_sold','state_bottle_cost','state_bottle_retail','sale_dollars','volume_sold_liters'], index=['city'], \n\u001b[1;32m      2\u001b[0m                             aggfunc={'bottles_sold':np.sum, 'state_bottle_cost':np.mean, 'state_bottle_retail':np.mean, 'sale_dollars':np.sum, 'volume_sold_liters':np.sum}).reset_index()\n\u001b[0;32m----> 3\u001b[0;31m \u001b[0mсities_all\u001b[0m \u001b[0;34m=\u001b[0m \u001b[0mсities_all\u001b[0m\u001b[0;34m.\u001b[0m\u001b[0msort_values\u001b[0m\u001b[0;34m(\u001b[0m\u001b[0mby\u001b[0m\u001b[0;34m=\u001b[0m\u001b[0;34m'bottles_sold'\u001b[0m\u001b[0;34m,\u001b[0m \u001b[0mascending\u001b[0m \u001b[0;34m=\u001b[0m \u001b[0;32mFalse\u001b[0m\u001b[0;34m)\u001b[0m\u001b[0;34m\u001b[0m\u001b[0;34m\u001b[0m\u001b[0m\n\u001b[0m\u001b[1;32m      4\u001b[0m \u001b[0;34m\u001b[0m\u001b[0m\n\u001b[1;32m      5\u001b[0m \u001b[0mсities_all\u001b[0m\u001b[0;34m\u001b[0m\u001b[0;34m\u001b[0m\u001b[0m\n",
            "\u001b[0;32m/usr/local/lib/python3.6/dist-packages/pandas/core/frame.py\u001b[0m in \u001b[0;36msort_values\u001b[0;34m(self, by, axis, ascending, inplace, kind, na_position)\u001b[0m\n\u001b[1;32m   5006\u001b[0m \u001b[0;34m\u001b[0m\u001b[0m\n\u001b[1;32m   5007\u001b[0m             \u001b[0mby\u001b[0m \u001b[0;34m=\u001b[0m \u001b[0mby\u001b[0m\u001b[0;34m[\u001b[0m\u001b[0;36m0\u001b[0m\u001b[0;34m]\u001b[0m\u001b[0;34m\u001b[0m\u001b[0;34m\u001b[0m\u001b[0m\n\u001b[0;32m-> 5008\u001b[0;31m             \u001b[0mk\u001b[0m \u001b[0;34m=\u001b[0m \u001b[0mself\u001b[0m\u001b[0;34m.\u001b[0m\u001b[0m_get_label_or_level_values\u001b[0m\u001b[0;34m(\u001b[0m\u001b[0mby\u001b[0m\u001b[0;34m,\u001b[0m \u001b[0maxis\u001b[0m\u001b[0;34m=\u001b[0m\u001b[0maxis\u001b[0m\u001b[0;34m)\u001b[0m\u001b[0;34m\u001b[0m\u001b[0;34m\u001b[0m\u001b[0m\n\u001b[0m\u001b[1;32m   5009\u001b[0m \u001b[0;34m\u001b[0m\u001b[0m\n\u001b[1;32m   5010\u001b[0m             \u001b[0;32mif\u001b[0m \u001b[0misinstance\u001b[0m\u001b[0;34m(\u001b[0m\u001b[0mascending\u001b[0m\u001b[0;34m,\u001b[0m \u001b[0;34m(\u001b[0m\u001b[0mtuple\u001b[0m\u001b[0;34m,\u001b[0m \u001b[0mlist\u001b[0m\u001b[0;34m)\u001b[0m\u001b[0;34m)\u001b[0m\u001b[0;34m:\u001b[0m\u001b[0;34m\u001b[0m\u001b[0;34m\u001b[0m\u001b[0m\n",
            "\u001b[0;32m/usr/local/lib/python3.6/dist-packages/pandas/core/generic.py\u001b[0m in \u001b[0;36m_get_label_or_level_values\u001b[0;34m(self, key, axis)\u001b[0m\n\u001b[1;32m   1772\u001b[0m             \u001b[0mvalues\u001b[0m \u001b[0;34m=\u001b[0m \u001b[0mself\u001b[0m\u001b[0;34m.\u001b[0m\u001b[0maxes\u001b[0m\u001b[0;34m[\u001b[0m\u001b[0maxis\u001b[0m\u001b[0;34m]\u001b[0m\u001b[0;34m.\u001b[0m\u001b[0mget_level_values\u001b[0m\u001b[0;34m(\u001b[0m\u001b[0mkey\u001b[0m\u001b[0;34m)\u001b[0m\u001b[0;34m.\u001b[0m\u001b[0m_values\u001b[0m\u001b[0;34m\u001b[0m\u001b[0;34m\u001b[0m\u001b[0m\n\u001b[1;32m   1773\u001b[0m         \u001b[0;32melse\u001b[0m\u001b[0;34m:\u001b[0m\u001b[0;34m\u001b[0m\u001b[0;34m\u001b[0m\u001b[0m\n\u001b[0;32m-> 1774\u001b[0;31m             \u001b[0;32mraise\u001b[0m \u001b[0mKeyError\u001b[0m\u001b[0;34m(\u001b[0m\u001b[0mkey\u001b[0m\u001b[0;34m)\u001b[0m\u001b[0;34m\u001b[0m\u001b[0;34m\u001b[0m\u001b[0m\n\u001b[0m\u001b[1;32m   1775\u001b[0m \u001b[0;34m\u001b[0m\u001b[0m\n\u001b[1;32m   1776\u001b[0m         \u001b[0;31m# Check for duplicates\u001b[0m\u001b[0;34m\u001b[0m\u001b[0;34m\u001b[0m\u001b[0;34m\u001b[0m\u001b[0m\n",
            "\u001b[0;31mKeyError\u001b[0m: 'bottles_sold'"
          ]
        }
      ]
    },
    {
      "cell_type": "code",
      "metadata": {
        "id": "fnXbAngO-L31",
        "colab_type": "code",
        "colab": {
          "base_uri": "https://localhost:8080/",
          "height": 163
        },
        "outputId": "4006fa40-25bd-4a64-b430-67bd84906099"
      },
      "source": [
        ""
      ],
      "execution_count": 50,
      "outputs": [
        {
          "output_type": "error",
          "ename": "NameError",
          "evalue": "ignored",
          "traceback": [
            "\u001b[0;31m---------------------------------------------------------------------------\u001b[0m",
            "\u001b[0;31mNameError\u001b[0m                                 Traceback (most recent call last)",
            "\u001b[0;32m<ipython-input-50-1173bf1548ba>\u001b[0m in \u001b[0;36m<module>\u001b[0;34m()\u001b[0m\n\u001b[0;32m----> 1\u001b[0;31m \u001b[0mcities_all\u001b[0m\u001b[0;34m.\u001b[0m\u001b[0mrename\u001b[0m\u001b[0;34m(\u001b[0m\u001b[0mcolumns\u001b[0m\u001b[0;34m=\u001b[0m\u001b[0;34m{\u001b[0m\u001b[0;34m'bottles_sold'\u001b[0m\u001b[0;34m:\u001b[0m\u001b[0;34m'total_bottles_sold'\u001b[0m\u001b[0;34m}\u001b[0m\u001b[0;34m)\u001b[0m\u001b[0;34m\u001b[0m\u001b[0;34m\u001b[0m\u001b[0m\n\u001b[0m",
            "\u001b[0;31mNameError\u001b[0m: name 'cities_all' is not defined"
          ]
        }
      ]
    },
    {
      "cell_type": "code",
      "metadata": {
        "id": "y30Gqta-k-Ys",
        "colab_type": "code",
        "colab": {
          "base_uri": "https://localhost:8080/",
          "height": 419
        },
        "outputId": "6330ac08-b9b7-4725-ffbd-148e3b3920c3"
      },
      "source": [
        "сities_all = df.groupby(['city']).sum().reset_index()\n",
        "#cities = cities_all[['city','volume_sold_liters','sale_dollars','bottles_sold']]\n",
        "сities_all"
      ],
      "execution_count": 26,
      "outputs": [
        {
          "output_type": "execute_result",
          "data": {
            "text/html": [
              "<div>\n",
              "<style scoped>\n",
              "    .dataframe tbody tr th:only-of-type {\n",
              "        vertical-align: middle;\n",
              "    }\n",
              "\n",
              "    .dataframe tbody tr th {\n",
              "        vertical-align: top;\n",
              "    }\n",
              "\n",
              "    .dataframe thead th {\n",
              "        text-align: right;\n",
              "    }\n",
              "</style>\n",
              "<table border=\"1\" class=\"dataframe\">\n",
              "  <thead>\n",
              "    <tr style=\"text-align: right;\">\n",
              "      <th></th>\n",
              "      <th>city</th>\n",
              "      <th>pack</th>\n",
              "      <th>bottle_volume_ml</th>\n",
              "      <th>state_bottle_cost</th>\n",
              "      <th>state_bottle_retail</th>\n",
              "      <th>bottles_sold</th>\n",
              "      <th>sale_dollars</th>\n",
              "      <th>volume_sold_liters</th>\n",
              "      <th>volume_sold_gallons</th>\n",
              "      <th>month</th>\n",
              "      <th>year</th>\n",
              "      <th>day_of_week_num</th>\n",
              "    </tr>\n",
              "  </thead>\n",
              "  <tbody>\n",
              "    <tr>\n",
              "      <th>0</th>\n",
              "      <td>Ackley</td>\n",
              "      <td>31177</td>\n",
              "      <td>2634475</td>\n",
              "      <td>23703.00</td>\n",
              "      <td>35561.06</td>\n",
              "      <td>20825</td>\n",
              "      <td>253418.61</td>\n",
              "      <td>20691.81</td>\n",
              "      <td>5459.96</td>\n",
              "      <td>17763</td>\n",
              "      <td>5381751</td>\n",
              "      <td>8909</td>\n",
              "    </tr>\n",
              "    <tr>\n",
              "      <th>1</th>\n",
              "      <td>Adair</td>\n",
              "      <td>20173</td>\n",
              "      <td>1211795</td>\n",
              "      <td>14201.85</td>\n",
              "      <td>21306.31</td>\n",
              "      <td>13083</td>\n",
              "      <td>150496.95</td>\n",
              "      <td>9433.83</td>\n",
              "      <td>2487.01</td>\n",
              "      <td>11190</td>\n",
              "      <td>3126121</td>\n",
              "      <td>2376</td>\n",
              "    </tr>\n",
              "    <tr>\n",
              "      <th>2</th>\n",
              "      <td>Adel</td>\n",
              "      <td>108778</td>\n",
              "      <td>8005550</td>\n",
              "      <td>80470.19</td>\n",
              "      <td>120723.71</td>\n",
              "      <td>104844</td>\n",
              "      <td>1424850.18</td>\n",
              "      <td>100787.99</td>\n",
              "      <td>26601.56</td>\n",
              "      <td>60485</td>\n",
              "      <td>18271135</td>\n",
              "      <td>16547</td>\n",
              "    </tr>\n",
              "    <tr>\n",
              "      <th>3</th>\n",
              "      <td>Afton</td>\n",
              "      <td>8109</td>\n",
              "      <td>999425</td>\n",
              "      <td>8053.45</td>\n",
              "      <td>12082.18</td>\n",
              "      <td>8969</td>\n",
              "      <td>106096.36</td>\n",
              "      <td>8588.55</td>\n",
              "      <td>2266.78</td>\n",
              "      <td>5167</td>\n",
              "      <td>1598228</td>\n",
              "      <td>3166</td>\n",
              "    </tr>\n",
              "    <tr>\n",
              "      <th>4</th>\n",
              "      <td>Akron</td>\n",
              "      <td>21446</td>\n",
              "      <td>1153875</td>\n",
              "      <td>11774.93</td>\n",
              "      <td>17665.61</td>\n",
              "      <td>11103</td>\n",
              "      <td>122548.52</td>\n",
              "      <td>9732.39</td>\n",
              "      <td>2566.85</td>\n",
              "      <td>9717</td>\n",
              "      <td>2984499</td>\n",
              "      <td>1211</td>\n",
              "    </tr>\n",
              "    <tr>\n",
              "      <th>...</th>\n",
              "      <td>...</td>\n",
              "      <td>...</td>\n",
              "      <td>...</td>\n",
              "      <td>...</td>\n",
              "      <td>...</td>\n",
              "      <td>...</td>\n",
              "      <td>...</td>\n",
              "      <td>...</td>\n",
              "      <td>...</td>\n",
              "      <td>...</td>\n",
              "      <td>...</td>\n",
              "      <td>...</td>\n",
              "    </tr>\n",
              "    <tr>\n",
              "      <th>421</th>\n",
              "      <td>Winterset</td>\n",
              "      <td>271592</td>\n",
              "      <td>22320665</td>\n",
              "      <td>239965.31</td>\n",
              "      <td>359995.59</td>\n",
              "      <td>187732</td>\n",
              "      <td>2490867.27</td>\n",
              "      <td>183025.29</td>\n",
              "      <td>48286.64</td>\n",
              "      <td>161111</td>\n",
              "      <td>47106639</td>\n",
              "      <td>92992</td>\n",
              "    </tr>\n",
              "    <tr>\n",
              "      <th>422</th>\n",
              "      <td>Winthrop</td>\n",
              "      <td>9060</td>\n",
              "      <td>1012250</td>\n",
              "      <td>10089.09</td>\n",
              "      <td>15135.89</td>\n",
              "      <td>7148</td>\n",
              "      <td>114215.76</td>\n",
              "      <td>7983.50</td>\n",
              "      <td>2107.30</td>\n",
              "      <td>5787</td>\n",
              "      <td>1781853</td>\n",
              "      <td>243</td>\n",
              "    </tr>\n",
              "    <tr>\n",
              "      <th>423</th>\n",
              "      <td>Woodbine</td>\n",
              "      <td>37863</td>\n",
              "      <td>3300300</td>\n",
              "      <td>32250.51</td>\n",
              "      <td>48383.11</td>\n",
              "      <td>13569</td>\n",
              "      <td>169508.48</td>\n",
              "      <td>13244.45</td>\n",
              "      <td>3485.73</td>\n",
              "      <td>25210</td>\n",
              "      <td>7143507</td>\n",
              "      <td>2370</td>\n",
              "    </tr>\n",
              "    <tr>\n",
              "      <th>424</th>\n",
              "      <td>Woodward</td>\n",
              "      <td>17795</td>\n",
              "      <td>1026150</td>\n",
              "      <td>11059.33</td>\n",
              "      <td>16592.03</td>\n",
              "      <td>9155</td>\n",
              "      <td>97322.36</td>\n",
              "      <td>6700.88</td>\n",
              "      <td>1765.47</td>\n",
              "      <td>8690</td>\n",
              "      <td>2663769</td>\n",
              "      <td>4275</td>\n",
              "    </tr>\n",
              "    <tr>\n",
              "      <th>425</th>\n",
              "      <td>Zwingle</td>\n",
              "      <td>12340</td>\n",
              "      <td>687550</td>\n",
              "      <td>7171.28</td>\n",
              "      <td>10758.70</td>\n",
              "      <td>10356</td>\n",
              "      <td>91670.14</td>\n",
              "      <td>6480.18</td>\n",
              "      <td>1709.88</td>\n",
              "      <td>5362</td>\n",
              "      <td>1664899</td>\n",
              "      <td>91</td>\n",
              "    </tr>\n",
              "  </tbody>\n",
              "</table>\n",
              "<p>426 rows × 12 columns</p>\n",
              "</div>"
            ],
            "text/plain": [
              "          city    pack  bottle_volume_ml  ...   month      year  day_of_week_num\n",
              "0       Ackley   31177           2634475  ...   17763   5381751             8909\n",
              "1        Adair   20173           1211795  ...   11190   3126121             2376\n",
              "2         Adel  108778           8005550  ...   60485  18271135            16547\n",
              "3        Afton    8109            999425  ...    5167   1598228             3166\n",
              "4        Akron   21446           1153875  ...    9717   2984499             1211\n",
              "..         ...     ...               ...  ...     ...       ...              ...\n",
              "421  Winterset  271592          22320665  ...  161111  47106639            92992\n",
              "422   Winthrop    9060           1012250  ...    5787   1781853              243\n",
              "423   Woodbine   37863           3300300  ...   25210   7143507             2370\n",
              "424   Woodward   17795           1026150  ...    8690   2663769             4275\n",
              "425    Zwingle   12340            687550  ...    5362   1664899               91\n",
              "\n",
              "[426 rows x 12 columns]"
            ]
          },
          "metadata": {
            "tags": []
          },
          "execution_count": 26
        }
      ]
    },
    {
      "cell_type": "code",
      "metadata": {
        "id": "wQTpNxT9k9yJ",
        "colab_type": "code",
        "colab": {}
      },
      "source": [
        ""
      ],
      "execution_count": 0,
      "outputs": []
    },
    {
      "cell_type": "code",
      "metadata": {
        "id": "Tn-VSg9nk8i-",
        "colab_type": "code",
        "colab": {}
      },
      "source": [
        ""
      ],
      "execution_count": 0,
      "outputs": []
    },
    {
      "cell_type": "code",
      "metadata": {
        "id": "NWWP7c2mm1jN",
        "colab_type": "code",
        "colab": {}
      },
      "source": [
        "# by_date = df.groupby(['date']).sum().reset_index()\n",
        "# by_date = by_date[['date','sale_dollars','volume_sold_liters']].sort_values(by='date')\n",
        "# by_date['week_start'] = by_date['date'].dt.to_period('W').apply(lambda r: r.start_time)\n",
        "# by_date['day_of_week'] = by_date['date'].dt.dayofweek +1\n",
        "# by_date"
      ],
      "execution_count": 0,
      "outputs": []
    },
    {
      "cell_type": "code",
      "metadata": {
        "id": "-xGAX4FxVFCG",
        "colab_type": "code",
        "outputId": "740a9850-4626-4020-b82f-617a0556f60d",
        "colab": {
          "base_uri": "https://localhost:8080/",
          "height": 586
        }
      },
      "source": [
        "from matplotlib import pyplot\n",
        "ax = by_month_short.plot(x=\"month\", y=\"sale_dollars\", legend=False)\n",
        "ax.figure.legend()\n",
        "by_month_short.plot()"
      ],
      "execution_count": 0,
      "outputs": [
        {
          "output_type": "execute_result",
          "data": {
            "text/plain": [
              "<matplotlib.axes._subplots.AxesSubplot at 0x7fc34581e0f0>"
            ]
          },
          "metadata": {
            "tags": []
          },
          "execution_count": 24
        },
        {
          "output_type": "display_data",
          "data": {
            "image/png": "[encoded data removed]",
            "text/plain": [
              "<Figure size 432x288 with 1 Axes>"
            ]
          },
          "metadata": {
            "tags": []
          }
        },
        {
          "output_type": "display_data",
          "data": {
            "image/png": "[encoded data removed]",
            "text/plain": [
              "<Figure size 432x288 with 1 Axes>"
            ]
          },
          "metadata": {
            "tags": []
          }
        }
      ]
    },
    {
      "cell_type": "code",
      "metadata": {
        "id": "YI7Cw9flmGOt",
        "colab_type": "code",
        "colab": {}
      },
      "source": [
        ""
      ],
      "execution_count": 0,
      "outputs": []
    },
    {
      "cell_type": "code",
      "metadata": {
        "id": "on7u3c67lNuF",
        "colab_type": "code",
        "colab": {}
      },
      "source": [
        "import numpy as np\n",
        "import matplotlib.pyplot as plt\n",
        "\n",
        "# Create some mock data\n",
        "# t = np.arange(0.01, 10.0, 0.01)\n",
        "# data1 = np.exp(t)\n",
        "# data2 = np.sin(2 * np.pi * t)\n",
        "\n",
        "fig, ax1 = plt.subplots()\n",
        "\n",
        "color = 'tab:red'\n",
        "ax1.set_xlabel('date')\n",
        "ax1.set_ylabel('sale_dollars', color=color)\n",
        "ax1.plot(t, data1, color=color)\n",
        "ax1.tick_params(axis='y', labelcolor=color)\n",
        "\n",
        "ax2 = ax1.twinx()  # instantiate a second axes that shares the same x-axis\n",
        "\n",
        "color = 'tab:blue'\n",
        "ax2.set_ylabel('sin', color=color)  # we already handled the x-label with ax1\n",
        "ax2.plot(t, data2, color=color)\n",
        "ax2.tick_params(axis='y', labelcolor=color)\n",
        "\n",
        "fig.tight_layout()  # otherwise the right y-label is slightly clipped\n",
        "plt.show()"
      ],
      "execution_count": 0,
      "outputs": []
    },
    {
      "cell_type": "code",
      "metadata": {
        "id": "ACTpjPk4n4ua",
        "colab_type": "code",
        "outputId": "8a4307f0-1ed2-4daa-ca8a-00c1b8aa11c7",
        "colab": {
          "base_uri": "https://localhost:8080/",
          "height": 692
        }
      },
      "source": [
        "by_date = df.groupby(['date']).sum().reset_index()\n",
        "by_date = by_date[['date','sale_dollars','volume_sold_liters']].sort_values(by='date')\n",
        "\n",
        "#by_date['week_start'] = by_date['date'].dt.to_period('W').apply(lambda r: r.start_time)\n",
        "by_date"
      ],
      "execution_count": 0,
      "outputs": [
        {
          "output_type": "execute_result",
          "data": {
            "text/html": [
              "<div>\n",
              "<style scoped>\n",
              "    .dataframe tbody tr th:only-of-type {\n",
              "        vertical-align: middle;\n",
              "    }\n",
              "\n",
              "    .dataframe tbody tr th {\n",
              "        vertical-align: top;\n",
              "    }\n",
              "\n",
              "    .dataframe thead th {\n",
              "        text-align: right;\n",
              "    }\n",
              "</style>\n",
              "<table border=\"1\" class=\"dataframe\">\n",
              "  <thead>\n",
              "    <tr style=\"text-align: right;\">\n",
              "      <th></th>\n",
              "      <th>date</th>\n",
              "      <th>sale_dollars</th>\n",
              "      <th>volume_sold_liters</th>\n",
              "    </tr>\n",
              "  </thead>\n",
              "  <tbody>\n",
              "    <tr>\n",
              "      <th>0</th>\n",
              "      <td>2019-12-02</td>\n",
              "      <td>1227092.23</td>\n",
              "      <td>73620.88</td>\n",
              "    </tr>\n",
              "    <tr>\n",
              "      <th>1</th>\n",
              "      <td>2019-12-03</td>\n",
              "      <td>1687577.07</td>\n",
              "      <td>98176.06</td>\n",
              "    </tr>\n",
              "    <tr>\n",
              "      <th>2</th>\n",
              "      <td>2019-12-04</td>\n",
              "      <td>1575625.04</td>\n",
              "      <td>93691.67</td>\n",
              "    </tr>\n",
              "    <tr>\n",
              "      <th>3</th>\n",
              "      <td>2019-12-05</td>\n",
              "      <td>1432555.03</td>\n",
              "      <td>79316.29</td>\n",
              "    </tr>\n",
              "    <tr>\n",
              "      <th>4</th>\n",
              "      <td>2019-12-06</td>\n",
              "      <td>1560474.12</td>\n",
              "      <td>98185.59</td>\n",
              "    </tr>\n",
              "    <tr>\n",
              "      <th>5</th>\n",
              "      <td>2019-12-09</td>\n",
              "      <td>1581530.33</td>\n",
              "      <td>95999.07</td>\n",
              "    </tr>\n",
              "    <tr>\n",
              "      <th>6</th>\n",
              "      <td>2019-12-10</td>\n",
              "      <td>1680746.95</td>\n",
              "      <td>103074.72</td>\n",
              "    </tr>\n",
              "    <tr>\n",
              "      <th>7</th>\n",
              "      <td>2019-12-11</td>\n",
              "      <td>1622221.53</td>\n",
              "      <td>94452.70</td>\n",
              "    </tr>\n",
              "    <tr>\n",
              "      <th>8</th>\n",
              "      <td>2019-12-12</td>\n",
              "      <td>1243708.82</td>\n",
              "      <td>71425.35</td>\n",
              "    </tr>\n",
              "    <tr>\n",
              "      <th>9</th>\n",
              "      <td>2019-12-13</td>\n",
              "      <td>1514251.65</td>\n",
              "      <td>96765.26</td>\n",
              "    </tr>\n",
              "    <tr>\n",
              "      <th>10</th>\n",
              "      <td>2019-12-16</td>\n",
              "      <td>1690129.71</td>\n",
              "      <td>102032.36</td>\n",
              "    </tr>\n",
              "    <tr>\n",
              "      <th>11</th>\n",
              "      <td>2019-12-17</td>\n",
              "      <td>1824340.72</td>\n",
              "      <td>111736.91</td>\n",
              "    </tr>\n",
              "    <tr>\n",
              "      <th>12</th>\n",
              "      <td>2019-12-18</td>\n",
              "      <td>1815677.17</td>\n",
              "      <td>103839.80</td>\n",
              "    </tr>\n",
              "    <tr>\n",
              "      <th>13</th>\n",
              "      <td>2019-12-19</td>\n",
              "      <td>1461052.54</td>\n",
              "      <td>81519.47</td>\n",
              "    </tr>\n",
              "    <tr>\n",
              "      <th>14</th>\n",
              "      <td>2019-12-20</td>\n",
              "      <td>1879842.37</td>\n",
              "      <td>114913.21</td>\n",
              "    </tr>\n",
              "    <tr>\n",
              "      <th>15</th>\n",
              "      <td>2019-12-23</td>\n",
              "      <td>1379110.60</td>\n",
              "      <td>75063.13</td>\n",
              "    </tr>\n",
              "    <tr>\n",
              "      <th>16</th>\n",
              "      <td>2019-12-24</td>\n",
              "      <td>1778074.93</td>\n",
              "      <td>102272.01</td>\n",
              "    </tr>\n",
              "    <tr>\n",
              "      <th>17</th>\n",
              "      <td>2019-12-26</td>\n",
              "      <td>1944481.89</td>\n",
              "      <td>113819.93</td>\n",
              "    </tr>\n",
              "    <tr>\n",
              "      <th>18</th>\n",
              "      <td>2019-12-27</td>\n",
              "      <td>1804352.98</td>\n",
              "      <td>104422.75</td>\n",
              "    </tr>\n",
              "    <tr>\n",
              "      <th>19</th>\n",
              "      <td>2019-12-28</td>\n",
              "      <td>1060994.02</td>\n",
              "      <td>64903.67</td>\n",
              "    </tr>\n",
              "    <tr>\n",
              "      <th>20</th>\n",
              "      <td>2019-12-30</td>\n",
              "      <td>1417335.02</td>\n",
              "      <td>81557.42</td>\n",
              "    </tr>\n",
              "    <tr>\n",
              "      <th>21</th>\n",
              "      <td>2019-12-31</td>\n",
              "      <td>1337181.32</td>\n",
              "      <td>80330.61</td>\n",
              "    </tr>\n",
              "  </tbody>\n",
              "</table>\n",
              "</div>"
            ],
            "text/plain": [
              "          date  sale_dollars  volume_sold_liters\n",
              "0   2019-12-02    1227092.23            73620.88\n",
              "1   2019-12-03    1687577.07            98176.06\n",
              "2   2019-12-04    1575625.04            93691.67\n",
              "3   2019-12-05    1432555.03            79316.29\n",
              "4   2019-12-06    1560474.12            98185.59\n",
              "5   2019-12-09    1581530.33            95999.07\n",
              "6   2019-12-10    1680746.95           103074.72\n",
              "7   2019-12-11    1622221.53            94452.70\n",
              "8   2019-12-12    1243708.82            71425.35\n",
              "9   2019-12-13    1514251.65            96765.26\n",
              "10  2019-12-16    1690129.71           102032.36\n",
              "11  2019-12-17    1824340.72           111736.91\n",
              "12  2019-12-18    1815677.17           103839.80\n",
              "13  2019-12-19    1461052.54            81519.47\n",
              "14  2019-12-20    1879842.37           114913.21\n",
              "15  2019-12-23    1379110.60            75063.13\n",
              "16  2019-12-24    1778074.93           102272.01\n",
              "17  2019-12-26    1944481.89           113819.93\n",
              "18  2019-12-27    1804352.98           104422.75\n",
              "19  2019-12-28    1060994.02            64903.67\n",
              "20  2019-12-30    1417335.02            81557.42\n",
              "21  2019-12-31    1337181.32            80330.61"
            ]
          },
          "metadata": {
            "tags": []
          },
          "execution_count": 72
        }
      ]
    },
    {
      "cell_type": "code",
      "metadata": {
        "id": "UmnT6MkX3_Jd",
        "colab_type": "code",
        "outputId": "42684310-bd3d-4aaf-e565-cfa973a5f314",
        "colab": {
          "base_uri": "https://localhost:8080/",
          "height": 124
        }
      },
      "source": [
        "print(df['category_name'].value_counts().head(5))"
      ],
      "execution_count": 0,
      "outputs": [
        {
          "output_type": "stream",
          "text": [
            "Temporary & Specialty Packages    1688\n",
            "Imported Dry Gins                 1458\n",
            "Single Malt Scotch                 909\n",
            "Gold Rum                           859\n",
            "Straight Rye Whiskies              774\n",
            "Name: category_name, dtype: int64\n"
          ],
          "name": "stdout"
        }
      ]
    },
    {
      "cell_type": "code",
      "metadata": {
        "id": "EOy8Ddox4o11",
        "colab_type": "code",
        "outputId": "5030b1f5-20cd-4313-9fc9-8ce7c2b06bdf",
        "colab": {
          "base_uri": "https://localhost:8080/",
          "height": 124
        }
      },
      "source": [
        "df['city'].value_counts().head(5)"
      ],
      "execution_count": 0,
      "outputs": [
        {
          "output_type": "stream",
          "text": [
            "Des Moines      849\n",
            "Cedar Rapids    624\n",
            "Davenport       321\n",
            "Cedar Falls     297\n",
            "Sioux City      296\n",
            "Name: city, dtype: int64\n"
          ],
          "name": "stdout"
        }
      ]
    },
    {
      "cell_type": "code",
      "metadata": {
        "id": "37jLO4Zw49e0",
        "colab_type": "code",
        "colab": {}
      },
      "source": [
        "for city in top_5_cities.index:\n",
        "    print(city + '\\t: ' + str(round(df.loc[df['city'] == city, 'volume_sold_liters'].sum())))"
      ],
      "execution_count": 0,
      "outputs": []
    },
    {
      "cell_type": "code",
      "metadata": {
        "id": "Lq-ZSGNxzJ2m",
        "colab_type": "code",
        "outputId": "6b69f37e-d0cf-41c8-a28d-9fb604559fbe",
        "colab": {
          "base_uri": "https://localhost:8080/",
          "height": 824
        }
      },
      "source": [
        "df"
      ],
      "execution_count": 0,
      "outputs": [
        {
          "output_type": "execute_result",
          "data": {
            "text/html": [
              "<div>\n",
              "<style scoped>\n",
              "    .dataframe tbody tr th:only-of-type {\n",
              "        vertical-align: middle;\n",
              "    }\n",
              "\n",
              "    .dataframe tbody tr th {\n",
              "        vertical-align: top;\n",
              "    }\n",
              "\n",
              "    .dataframe thead th {\n",
              "        text-align: right;\n",
              "    }\n",
              "</style>\n",
              "<table border=\"1\" class=\"dataframe\">\n",
              "  <thead>\n",
              "    <tr style=\"text-align: right;\">\n",
              "      <th></th>\n",
              "      <th>invoice_and_item_number</th>\n",
              "      <th>date</th>\n",
              "      <th>store_number</th>\n",
              "      <th>store_name</th>\n",
              "      <th>address</th>\n",
              "      <th>city</th>\n",
              "      <th>zip_code</th>\n",
              "      <th>store_location</th>\n",
              "      <th>county_number</th>\n",
              "      <th>county</th>\n",
              "      <th>category</th>\n",
              "      <th>category_name</th>\n",
              "      <th>vendor_number</th>\n",
              "      <th>vendor_name</th>\n",
              "      <th>item_number</th>\n",
              "      <th>item_description</th>\n",
              "      <th>pack</th>\n",
              "      <th>bottle_volume_ml</th>\n",
              "      <th>state_bottle_cost</th>\n",
              "      <th>state_bottle_retail</th>\n",
              "      <th>bottles_sold</th>\n",
              "      <th>sale_dollars</th>\n",
              "      <th>volume_sold_liters</th>\n",
              "      <th>volume_sold_gallons</th>\n",
              "    </tr>\n",
              "  </thead>\n",
              "  <tbody>\n",
              "    <tr>\n",
              "      <th>0</th>\n",
              "      <td>INV-23082500005</td>\n",
              "      <td>2019-11-07</td>\n",
              "      <td>3670</td>\n",
              "      <td>Wal-Mart 2827 / Coralville</td>\n",
              "      <td>2801 Commerce Dr</td>\n",
              "      <td>Coralville</td>\n",
              "      <td>52241</td>\n",
              "      <td>POINT (-91.610774 41.695806)</td>\n",
              "      <td>52</td>\n",
              "      <td>JOHNSON</td>\n",
              "      <td>1701100</td>\n",
              "      <td>Temporary &amp; Specialty Packages</td>\n",
              "      <td>065</td>\n",
              "      <td>Jim Beam Brands</td>\n",
              "      <td>100636</td>\n",
              "      <td>Jim Beam Mini 12 Seasons</td>\n",
              "      <td>6</td>\n",
              "      <td>600</td>\n",
              "      <td>6.50</td>\n",
              "      <td>9.75</td>\n",
              "      <td>72</td>\n",
              "      <td>702.00</td>\n",
              "      <td>43.20</td>\n",
              "      <td>11.41</td>\n",
              "    </tr>\n",
              "    <tr>\n",
              "      <th>1</th>\n",
              "      <td>INV-20971900006</td>\n",
              "      <td>2019-07-31</td>\n",
              "      <td>2653</td>\n",
              "      <td>Hy-Vee Wine and Spirits / Washington</td>\n",
              "      <td>1004 W Madison St</td>\n",
              "      <td>Washington</td>\n",
              "      <td>52353</td>\n",
              "      <td>POINT (-91.704567 41.296576)</td>\n",
              "      <td>92</td>\n",
              "      <td>WASHINGTON</td>\n",
              "      <td>1701100</td>\n",
              "      <td>Temporary &amp; Specialty Packages</td>\n",
              "      <td>370</td>\n",
              "      <td>PERNOD RICARD USA</td>\n",
              "      <td>15727</td>\n",
              "      <td>Jameson Caskmates Stout Mini</td>\n",
              "      <td>10</td>\n",
              "      <td>50</td>\n",
              "      <td>7.92</td>\n",
              "      <td>11.88</td>\n",
              "      <td>1</td>\n",
              "      <td>11.88</td>\n",
              "      <td>0.05</td>\n",
              "      <td>0.01</td>\n",
              "    </tr>\n",
              "    <tr>\n",
              "      <th>2</th>\n",
              "      <td>INV-23762600005</td>\n",
              "      <td>2019-12-09</td>\n",
              "      <td>5476</td>\n",
              "      <td>Eldridge Mart</td>\n",
              "      <td>209 E LeClaire Rd</td>\n",
              "      <td>Eldridge</td>\n",
              "      <td>52748</td>\n",
              "      <td>POINT (-90.58154 41.654676)</td>\n",
              "      <td>82</td>\n",
              "      <td>SCOTT</td>\n",
              "      <td>1701100</td>\n",
              "      <td>Temporary &amp; Specialty Packages</td>\n",
              "      <td>434</td>\n",
              "      <td>LUXCO INC</td>\n",
              "      <td>100503</td>\n",
              "      <td>St Brendans w/3-50mls</td>\n",
              "      <td>6</td>\n",
              "      <td>900</td>\n",
              "      <td>7.69</td>\n",
              "      <td>11.54</td>\n",
              "      <td>6</td>\n",
              "      <td>69.24</td>\n",
              "      <td>5.40</td>\n",
              "      <td>1.42</td>\n",
              "    </tr>\n",
              "    <tr>\n",
              "      <th>3</th>\n",
              "      <td>INV-23402500006</td>\n",
              "      <td>2019-11-22</td>\n",
              "      <td>4023</td>\n",
              "      <td>Wal-Mart 1389 / Boone</td>\n",
              "      <td>1515 SE Marshall St</td>\n",
              "      <td>Boone</td>\n",
              "      <td>50036</td>\n",
              "      <td>POINT (-93.869892 42.035093)</td>\n",
              "      <td>8</td>\n",
              "      <td>BOONE</td>\n",
              "      <td>1701100</td>\n",
              "      <td>Temporary &amp; Specialty Packages</td>\n",
              "      <td>260</td>\n",
              "      <td>DIAGEO AMERICAS</td>\n",
              "      <td>43777</td>\n",
              "      <td>Captain Morgan Gingerbread Spiced Rum</td>\n",
              "      <td>12</td>\n",
              "      <td>750</td>\n",
              "      <td>9.06</td>\n",
              "      <td>13.59</td>\n",
              "      <td>24</td>\n",
              "      <td>326.16</td>\n",
              "      <td>18.00</td>\n",
              "      <td>4.75</td>\n",
              "    </tr>\n",
              "    <tr>\n",
              "      <th>4</th>\n",
              "      <td>INV-16717000001</td>\n",
              "      <td>2019-01-03</td>\n",
              "      <td>4070</td>\n",
              "      <td>Grieder Beverage Depot</td>\n",
              "      <td>708  13th St</td>\n",
              "      <td>Belle Plaine</td>\n",
              "      <td>52208</td>\n",
              "      <td>POINT (-92.278 41.897054)</td>\n",
              "      <td>6</td>\n",
              "      <td>BENTON</td>\n",
              "      <td>1901200</td>\n",
              "      <td>Special Order Items</td>\n",
              "      <td>370</td>\n",
              "      <td>PERNOD RICARD USA</td>\n",
              "      <td>902780</td>\n",
              "      <td>SOOH Hiram Walker Cherry Brandy</td>\n",
              "      <td>12</td>\n",
              "      <td>1000</td>\n",
              "      <td>6.50</td>\n",
              "      <td>9.75</td>\n",
              "      <td>60</td>\n",
              "      <td>585.00</td>\n",
              "      <td>60.00</td>\n",
              "      <td>15.85</td>\n",
              "    </tr>\n",
              "    <tr>\n",
              "      <th>...</th>\n",
              "      <td>...</td>\n",
              "      <td>...</td>\n",
              "      <td>...</td>\n",
              "      <td>...</td>\n",
              "      <td>...</td>\n",
              "      <td>...</td>\n",
              "      <td>...</td>\n",
              "      <td>...</td>\n",
              "      <td>...</td>\n",
              "      <td>...</td>\n",
              "      <td>...</td>\n",
              "      <td>...</td>\n",
              "      <td>...</td>\n",
              "      <td>...</td>\n",
              "      <td>...</td>\n",
              "      <td>...</td>\n",
              "      <td>...</td>\n",
              "      <td>...</td>\n",
              "      <td>...</td>\n",
              "      <td>...</td>\n",
              "      <td>...</td>\n",
              "      <td>...</td>\n",
              "      <td>...</td>\n",
              "      <td>...</td>\n",
              "    </tr>\n",
              "    <tr>\n",
              "      <th>9995</th>\n",
              "      <td>INV-20527500025</td>\n",
              "      <td>2019-07-10</td>\n",
              "      <td>5776</td>\n",
              "      <td>Casey's General Store #2890 / West Liberty</td>\n",
              "      <td>402 W 15th St</td>\n",
              "      <td>West Liberty</td>\n",
              "      <td>52776</td>\n",
              "      <td>POINT (-91.266302 41.583271)</td>\n",
              "      <td>70</td>\n",
              "      <td>MUSCATINE</td>\n",
              "      <td>1042100</td>\n",
              "      <td>Imported Dry Gins</td>\n",
              "      <td>260</td>\n",
              "      <td>DIAGEO AMERICAS</td>\n",
              "      <td>28865</td>\n",
              "      <td>Tanqueray Gin</td>\n",
              "      <td>24</td>\n",
              "      <td>375</td>\n",
              "      <td>6.99</td>\n",
              "      <td>10.49</td>\n",
              "      <td>6</td>\n",
              "      <td>62.94</td>\n",
              "      <td>2.25</td>\n",
              "      <td>0.59</td>\n",
              "    </tr>\n",
              "    <tr>\n",
              "      <th>9996</th>\n",
              "      <td>INV-21226700026</td>\n",
              "      <td>2019-08-14</td>\n",
              "      <td>5750</td>\n",
              "      <td>Casey's General Store #2920 / Ankeny</td>\n",
              "      <td>1010 SE National Dr</td>\n",
              "      <td>Ankeny</td>\n",
              "      <td>50021</td>\n",
              "      <td>POINT (-93.582014 41.70486400000001)</td>\n",
              "      <td>77</td>\n",
              "      <td>POLK</td>\n",
              "      <td>1042100</td>\n",
              "      <td>Imported Dry Gins</td>\n",
              "      <td>260</td>\n",
              "      <td>DIAGEO AMERICAS</td>\n",
              "      <td>28865</td>\n",
              "      <td>Tanqueray Gin</td>\n",
              "      <td>24</td>\n",
              "      <td>375</td>\n",
              "      <td>6.99</td>\n",
              "      <td>10.49</td>\n",
              "      <td>6</td>\n",
              "      <td>62.94</td>\n",
              "      <td>2.25</td>\n",
              "      <td>0.59</td>\n",
              "    </tr>\n",
              "    <tr>\n",
              "      <th>9997</th>\n",
              "      <td>INV-17430000059</td>\n",
              "      <td>2019-02-08</td>\n",
              "      <td>5697</td>\n",
              "      <td>Casey's #3770 - Glenwood</td>\n",
              "      <td>601 S Locust Street</td>\n",
              "      <td>Glenwood</td>\n",
              "      <td>51534</td>\n",
              "      <td>POINT (-95.744501 41.040507)</td>\n",
              "      <td>65</td>\n",
              "      <td>MILLS</td>\n",
              "      <td>1042100</td>\n",
              "      <td>Imported Dry Gins</td>\n",
              "      <td>260</td>\n",
              "      <td>DIAGEO AMERICAS</td>\n",
              "      <td>28865</td>\n",
              "      <td>Tanqueray Gin</td>\n",
              "      <td>24</td>\n",
              "      <td>375</td>\n",
              "      <td>6.99</td>\n",
              "      <td>10.49</td>\n",
              "      <td>6</td>\n",
              "      <td>62.94</td>\n",
              "      <td>2.25</td>\n",
              "      <td>0.59</td>\n",
              "    </tr>\n",
              "    <tr>\n",
              "      <th>9998</th>\n",
              "      <td>INV-22645400021</td>\n",
              "      <td>2019-10-18</td>\n",
              "      <td>5864</td>\n",
              "      <td>Casey's General Store #2803 / Villisca</td>\n",
              "      <td>309 N U Ave</td>\n",
              "      <td>Villisca</td>\n",
              "      <td>50864</td>\n",
              "      <td>POINT (-94.985437 40.934673)</td>\n",
              "      <td>69</td>\n",
              "      <td>MONTGOMERY</td>\n",
              "      <td>1042100</td>\n",
              "      <td>Imported Dry Gins</td>\n",
              "      <td>260</td>\n",
              "      <td>DIAGEO AMERICAS</td>\n",
              "      <td>28865</td>\n",
              "      <td>Tanqueray Gin</td>\n",
              "      <td>24</td>\n",
              "      <td>375</td>\n",
              "      <td>6.99</td>\n",
              "      <td>10.49</td>\n",
              "      <td>6</td>\n",
              "      <td>62.94</td>\n",
              "      <td>2.25</td>\n",
              "      <td>0.59</td>\n",
              "    </tr>\n",
              "    <tr>\n",
              "      <th>9999</th>\n",
              "      <td>INV-22790400019</td>\n",
              "      <td>2019-10-25</td>\n",
              "      <td>2635</td>\n",
              "      <td>Hy-Vee #4 / Davenport</td>\n",
              "      <td>4064 E 53rd St</td>\n",
              "      <td>Davenport</td>\n",
              "      <td>52807</td>\n",
              "      <td>POINT (-90.513769 41.574973)</td>\n",
              "      <td>82</td>\n",
              "      <td>SCOTT</td>\n",
              "      <td>1042100</td>\n",
              "      <td>Imported Dry Gins</td>\n",
              "      <td>260</td>\n",
              "      <td>DIAGEO AMERICAS</td>\n",
              "      <td>28865</td>\n",
              "      <td>Tanqueray Gin</td>\n",
              "      <td>24</td>\n",
              "      <td>375</td>\n",
              "      <td>6.99</td>\n",
              "      <td>10.49</td>\n",
              "      <td>6</td>\n",
              "      <td>62.94</td>\n",
              "      <td>2.25</td>\n",
              "      <td>0.59</td>\n",
              "    </tr>\n",
              "  </tbody>\n",
              "</table>\n",
              "<p>8854 rows × 24 columns</p>\n",
              "</div>"
            ],
            "text/plain": [
              "     invoice_and_item_number  ... volume_sold_gallons\n",
              "0            INV-23082500005  ...               11.41\n",
              "1            INV-20971900006  ...                0.01\n",
              "2            INV-23762600005  ...                1.42\n",
              "3            INV-23402500006  ...                4.75\n",
              "4            INV-16717000001  ...               15.85\n",
              "...                      ...  ...                 ...\n",
              "9995         INV-20527500025  ...                0.59\n",
              "9996         INV-21226700026  ...                0.59\n",
              "9997         INV-17430000059  ...                0.59\n",
              "9998         INV-22645400021  ...                0.59\n",
              "9999         INV-22790400019  ...                0.59\n",
              "\n",
              "[8854 rows x 24 columns]"
            ]
          },
          "metadata": {
            "tags": []
          },
          "execution_count": 16
        }
      ]
    },
    {
      "cell_type": "code",
      "metadata": {
        "id": "jNcpXb2_37a2",
        "colab_type": "code",
        "colab": {}
      },
      "source": [
        ""
      ],
      "execution_count": 0,
      "outputs": []
    }
  ]
}