{
  "nbformat": 4,
  "nbformat_minor": 0,
  "metadata": {
    "colab": {
      "name": "EDA_iowa.ipynb",
      "provenance": [],
      "collapsed_sections": [],
      "authorship_tag": "ABX9TyNWvsHfZJ/quDYcZTIATmjd",
      "include_colab_link": true
    },
    "kernelspec": {
      "name": "python3",
      "display_name": "Python 3"
    }
  },
  "cells": [
    {
      "cell_type": "markdown",
      "metadata": {
        "id": "view-in-github",
        "colab_type": "text"
      },
      "source": [
        "<a href=\"https://colab.research.google.com/github/polesh21/iowa_liquor_sales/blob/stage/EDA_iowa.ipynb\" target=\"_parent\"><img src=\"https://colab.research.google.com/assets/colab-badge.svg\" alt=\"Open In Colab\"/></a>"
      ]
    },
    {
      "cell_type": "markdown",
      "metadata": {
        "id": "uEk3TTXgjRZm",
        "colab_type": "text"
      },
      "source": [
        ""
      ]
    },
    {
      "cell_type": "markdown",
      "metadata": {
        "id": "fSvQVu8qjJFR",
        "colab_type": "text"
      },
      "source": [
        "# 1. Connect to Google Bigquery public data \"iows_liquor_sales\""
      ]
    },
    {
      "cell_type": "code",
      "metadata": {
        "id": "jEpZLjNalzV8",
        "colab_type": "code",
        "outputId": "71507e9d-406c-49b9-b3f6-bfe8a451419e",
        "colab": {
          "base_uri": "https://localhost:8080/",
          "height": 122
        }
      },
      "source": [
        "from google.colab import drive\n",
        "drive.mount('/content/gdrive')"
      ],
      "execution_count": 0,
      "outputs": [
        {
          "output_type": "stream",
          "text": [
            "Go to this URL in a browser: https://accounts.google.com/o/oauth2/auth?client_id=947318989803-6bn6qk8qdgf4n4g3pfee6491hc0brc4i.apps.googleusercontent.com&redirect_uri=urn%3aietf%3awg%3aoauth%3a2.0%3aoob&response_type=code&scope=email%20https%3a%2f%2fwww.googleapis.com%2fauth%2fdocs.test%20https%3a%2f%2fwww.googleapis.com%2fauth%2fdrive%20https%3a%2f%2fwww.googleapis.com%2fauth%2fdrive.photos.readonly%20https%3a%2f%2fwww.googleapis.com%2fauth%2fpeopleapi.readonly\n",
            "\n",
            "Enter your authorization code:\n",
            "··········\n",
            "Mounted at /content/gdrive\n"
          ],
          "name": "stdout"
        }
      ]
    },
    {
      "cell_type": "code",
      "metadata": {
        "colab_type": "code",
        "id": "NUzQWsLFlz6U",
        "outputId": "ad546b3a-672a-4612-dfb1-7ec48cabccd7",
        "colab": {
          "base_uri": "https://localhost:8080/",
          "height": 34
        }
      },
      "source": [
        "#ensure the file is accessible\n",
        "!ls /content/gdrive/'My Drive'/'Colab Notebooks'/temp"
      ],
      "execution_count": 0,
      "outputs": [
        {
          "output_type": "stream",
          "text": [
            "DPolieshko-0cf48e53ce74.json\n"
          ],
          "name": "stdout"
        }
      ]
    },
    {
      "cell_type": "code",
      "metadata": {
        "id": "DJH8ObvaoGA_",
        "colab_type": "code",
        "colab": {}
      },
      "source": [
        "from google.cloud import bigquery\n",
        "import os\n",
        "os.environ[\"GOOGLE_APPLICATION_CREDENTIALS\"]=\"/content/gdrive/My Drive/Colab Notebooks/temp/DPolieshko-0cf48e53ce74.json\""
      ],
      "execution_count": 0,
      "outputs": []
    },
    {
      "cell_type": "code",
      "metadata": {
        "id": "E8nrIvQcoT2E",
        "colab_type": "code",
        "outputId": "2edb9c42-7ad7-4a46-84b2-0f32e211df8c",
        "colab": {
          "base_uri": "https://localhost:8080/",
          "height": 34
        }
      },
      "source": [
        "#ensure the path is set correctly\n",
        "!echo $GOOGLE_APPLICATION_CREDENTIALS"
      ],
      "execution_count": 0,
      "outputs": [
        {
          "output_type": "stream",
          "text": [
            "/content/gdrive/My Drive/Colab Notebooks/temp/DPolieshko-0cf48e53ce74.json\n"
          ],
          "name": "stdout"
        }
      ]
    },
    {
      "cell_type": "code",
      "metadata": {
        "id": "QiA6_MBVlbPi",
        "colab_type": "code",
        "colab": {}
      },
      "source": [
        "client = bigquery.Client()"
      ],
      "execution_count": 0,
      "outputs": []
    },
    {
      "cell_type": "markdown",
      "metadata": {
        "id": "rkKXHvDhjgyO",
        "colab_type": "text"
      },
      "source": [
        "In this analysis we are going to extract data for 2017-2019:\n"
      ]
    },
    {
      "cell_type": "code",
      "metadata": {
        "id": "uHgAZ23IwoYh",
        "colab_type": "code",
        "colab": {}
      },
      "source": [
        "import pandas as pd\n",
        "import numpy as np\n",
        "\n",
        "sql = '''\n",
        "        SELECT *\n",
        "        FROM `bigquery-public-data.iowa_liquor_sales.sales`\n",
        "         where date >='2017-01-01' and date <='2019-12-31'\n",
        "        '''\n",
        "\n",
        "df = client.query(sql).to_dataframe()"
      ],
      "execution_count": 0,
      "outputs": []
    },
    {
      "cell_type": "markdown",
      "metadata": {
        "id": "ZJ4WbeSHikg0",
        "colab_type": "text"
      },
      "source": [
        "# 2. Data preparation"
      ]
    },
    {
      "cell_type": "code",
      "metadata": {
        "id": "UKGJVyGK1z_c",
        "colab_type": "code",
        "outputId": "12f9fec2-f4a0-4b5b-e85d-c0177e0a05db",
        "colab": {
          "base_uri": "https://localhost:8080/",
          "height": 173
        }
      },
      "source": [
        "df[['store_name','county','category_name','vendor_name','item_description','category_name']].describe()\n",
        " #   'bottle_volume_ml','state_bottle_cost','state_bottle_retail','bottles_sold','sale_dollars','volume_sold_liters']].describe()"
      ],
      "execution_count": 0,
      "outputs": [
        {
          "output_type": "execute_result",
          "data": {
            "text/html": [
              "<div>\n",
              "<style scoped>\n",
              "    .dataframe tbody tr th:only-of-type {\n",
              "        vertical-align: middle;\n",
              "    }\n",
              "\n",
              "    .dataframe tbody tr th {\n",
              "        vertical-align: top;\n",
              "    }\n",
              "\n",
              "    .dataframe thead th {\n",
              "        text-align: right;\n",
              "    }\n",
              "</style>\n",
              "<table border=\"1\" class=\"dataframe\">\n",
              "  <thead>\n",
              "    <tr style=\"text-align: right;\">\n",
              "      <th></th>\n",
              "      <th>store_name</th>\n",
              "      <th>county</th>\n",
              "      <th>category_name</th>\n",
              "      <th>vendor_name</th>\n",
              "      <th>item_description</th>\n",
              "      <th>category_name</th>\n",
              "    </tr>\n",
              "  </thead>\n",
              "  <tbody>\n",
              "    <tr>\n",
              "      <th>count</th>\n",
              "      <td>7027179</td>\n",
              "      <td>6977246</td>\n",
              "      <td>7019110</td>\n",
              "      <td>7027176</td>\n",
              "      <td>7027179</td>\n",
              "      <td>7019110</td>\n",
              "    </tr>\n",
              "    <tr>\n",
              "      <th>unique</th>\n",
              "      <td>2007</td>\n",
              "      <td>132</td>\n",
              "      <td>55</td>\n",
              "      <td>250</td>\n",
              "      <td>5303</td>\n",
              "      <td>55</td>\n",
              "    </tr>\n",
              "    <tr>\n",
              "      <th>top</th>\n",
              "      <td>Hy-Vee #3 / BDI / Des Moines</td>\n",
              "      <td>POLK</td>\n",
              "      <td>American Vodkas</td>\n",
              "      <td>DIAGEO AMERICAS</td>\n",
              "      <td>Black Velvet</td>\n",
              "      <td>American Vodkas</td>\n",
              "    </tr>\n",
              "    <tr>\n",
              "      <th>freq</th>\n",
              "      <td>63906</td>\n",
              "      <td>1160867</td>\n",
              "      <td>1063138</td>\n",
              "      <td>1193449</td>\n",
              "      <td>182819</td>\n",
              "      <td>1063138</td>\n",
              "    </tr>\n",
              "  </tbody>\n",
              "</table>\n",
              "</div>"
            ],
            "text/plain": [
              "                          store_name   county  ... item_description    category_name\n",
              "count                        7027179  6977246  ...          7027179          7019110\n",
              "unique                          2007      132  ...             5303               55\n",
              "top     Hy-Vee #3 / BDI / Des Moines     POLK  ...     Black Velvet  American Vodkas\n",
              "freq                           63906  1160867  ...           182819          1063138\n",
              "\n",
              "[4 rows x 6 columns]"
            ]
          },
          "metadata": {
            "tags": []
          },
          "execution_count": 8
        }
      ]
    },
    {
      "cell_type": "markdown",
      "metadata": {
        "id": "sV09YRxIioos",
        "colab_type": "text"
      },
      "source": [
        "\n",
        "Several text columns appear to have not equal number of values. That's why we need to drop na values and remove duplicates in our table"
      ]
    },
    {
      "cell_type": "code",
      "metadata": {
        "id": "7cC_wSpyT0rN",
        "colab_type": "code",
        "colab": {}
      },
      "source": [
        "df = df.dropna()\n",
        "df = df.drop_duplicates()"
      ],
      "execution_count": 0,
      "outputs": []
    },
    {
      "cell_type": "markdown",
      "metadata": {
        "id": "d3fIhribivv2",
        "colab_type": "text"
      },
      "source": [
        "\n",
        "Now we can identify most frequent values in our columns"
      ]
    },
    {
      "cell_type": "code",
      "metadata": {
        "id": "-yj95CQYkWaN",
        "colab_type": "code",
        "outputId": "adf71e74-09f6-41ae-c8a7-ed89778af772",
        "colab": {
          "base_uri": "https://localhost:8080/",
          "height": 173
        }
      },
      "source": [
        "df[['store_name','county','category_name','vendor_name','item_description','category_name']].describe()\n",
        " #   'bottle_volume_ml','state_bottle_cost','state_bottle_retail','bottles_sold','sale_dollars','volume_sold_liters']].describe()"
      ],
      "execution_count": 0,
      "outputs": [
        {
          "output_type": "execute_result",
          "data": {
            "text/html": [
              "<div>\n",
              "<style scoped>\n",
              "    .dataframe tbody tr th:only-of-type {\n",
              "        vertical-align: middle;\n",
              "    }\n",
              "\n",
              "    .dataframe tbody tr th {\n",
              "        vertical-align: top;\n",
              "    }\n",
              "\n",
              "    .dataframe thead th {\n",
              "        text-align: right;\n",
              "    }\n",
              "</style>\n",
              "<table border=\"1\" class=\"dataframe\">\n",
              "  <thead>\n",
              "    <tr style=\"text-align: right;\">\n",
              "      <th></th>\n",
              "      <th>store_name</th>\n",
              "      <th>county</th>\n",
              "      <th>category_name</th>\n",
              "      <th>vendor_name</th>\n",
              "      <th>item_description</th>\n",
              "      <th>category_name</th>\n",
              "    </tr>\n",
              "  </thead>\n",
              "  <tbody>\n",
              "    <tr>\n",
              "      <th>count</th>\n",
              "      <td>6315669</td>\n",
              "      <td>6315669</td>\n",
              "      <td>6315669</td>\n",
              "      <td>6315669</td>\n",
              "      <td>6315669</td>\n",
              "      <td>6315669</td>\n",
              "    </tr>\n",
              "    <tr>\n",
              "      <th>unique</th>\n",
              "      <td>1863</td>\n",
              "      <td>129</td>\n",
              "      <td>55</td>\n",
              "      <td>243</td>\n",
              "      <td>5090</td>\n",
              "      <td>55</td>\n",
              "    </tr>\n",
              "    <tr>\n",
              "      <th>top</th>\n",
              "      <td>Hy-Vee #3 / BDI / Des Moines</td>\n",
              "      <td>POLK</td>\n",
              "      <td>American Vodkas</td>\n",
              "      <td>DIAGEO AMERICAS</td>\n",
              "      <td>Black Velvet</td>\n",
              "      <td>American Vodkas</td>\n",
              "    </tr>\n",
              "    <tr>\n",
              "      <th>freq</th>\n",
              "      <td>63770</td>\n",
              "      <td>1032853</td>\n",
              "      <td>958487</td>\n",
              "      <td>1072822</td>\n",
              "      <td>166209</td>\n",
              "      <td>958487</td>\n",
              "    </tr>\n",
              "  </tbody>\n",
              "</table>\n",
              "</div>"
            ],
            "text/plain": [
              "                          store_name   county  ... item_description    category_name\n",
              "count                        6315669  6315669  ...          6315669          6315669\n",
              "unique                          1863      129  ...             5090               55\n",
              "top     Hy-Vee #3 / BDI / Des Moines     POLK  ...     Black Velvet  American Vodkas\n",
              "freq                           63770  1032853  ...           166209           958487\n",
              "\n",
              "[4 rows x 6 columns]"
            ]
          },
          "metadata": {
            "tags": []
          },
          "execution_count": 10
        }
      ]
    },
    {
      "cell_type": "markdown",
      "metadata": {
        "id": "WHDy-VRDi0IK",
        "colab_type": "text"
      },
      "source": [
        "Let's check data types in our table"
      ]
    },
    {
      "cell_type": "code",
      "metadata": {
        "id": "KEFhpZuZoJ11",
        "colab_type": "code",
        "outputId": "76ca0a38-9e03-4020-a806-1558ffcc67b4",
        "colab": {
          "base_uri": "https://localhost:8080/",
          "height": 510
        }
      },
      "source": [
        "df.info()"
      ],
      "execution_count": 0,
      "outputs": [
        {
          "output_type": "stream",
          "text": [
            "<class 'pandas.core.frame.DataFrame'>\n",
            "Int64Index: 6315669 entries, 0 to 7027178\n",
            "Data columns (total 24 columns):\n",
            "invoice_and_item_number    object\n",
            "date                       object\n",
            "store_number               object\n",
            "store_name                 object\n",
            "address                    object\n",
            "city                       object\n",
            "zip_code                   object\n",
            "store_location             object\n",
            "county_number              object\n",
            "county                     object\n",
            "category                   object\n",
            "category_name              object\n",
            "vendor_number              object\n",
            "vendor_name                object\n",
            "item_number                object\n",
            "item_description           object\n",
            "pack                       int64\n",
            "bottle_volume_ml           int64\n",
            "state_bottle_cost          float64\n",
            "state_bottle_retail        float64\n",
            "bottles_sold               int64\n",
            "sale_dollars               float64\n",
            "volume_sold_liters         float64\n",
            "volume_sold_gallons        float64\n",
            "dtypes: float64(5), int64(3), object(16)\n",
            "memory usage: 1.2+ GB\n"
          ],
          "name": "stdout"
        }
      ]
    },
    {
      "cell_type": "markdown",
      "metadata": {
        "id": "1WBzuaAei5LC",
        "colab_type": "text"
      },
      "source": [
        "We notice that column with dates isn't actually a date column. Let's fix it"
      ]
    },
    {
      "cell_type": "code",
      "metadata": {
        "id": "Vuiomu1uoLjO",
        "colab_type": "code",
        "outputId": "932fd315-523b-466e-c2fb-f0c1617e9e34",
        "colab": {
          "base_uri": "https://localhost:8080/",
          "height": 898
        }
      },
      "source": [
        "#convert date column to date type\n",
        "df['date']= pd.to_datetime(df['date'])\n",
        "\n",
        "#make additional columns for further analysis\n",
        "df['month'] = df['date'].dt.month\n",
        "df['year'] = df['date'].dt.year\n",
        "df['day_of_week_num'] = df['date'].dt.dayofweek\n",
        "df['day_of_week'] = df['date'].dt.weekday_name\n",
        "df"
      ],
      "execution_count": 0,
      "outputs": [
        {
          "output_type": "execute_result",
          "data": {
            "text/html": [
              "<div>\n",
              "<style scoped>\n",
              "    .dataframe tbody tr th:only-of-type {\n",
              "        vertical-align: middle;\n",
              "    }\n",
              "\n",
              "    .dataframe tbody tr th {\n",
              "        vertical-align: top;\n",
              "    }\n",
              "\n",
              "    .dataframe thead th {\n",
              "        text-align: right;\n",
              "    }\n",
              "</style>\n",
              "<table border=\"1\" class=\"dataframe\">\n",
              "  <thead>\n",
              "    <tr style=\"text-align: right;\">\n",
              "      <th></th>\n",
              "      <th>invoice_and_item_number</th>\n",
              "      <th>date</th>\n",
              "      <th>store_number</th>\n",
              "      <th>store_name</th>\n",
              "      <th>address</th>\n",
              "      <th>city</th>\n",
              "      <th>zip_code</th>\n",
              "      <th>store_location</th>\n",
              "      <th>county_number</th>\n",
              "      <th>county</th>\n",
              "      <th>category</th>\n",
              "      <th>category_name</th>\n",
              "      <th>vendor_number</th>\n",
              "      <th>vendor_name</th>\n",
              "      <th>item_number</th>\n",
              "      <th>item_description</th>\n",
              "      <th>pack</th>\n",
              "      <th>bottle_volume_ml</th>\n",
              "      <th>state_bottle_cost</th>\n",
              "      <th>state_bottle_retail</th>\n",
              "      <th>bottles_sold</th>\n",
              "      <th>sale_dollars</th>\n",
              "      <th>volume_sold_liters</th>\n",
              "      <th>volume_sold_gallons</th>\n",
              "      <th>month</th>\n",
              "      <th>year</th>\n",
              "      <th>day_of_week_num</th>\n",
              "      <th>day_of_week</th>\n",
              "    </tr>\n",
              "  </thead>\n",
              "  <tbody>\n",
              "    <tr>\n",
              "      <th>0</th>\n",
              "      <td>INV-22062200070</td>\n",
              "      <td>2019-09-23</td>\n",
              "      <td>2552</td>\n",
              "      <td>Hy-Vee Food Store #3 / Cedar Rapids</td>\n",
              "      <td>20 Wilson Avenue West</td>\n",
              "      <td>Cedar Rapids</td>\n",
              "      <td>52404</td>\n",
              "      <td>POINT (-91.658577 41.955859)</td>\n",
              "      <td>57</td>\n",
              "      <td>LINN</td>\n",
              "      <td>1081600</td>\n",
              "      <td>Whiskey Liqueur</td>\n",
              "      <td>121</td>\n",
              "      <td>COOPER SPIRITS INTERNATIONAL</td>\n",
              "      <td>74740</td>\n",
              "      <td>Slow and Low</td>\n",
              "      <td>6</td>\n",
              "      <td>750</td>\n",
              "      <td>12.17</td>\n",
              "      <td>18.26</td>\n",
              "      <td>6</td>\n",
              "      <td>118.56</td>\n",
              "      <td>4.50</td>\n",
              "      <td>1.18</td>\n",
              "      <td>9</td>\n",
              "      <td>2019</td>\n",
              "      <td>0</td>\n",
              "      <td>Monday</td>\n",
              "    </tr>\n",
              "    <tr>\n",
              "      <th>1</th>\n",
              "      <td>INV-19241400019</td>\n",
              "      <td>2019-05-08</td>\n",
              "      <td>4609</td>\n",
              "      <td>Kum &amp; Go #579 / Ankeny</td>\n",
              "      <td>165 SW Magazine Rd</td>\n",
              "      <td>Ankeny</td>\n",
              "      <td>50023</td>\n",
              "      <td>POINT (-93.602007 41.717286)</td>\n",
              "      <td>77</td>\n",
              "      <td>Polk</td>\n",
              "      <td>1081600</td>\n",
              "      <td>Whiskey Liqueur</td>\n",
              "      <td>421</td>\n",
              "      <td>SAZERAC COMPANY  INC</td>\n",
              "      <td>64865</td>\n",
              "      <td>Fireball Cinnamon Whiskey PET</td>\n",
              "      <td>12</td>\n",
              "      <td>750</td>\n",
              "      <td>8.98</td>\n",
              "      <td>13.47</td>\n",
              "      <td>6</td>\n",
              "      <td>80.82</td>\n",
              "      <td>4.50</td>\n",
              "      <td>1.18</td>\n",
              "      <td>5</td>\n",
              "      <td>2019</td>\n",
              "      <td>2</td>\n",
              "      <td>Wednesday</td>\n",
              "    </tr>\n",
              "    <tr>\n",
              "      <th>2</th>\n",
              "      <td>INV-19084500011</td>\n",
              "      <td>2019-05-01</td>\n",
              "      <td>4767</td>\n",
              "      <td>Casey's General Store #3075 / Ankeny</td>\n",
              "      <td>6981 NE 14th St</td>\n",
              "      <td>Ankeny</td>\n",
              "      <td>50023</td>\n",
              "      <td>POINT (-93.600659 41.687793000000006)</td>\n",
              "      <td>77</td>\n",
              "      <td>Polk</td>\n",
              "      <td>1081600</td>\n",
              "      <td>Whiskey Liqueur</td>\n",
              "      <td>421</td>\n",
              "      <td>SAZERAC COMPANY  INC</td>\n",
              "      <td>86884</td>\n",
              "      <td>Southern Comfort</td>\n",
              "      <td>24</td>\n",
              "      <td>375</td>\n",
              "      <td>4.78</td>\n",
              "      <td>7.17</td>\n",
              "      <td>12</td>\n",
              "      <td>86.04</td>\n",
              "      <td>4.50</td>\n",
              "      <td>1.18</td>\n",
              "      <td>5</td>\n",
              "      <td>2019</td>\n",
              "      <td>2</td>\n",
              "      <td>Wednesday</td>\n",
              "    </tr>\n",
              "    <tr>\n",
              "      <th>3</th>\n",
              "      <td>INV-22554900004</td>\n",
              "      <td>2019-10-15</td>\n",
              "      <td>4980</td>\n",
              "      <td>Pronto BP</td>\n",
              "      <td>7305 Laporte Rd</td>\n",
              "      <td>Washburn</td>\n",
              "      <td>50702</td>\n",
              "      <td>POINT (-92.264665 42.409095)</td>\n",
              "      <td>7</td>\n",
              "      <td>Black Hawk</td>\n",
              "      <td>1081600</td>\n",
              "      <td>Whiskey Liqueur</td>\n",
              "      <td>421</td>\n",
              "      <td>SAZERAC COMPANY  INC</td>\n",
              "      <td>64865</td>\n",
              "      <td>Fireball Cinnamon Whiskey PET</td>\n",
              "      <td>12</td>\n",
              "      <td>750</td>\n",
              "      <td>8.98</td>\n",
              "      <td>13.47</td>\n",
              "      <td>6</td>\n",
              "      <td>80.82</td>\n",
              "      <td>4.50</td>\n",
              "      <td>1.18</td>\n",
              "      <td>10</td>\n",
              "      <td>2019</td>\n",
              "      <td>1</td>\n",
              "      <td>Tuesday</td>\n",
              "    </tr>\n",
              "    <tr>\n",
              "      <th>4</th>\n",
              "      <td>INV-22243700017</td>\n",
              "      <td>2019-10-01</td>\n",
              "      <td>5519</td>\n",
              "      <td>Casey's General Store #3648 / Akron</td>\n",
              "      <td>80 South St</td>\n",
              "      <td>Akron</td>\n",
              "      <td>51001</td>\n",
              "      <td>POINT (-96.56323 42.823106)</td>\n",
              "      <td>75</td>\n",
              "      <td>PLYMOUTH</td>\n",
              "      <td>1081600</td>\n",
              "      <td>Whiskey Liqueur</td>\n",
              "      <td>421</td>\n",
              "      <td>SAZERAC COMPANY  INC</td>\n",
              "      <td>64865</td>\n",
              "      <td>Fireball Cinnamon Whiskey PET</td>\n",
              "      <td>12</td>\n",
              "      <td>750</td>\n",
              "      <td>8.98</td>\n",
              "      <td>13.47</td>\n",
              "      <td>6</td>\n",
              "      <td>80.82</td>\n",
              "      <td>4.50</td>\n",
              "      <td>1.18</td>\n",
              "      <td>10</td>\n",
              "      <td>2019</td>\n",
              "      <td>1</td>\n",
              "      <td>Tuesday</td>\n",
              "    </tr>\n",
              "    <tr>\n",
              "      <th>...</th>\n",
              "      <td>...</td>\n",
              "      <td>...</td>\n",
              "      <td>...</td>\n",
              "      <td>...</td>\n",
              "      <td>...</td>\n",
              "      <td>...</td>\n",
              "      <td>...</td>\n",
              "      <td>...</td>\n",
              "      <td>...</td>\n",
              "      <td>...</td>\n",
              "      <td>...</td>\n",
              "      <td>...</td>\n",
              "      <td>...</td>\n",
              "      <td>...</td>\n",
              "      <td>...</td>\n",
              "      <td>...</td>\n",
              "      <td>...</td>\n",
              "      <td>...</td>\n",
              "      <td>...</td>\n",
              "      <td>...</td>\n",
              "      <td>...</td>\n",
              "      <td>...</td>\n",
              "      <td>...</td>\n",
              "      <td>...</td>\n",
              "      <td>...</td>\n",
              "      <td>...</td>\n",
              "      <td>...</td>\n",
              "      <td>...</td>\n",
              "    </tr>\n",
              "    <tr>\n",
              "      <th>7027173</th>\n",
              "      <td>INV-10722800103</td>\n",
              "      <td>2018-03-05</td>\n",
              "      <td>2653</td>\n",
              "      <td>Hy-Vee Wine and Spirits / Washington</td>\n",
              "      <td>1004 W Madison St</td>\n",
              "      <td>Washington</td>\n",
              "      <td>52353</td>\n",
              "      <td>POINT (-91.704567 41.296576)</td>\n",
              "      <td>92</td>\n",
              "      <td>WASHINGTON</td>\n",
              "      <td>1081600</td>\n",
              "      <td>Whiskey Liqueur</td>\n",
              "      <td>260</td>\n",
              "      <td>DIAGEO AMERICAS</td>\n",
              "      <td>66203</td>\n",
              "      <td>Piehole Apple Pie</td>\n",
              "      <td>12</td>\n",
              "      <td>750</td>\n",
              "      <td>7.49</td>\n",
              "      <td>11.24</td>\n",
              "      <td>2</td>\n",
              "      <td>22.48</td>\n",
              "      <td>1.50</td>\n",
              "      <td>0.40</td>\n",
              "      <td>3</td>\n",
              "      <td>2018</td>\n",
              "      <td>0</td>\n",
              "      <td>Monday</td>\n",
              "    </tr>\n",
              "    <tr>\n",
              "      <th>7027174</th>\n",
              "      <td>INV-20525300090</td>\n",
              "      <td>2019-07-10</td>\n",
              "      <td>2605</td>\n",
              "      <td>Hy-Vee Drugstore #5 / Cedar Rapids</td>\n",
              "      <td>2001 Blairs Ferry Road NE</td>\n",
              "      <td>Cedar Rapids</td>\n",
              "      <td>52402</td>\n",
              "      <td>POINT (-91.668909 42.034799)</td>\n",
              "      <td>57</td>\n",
              "      <td>LINN</td>\n",
              "      <td>1081600</td>\n",
              "      <td>Whiskey Liqueur</td>\n",
              "      <td>421</td>\n",
              "      <td>SAZERAC COMPANY  INC</td>\n",
              "      <td>66203</td>\n",
              "      <td>Piehole Apple Pie</td>\n",
              "      <td>12</td>\n",
              "      <td>750</td>\n",
              "      <td>7.49</td>\n",
              "      <td>11.24</td>\n",
              "      <td>3</td>\n",
              "      <td>33.72</td>\n",
              "      <td>2.25</td>\n",
              "      <td>0.59</td>\n",
              "      <td>7</td>\n",
              "      <td>2019</td>\n",
              "      <td>2</td>\n",
              "      <td>Wednesday</td>\n",
              "    </tr>\n",
              "    <tr>\n",
              "      <th>7027175</th>\n",
              "      <td>INV-21878300041</td>\n",
              "      <td>2019-09-13</td>\n",
              "      <td>2612</td>\n",
              "      <td>Hy-Vee Store / Perry</td>\n",
              "      <td>1215  141 St</td>\n",
              "      <td>Perry</td>\n",
              "      <td>50220</td>\n",
              "      <td>POINT (-94.104501 41.830292)</td>\n",
              "      <td>25</td>\n",
              "      <td>DALLAS</td>\n",
              "      <td>1081600</td>\n",
              "      <td>Whiskey Liqueur</td>\n",
              "      <td>421</td>\n",
              "      <td>SAZERAC COMPANY  INC</td>\n",
              "      <td>66203</td>\n",
              "      <td>Piehole Apple Pie</td>\n",
              "      <td>12</td>\n",
              "      <td>750</td>\n",
              "      <td>7.49</td>\n",
              "      <td>11.24</td>\n",
              "      <td>3</td>\n",
              "      <td>33.72</td>\n",
              "      <td>2.25</td>\n",
              "      <td>0.59</td>\n",
              "      <td>9</td>\n",
              "      <td>2019</td>\n",
              "      <td>4</td>\n",
              "      <td>Friday</td>\n",
              "    </tr>\n",
              "    <tr>\n",
              "      <th>7027176</th>\n",
              "      <td>INV-13091200020</td>\n",
              "      <td>2018-07-06</td>\n",
              "      <td>2602</td>\n",
              "      <td>Hy-Vee Food Store / Webster City</td>\n",
              "      <td>823  2nd St</td>\n",
              "      <td>Webster City</td>\n",
              "      <td>50595</td>\n",
              "      <td>POINT (-93.825486 42.469466)</td>\n",
              "      <td>40</td>\n",
              "      <td>HAMILTON</td>\n",
              "      <td>1081600</td>\n",
              "      <td>Whiskey Liqueur</td>\n",
              "      <td>260</td>\n",
              "      <td>DIAGEO AMERICAS</td>\n",
              "      <td>66208</td>\n",
              "      <td>Piehole Cherry Pie</td>\n",
              "      <td>12</td>\n",
              "      <td>750</td>\n",
              "      <td>7.49</td>\n",
              "      <td>11.24</td>\n",
              "      <td>3</td>\n",
              "      <td>33.72</td>\n",
              "      <td>2.25</td>\n",
              "      <td>0.59</td>\n",
              "      <td>7</td>\n",
              "      <td>2018</td>\n",
              "      <td>4</td>\n",
              "      <td>Friday</td>\n",
              "    </tr>\n",
              "    <tr>\n",
              "      <th>7027177</th>\n",
              "      <td>INV-23602200116</td>\n",
              "      <td>2019-12-02</td>\n",
              "      <td>2576</td>\n",
              "      <td>Hy-Vee Wine and Spirits / Storm Lake</td>\n",
              "      <td>1250 N Lake St</td>\n",
              "      <td>Storm Lake</td>\n",
              "      <td>50588</td>\n",
              "      <td>POINT (-95.200758 42.65318400000001)</td>\n",
              "      <td>11</td>\n",
              "      <td>BUENA VIST</td>\n",
              "      <td>1081600</td>\n",
              "      <td>Whiskey Liqueur</td>\n",
              "      <td>421</td>\n",
              "      <td>SAZERAC COMPANY  INC</td>\n",
              "      <td>66213</td>\n",
              "      <td>Piehole Pecan Pie</td>\n",
              "      <td>12</td>\n",
              "      <td>750</td>\n",
              "      <td>7.49</td>\n",
              "      <td>11.24</td>\n",
              "      <td>3</td>\n",
              "      <td>33.72</td>\n",
              "      <td>2.25</td>\n",
              "      <td>0.59</td>\n",
              "      <td>12</td>\n",
              "      <td>2019</td>\n",
              "      <td>0</td>\n",
              "      <td>Monday</td>\n",
              "    </tr>\n",
              "  </tbody>\n",
              "</table>\n",
              "<p>6315669 rows × 28 columns</p>\n",
              "</div>"
            ],
            "text/plain": [
              "        invoice_and_item_number       date  ... day_of_week_num day_of_week\n",
              "0               INV-22062200070 2019-09-23  ...               0      Monday\n",
              "1               INV-19241400019 2019-05-08  ...               2   Wednesday\n",
              "2               INV-19084500011 2019-05-01  ...               2   Wednesday\n",
              "3               INV-22554900004 2019-10-15  ...               1     Tuesday\n",
              "4               INV-22243700017 2019-10-01  ...               1     Tuesday\n",
              "...                         ...        ...  ...             ...         ...\n",
              "7027173         INV-10722800103 2018-03-05  ...               0      Monday\n",
              "7027174         INV-20525300090 2019-07-10  ...               2   Wednesday\n",
              "7027175         INV-21878300041 2019-09-13  ...               4      Friday\n",
              "7027176         INV-13091200020 2018-07-06  ...               4      Friday\n",
              "7027177         INV-23602200116 2019-12-02  ...               0      Monday\n",
              "\n",
              "[6315669 rows x 28 columns]"
            ]
          },
          "metadata": {
            "tags": []
          },
          "execution_count": 11
        }
      ]
    },
    {
      "cell_type": "markdown",
      "metadata": {
        "id": "hbzJCR6FjGxo",
        "colab_type": "text"
      },
      "source": [
        "# 3. Data Analysis"
      ]
    },
    {
      "cell_type": "markdown",
      "metadata": {
        "id": "228d6b73EYc-",
        "colab_type": "text"
      },
      "source": [
        "### 3.1. Totals\n",
        "\n",
        "\n"
      ]
    },
    {
      "cell_type": "markdown",
      "metadata": {
        "id": "_etvDYbJjWF6",
        "colab_type": "text"
      },
      "source": [
        "Let's find annual sold liters amount"
      ]
    },
    {
      "cell_type": "code",
      "metadata": {
        "id": "Tcf7SVMfj17q",
        "colab_type": "code",
        "outputId": "585cb33c-140d-4a2d-fd8a-9ee7ab9036c0",
        "colab": {
          "base_uri": "https://localhost:8080/",
          "height": 142
        }
      },
      "source": [
        "by_year = df.groupby(['year']).sum().reset_index()\n",
        "liters_by_year = by_year[['year','volume_sold_liters']]\n",
        "\n",
        "#remove scientific notation\n",
        "pd.set_option('display.float_format', lambda x: '%.2f' % x)\n",
        "\n",
        "liters_by_year"
      ],
      "execution_count": 0,
      "outputs": [
        {
          "output_type": "execute_result",
          "data": {
            "text/html": [
              "<div>\n",
              "<style scoped>\n",
              "    .dataframe tbody tr th:only-of-type {\n",
              "        vertical-align: middle;\n",
              "    }\n",
              "\n",
              "    .dataframe tbody tr th {\n",
              "        vertical-align: top;\n",
              "    }\n",
              "\n",
              "    .dataframe thead th {\n",
              "        text-align: right;\n",
              "    }\n",
              "</style>\n",
              "<table border=\"1\" class=\"dataframe\">\n",
              "  <thead>\n",
              "    <tr style=\"text-align: right;\">\n",
              "      <th></th>\n",
              "      <th>year</th>\n",
              "      <th>volume_sold_liters</th>\n",
              "    </tr>\n",
              "  </thead>\n",
              "  <tbody>\n",
              "    <tr>\n",
              "      <th>0</th>\n",
              "      <td>2017</td>\n",
              "      <td>18784995.16</td>\n",
              "    </tr>\n",
              "    <tr>\n",
              "      <th>1</th>\n",
              "      <td>2018</td>\n",
              "      <td>19959044.48</td>\n",
              "    </tr>\n",
              "    <tr>\n",
              "      <th>2</th>\n",
              "      <td>2019</td>\n",
              "      <td>20395769.02</td>\n",
              "    </tr>\n",
              "  </tbody>\n",
              "</table>\n",
              "</div>"
            ],
            "text/plain": [
              "   year  volume_sold_liters\n",
              "0  2017         18784995.16\n",
              "1  2018         19959044.48\n",
              "2  2019         20395769.02"
            ]
          },
          "metadata": {
            "tags": []
          },
          "execution_count": 14
        }
      ]
    },
    {
      "cell_type": "code",
      "metadata": {
        "id": "UwC26KSZykOz",
        "colab_type": "code",
        "outputId": "2e917321-1de7-48ce-eb2e-94259e961295",
        "colab": {
          "base_uri": "https://localhost:8080/",
          "height": 362
        }
      },
      "source": [
        "from matplotlib import pyplot as plt\n",
        "import seaborn as sns\n",
        "plt.rcParams[\"figure.figsize\"] = (10,5)\n",
        "sns.barplot(x='year',y='volume_sold_liters',data=liters_by_year)"
      ],
      "execution_count": 0,
      "outputs": [
        {
          "output_type": "execute_result",
          "data": {
            "text/plain": [
              "<matplotlib.axes._subplots.AxesSubplot at 0x7f4e06895a20>"
            ]
          },
          "metadata": {
            "tags": []
          },
          "execution_count": 15
        },
        {
          "output_type": "display_data",
          "data": {
            "image/png": "[encoded data removed]",
            "text/plain": [
              "<Figure size 720x360 with 1 Axes>"
            ]
          },
          "metadata": {
            "tags": []
          }
        }
      ]
    },
    {
      "cell_type": "markdown",
      "metadata": {
        "id": "3wkuwhCykOR9",
        "colab_type": "text"
      },
      "source": [
        "Sold liters amound slightly tends to grow from year to year"
      ]
    },
    {
      "cell_type": "markdown",
      "metadata": {
        "id": "VMvqIdMDjS3V",
        "colab_type": "text"
      },
      "source": [
        "Then we want to find monthly dynamics of volumes sold"
      ]
    },
    {
      "cell_type": "code",
      "metadata": {
        "id": "OArBXBUslK6r",
        "colab_type": "code",
        "outputId": "798751b3-3f21-49c8-887d-874b171e7bca",
        "colab": {
          "base_uri": "https://localhost:8080/",
          "height": 421
        }
      },
      "source": [
        "by_month = df.groupby(['month']).sum().reset_index()\n",
        "liters_by_month = by_month[['month','volume_sold_liters']]\n",
        "liters_by_month"
      ],
      "execution_count": 0,
      "outputs": [
        {
          "output_type": "execute_result",
          "data": {
            "text/html": [
              "<div>\n",
              "<style scoped>\n",
              "    .dataframe tbody tr th:only-of-type {\n",
              "        vertical-align: middle;\n",
              "    }\n",
              "\n",
              "    .dataframe tbody tr th {\n",
              "        vertical-align: top;\n",
              "    }\n",
              "\n",
              "    .dataframe thead th {\n",
              "        text-align: right;\n",
              "    }\n",
              "</style>\n",
              "<table border=\"1\" class=\"dataframe\">\n",
              "  <thead>\n",
              "    <tr style=\"text-align: right;\">\n",
              "      <th></th>\n",
              "      <th>month</th>\n",
              "      <th>volume_sold_liters</th>\n",
              "    </tr>\n",
              "  </thead>\n",
              "  <tbody>\n",
              "    <tr>\n",
              "      <th>0</th>\n",
              "      <td>1</td>\n",
              "      <td>3992362.34</td>\n",
              "    </tr>\n",
              "    <tr>\n",
              "      <th>1</th>\n",
              "      <td>2</td>\n",
              "      <td>4374604.13</td>\n",
              "    </tr>\n",
              "    <tr>\n",
              "      <th>2</th>\n",
              "      <td>3</td>\n",
              "      <td>4443313.45</td>\n",
              "    </tr>\n",
              "    <tr>\n",
              "      <th>3</th>\n",
              "      <td>4</td>\n",
              "      <td>4718679.60</td>\n",
              "    </tr>\n",
              "    <tr>\n",
              "      <th>4</th>\n",
              "      <td>5</td>\n",
              "      <td>5600887.81</td>\n",
              "    </tr>\n",
              "    <tr>\n",
              "      <th>5</th>\n",
              "      <td>6</td>\n",
              "      <td>5199680.07</td>\n",
              "    </tr>\n",
              "    <tr>\n",
              "      <th>6</th>\n",
              "      <td>7</td>\n",
              "      <td>5025944.05</td>\n",
              "    </tr>\n",
              "    <tr>\n",
              "      <th>7</th>\n",
              "      <td>8</td>\n",
              "      <td>5204768.57</td>\n",
              "    </tr>\n",
              "    <tr>\n",
              "      <th>8</th>\n",
              "      <td>9</td>\n",
              "      <td>4523443.80</td>\n",
              "    </tr>\n",
              "    <tr>\n",
              "      <th>9</th>\n",
              "      <td>10</td>\n",
              "      <td>5612335.03</td>\n",
              "    </tr>\n",
              "    <tr>\n",
              "      <th>10</th>\n",
              "      <td>11</td>\n",
              "      <td>4829735.82</td>\n",
              "    </tr>\n",
              "    <tr>\n",
              "      <th>11</th>\n",
              "      <td>12</td>\n",
              "      <td>5614053.99</td>\n",
              "    </tr>\n",
              "  </tbody>\n",
              "</table>\n",
              "</div>"
            ],
            "text/plain": [
              "    month  volume_sold_liters\n",
              "0       1          3992362.34\n",
              "1       2          4374604.13\n",
              "2       3          4443313.45\n",
              "3       4          4718679.60\n",
              "4       5          5600887.81\n",
              "5       6          5199680.07\n",
              "6       7          5025944.05\n",
              "7       8          5204768.57\n",
              "8       9          4523443.80\n",
              "9      10          5612335.03\n",
              "10     11          4829735.82\n",
              "11     12          5614053.99"
            ]
          },
          "metadata": {
            "tags": []
          },
          "execution_count": 16
        }
      ]
    },
    {
      "cell_type": "code",
      "metadata": {
        "id": "GhUDPhSLtSfH",
        "colab_type": "code",
        "outputId": "7c2c096c-a587-4c3d-b2b7-5f95bbf03744",
        "colab": {
          "base_uri": "https://localhost:8080/",
          "height": 351
        }
      },
      "source": [
        "sns.barplot(x='month',y='volume_sold_liters',data=liters_by_month)"
      ],
      "execution_count": 0,
      "outputs": [
        {
          "output_type": "execute_result",
          "data": {
            "text/plain": [
              "<matplotlib.axes._subplots.AxesSubplot at 0x7f4e0ad567b8>"
            ]
          },
          "metadata": {
            "tags": []
          },
          "execution_count": 17
        },
        {
          "output_type": "display_data",
          "data": {
            "image/png": "[encoded data removed]",
            "text/plain": [
              "<Figure size 720x360 with 1 Axes>"
            ]
          },
          "metadata": {
            "tags": []
          }
        }
      ]
    },
    {
      "cell_type": "markdown",
      "metadata": {
        "id": "P0403_vDlTDZ",
        "colab_type": "text"
      },
      "source": [
        "May, October and December appears to be the months with highest sold amounts;  January - with lowest"
      ]
    },
    {
      "cell_type": "markdown",
      "metadata": {
        "id": "9ekw0Bf_lvsl",
        "colab_type": "text"
      },
      "source": [
        "Daily dynamics"
      ]
    },
    {
      "cell_type": "code",
      "metadata": {
        "id": "Kz8L1bCRl0ai",
        "colab_type": "code",
        "outputId": "8c7504cc-1799-497a-cac3-6803a259139f",
        "colab": {
          "base_uri": "https://localhost:8080/",
          "height": 266
        }
      },
      "source": [
        "by_day = df.groupby(['day_of_week_num','day_of_week']).sum().reset_index()\n",
        "liters_by_day = by_day[['day_of_week_num','day_of_week','volume_sold_liters']]\n",
        "liters_by_day"
      ],
      "execution_count": 0,
      "outputs": [
        {
          "output_type": "execute_result",
          "data": {
            "text/html": [
              "<div>\n",
              "<style scoped>\n",
              "    .dataframe tbody tr th:only-of-type {\n",
              "        vertical-align: middle;\n",
              "    }\n",
              "\n",
              "    .dataframe tbody tr th {\n",
              "        vertical-align: top;\n",
              "    }\n",
              "\n",
              "    .dataframe thead th {\n",
              "        text-align: right;\n",
              "    }\n",
              "</style>\n",
              "<table border=\"1\" class=\"dataframe\">\n",
              "  <thead>\n",
              "    <tr style=\"text-align: right;\">\n",
              "      <th></th>\n",
              "      <th>day_of_week_num</th>\n",
              "      <th>day_of_week</th>\n",
              "      <th>volume_sold_liters</th>\n",
              "    </tr>\n",
              "  </thead>\n",
              "  <tbody>\n",
              "    <tr>\n",
              "      <th>0</th>\n",
              "      <td>0</td>\n",
              "      <td>Monday</td>\n",
              "      <td>12871843.84</td>\n",
              "    </tr>\n",
              "    <tr>\n",
              "      <th>1</th>\n",
              "      <td>1</td>\n",
              "      <td>Tuesday</td>\n",
              "      <td>12430716.43</td>\n",
              "    </tr>\n",
              "    <tr>\n",
              "      <th>2</th>\n",
              "      <td>2</td>\n",
              "      <td>Wednesday</td>\n",
              "      <td>12815284.63</td>\n",
              "    </tr>\n",
              "    <tr>\n",
              "      <th>3</th>\n",
              "      <td>3</td>\n",
              "      <td>Thursday</td>\n",
              "      <td>12667278.59</td>\n",
              "    </tr>\n",
              "    <tr>\n",
              "      <th>4</th>\n",
              "      <td>4</td>\n",
              "      <td>Friday</td>\n",
              "      <td>8028630.44</td>\n",
              "    </tr>\n",
              "    <tr>\n",
              "      <th>5</th>\n",
              "      <td>5</td>\n",
              "      <td>Saturday</td>\n",
              "      <td>318307.19</td>\n",
              "    </tr>\n",
              "    <tr>\n",
              "      <th>6</th>\n",
              "      <td>6</td>\n",
              "      <td>Sunday</td>\n",
              "      <td>7747.54</td>\n",
              "    </tr>\n",
              "  </tbody>\n",
              "</table>\n",
              "</div>"
            ],
            "text/plain": [
              "   day_of_week_num day_of_week  volume_sold_liters\n",
              "0                0      Monday         12871843.84\n",
              "1                1     Tuesday         12430716.43\n",
              "2                2   Wednesday         12815284.63\n",
              "3                3    Thursday         12667278.59\n",
              "4                4      Friday          8028630.44\n",
              "5                5    Saturday           318307.19\n",
              "6                6      Sunday             7747.54"
            ]
          },
          "metadata": {
            "tags": []
          },
          "execution_count": 18
        }
      ]
    },
    {
      "cell_type": "code",
      "metadata": {
        "id": "8W66Qt8Sk-by",
        "colab_type": "code",
        "outputId": "2dce58b6-662d-482e-af19-d86bf512f601",
        "colab": {
          "base_uri": "https://localhost:8080/",
          "height": 363
        }
      },
      "source": [
        "sns.barplot(x='day_of_week',y='volume_sold_liters',data=liters_by_day)"
      ],
      "execution_count": 0,
      "outputs": [
        {
          "output_type": "execute_result",
          "data": {
            "text/plain": [
              "<matplotlib.axes._subplots.AxesSubplot at 0x7f4e0b28af98>"
            ]
          },
          "metadata": {
            "tags": []
          },
          "execution_count": 19
        },
        {
          "output_type": "display_data",
          "data": {
            "image/png": "[encoded data removed]",
            "text/plain": [
              "<Figure size 720x360 with 1 Axes>"
            ]
          },
          "metadata": {
            "tags": []
          }
        }
      ]
    },
    {
      "cell_type": "markdown",
      "metadata": {
        "id": "nD9tzbkDl_OD",
        "colab_type": "text"
      },
      "source": [
        "Liquor trade deals are closing mainly on working days. Although, total amounts sold on Friday are 1.5x lower than on any other working day"
      ]
    },
    {
      "cell_type": "markdown",
      "metadata": {
        "id": "9ThHOcCQEyCv",
        "colab_type": "text"
      },
      "source": [
        "### 3.2. Cities\n"
      ]
    },
    {
      "cell_type": "markdown",
      "metadata": {
        "id": "dMsQ4wEQm6Rb",
        "colab_type": "text"
      },
      "source": [
        "Let's find top-10 cities based on total_volume_sold_liters metric\n"
      ]
    },
    {
      "cell_type": "code",
      "metadata": {
        "id": "06Tnl9gTPHpf",
        "colab_type": "code",
        "outputId": "18311737-e8cd-44fa-dc53-d5d84d118f8f",
        "colab": {
          "base_uri": "https://localhost:8080/",
          "height": 359
        }
      },
      "source": [
        "сities_all = pd.pivot_table(df, values=['bottles_sold','state_bottle_cost','state_bottle_retail','sale_dollars','volume_sold_liters'], index=['city'], \n",
        "                            aggfunc={'bottles_sold':np.sum, 'state_bottle_cost':np.mean, 'state_bottle_retail':np.mean, 'sale_dollars':np.sum, 'volume_sold_liters':np.sum}).reset_index()\n",
        "\n",
        "сities_all.columns = ['city', 'total_bottles_sold','total_sale_dollars', 'average_bottle_cost','average_state_bottle_retail','total_volume_sold_liters']\n",
        "\n",
        "сities_all = сities_all.sort_values(by='total_volume_sold_liters', ascending = False)\n",
        "сities_all['perc_volume_sold_liters'] = сities_all['total_volume_sold_liters']/сities_all['total_volume_sold_liters'].sum()\n",
        "сities_all['cum_perc_volume_sold_liters'] = сities_all['perc_volume_sold_liters'].cumsum()\n",
        "\n",
        "сities_all.head(10)"
      ],
      "execution_count": 0,
      "outputs": [
        {
          "output_type": "execute_result",
          "data": {
            "text/html": [
              "<div>\n",
              "<style scoped>\n",
              "    .dataframe tbody tr th:only-of-type {\n",
              "        vertical-align: middle;\n",
              "    }\n",
              "\n",
              "    .dataframe tbody tr th {\n",
              "        vertical-align: top;\n",
              "    }\n",
              "\n",
              "    .dataframe thead th {\n",
              "        text-align: right;\n",
              "    }\n",
              "</style>\n",
              "<table border=\"1\" class=\"dataframe\">\n",
              "  <thead>\n",
              "    <tr style=\"text-align: right;\">\n",
              "      <th></th>\n",
              "      <th>city</th>\n",
              "      <th>total_bottles_sold</th>\n",
              "      <th>total_sale_dollars</th>\n",
              "      <th>average_bottle_cost</th>\n",
              "      <th>average_state_bottle_retail</th>\n",
              "      <th>total_volume_sold_liters</th>\n",
              "      <th>perc_volume_sold_liters</th>\n",
              "      <th>cum_perc_volume_sold_liters</th>\n",
              "    </tr>\n",
              "  </thead>\n",
              "  <tbody>\n",
              "    <tr>\n",
              "      <th>103</th>\n",
              "      <td>Des Moines</td>\n",
              "      <td>9298489</td>\n",
              "      <td>120228325.14</td>\n",
              "      <td>10.62</td>\n",
              "      <td>15.93</td>\n",
              "      <td>6944199.47</td>\n",
              "      <td>0.12</td>\n",
              "      <td>0.12</td>\n",
              "    </tr>\n",
              "    <tr>\n",
              "      <th>58</th>\n",
              "      <td>Cedar Rapids</td>\n",
              "      <td>5081923</td>\n",
              "      <td>63669053.52</td>\n",
              "      <td>9.96</td>\n",
              "      <td>14.94</td>\n",
              "      <td>4140881.71</td>\n",
              "      <td>0.07</td>\n",
              "      <td>0.19</td>\n",
              "    </tr>\n",
              "    <tr>\n",
              "      <th>93</th>\n",
              "      <td>Davenport</td>\n",
              "      <td>3581472</td>\n",
              "      <td>40591145.58</td>\n",
              "      <td>9.54</td>\n",
              "      <td>14.31</td>\n",
              "      <td>2601383.49</td>\n",
              "      <td>0.04</td>\n",
              "      <td>0.23</td>\n",
              "    </tr>\n",
              "    <tr>\n",
              "      <th>410</th>\n",
              "      <td>West Des Moines</td>\n",
              "      <td>2196995</td>\n",
              "      <td>34661601.47</td>\n",
              "      <td>11.03</td>\n",
              "      <td>16.54</td>\n",
              "      <td>2134629.79</td>\n",
              "      <td>0.04</td>\n",
              "      <td>0.27</td>\n",
              "    </tr>\n",
              "    <tr>\n",
              "      <th>351</th>\n",
              "      <td>Sioux City</td>\n",
              "      <td>2556953</td>\n",
              "      <td>33318306.35</td>\n",
              "      <td>10.32</td>\n",
              "      <td>15.48</td>\n",
              "      <td>2103556.77</td>\n",
              "      <td>0.04</td>\n",
              "      <td>0.30</td>\n",
              "    </tr>\n",
              "    <tr>\n",
              "      <th>85</th>\n",
              "      <td>Council Bluffs</td>\n",
              "      <td>2533833</td>\n",
              "      <td>31864398.02</td>\n",
              "      <td>9.62</td>\n",
              "      <td>14.43</td>\n",
              "      <td>2017998.46</td>\n",
              "      <td>0.03</td>\n",
              "      <td>0.34</td>\n",
              "    </tr>\n",
              "    <tr>\n",
              "      <th>399</th>\n",
              "      <td>Waterloo</td>\n",
              "      <td>2870304</td>\n",
              "      <td>30859116.41</td>\n",
              "      <td>9.10</td>\n",
              "      <td>13.65</td>\n",
              "      <td>1883899.08</td>\n",
              "      <td>0.03</td>\n",
              "      <td>0.37</td>\n",
              "    </tr>\n",
              "    <tr>\n",
              "      <th>192</th>\n",
              "      <td>Iowa City</td>\n",
              "      <td>2180106</td>\n",
              "      <td>29804335.09</td>\n",
              "      <td>10.48</td>\n",
              "      <td>15.72</td>\n",
              "      <td>1866179.87</td>\n",
              "      <td>0.03</td>\n",
              "      <td>0.40</td>\n",
              "    </tr>\n",
              "    <tr>\n",
              "      <th>108</th>\n",
              "      <td>Dubuque</td>\n",
              "      <td>1667467</td>\n",
              "      <td>22370781.81</td>\n",
              "      <td>10.30</td>\n",
              "      <td>15.45</td>\n",
              "      <td>1464046.66</td>\n",
              "      <td>0.02</td>\n",
              "      <td>0.43</td>\n",
              "    </tr>\n",
              "    <tr>\n",
              "      <th>16</th>\n",
              "      <td>Ames</td>\n",
              "      <td>1471988</td>\n",
              "      <td>21400066.30</td>\n",
              "      <td>11.40</td>\n",
              "      <td>17.10</td>\n",
              "      <td>1445232.05</td>\n",
              "      <td>0.02</td>\n",
              "      <td>0.45</td>\n",
              "    </tr>\n",
              "  </tbody>\n",
              "</table>\n",
              "</div>"
            ],
            "text/plain": [
              "                city  ...  cum_perc_volume_sold_liters\n",
              "103       Des Moines  ...                         0.12\n",
              "58      Cedar Rapids  ...                         0.19\n",
              "93         Davenport  ...                         0.23\n",
              "410  West Des Moines  ...                         0.27\n",
              "351       Sioux City  ...                         0.30\n",
              "85    Council Bluffs  ...                         0.34\n",
              "399         Waterloo  ...                         0.37\n",
              "192        Iowa City  ...                         0.40\n",
              "108          Dubuque  ...                         0.43\n",
              "16              Ames  ...                         0.45\n",
              "\n",
              "[10 rows x 8 columns]"
            ]
          },
          "metadata": {
            "tags": []
          },
          "execution_count": 22
        }
      ]
    },
    {
      "cell_type": "markdown",
      "metadata": {
        "id": "V0MWNJc4w_vk",
        "colab_type": "text"
      },
      "source": [
        "Des Moines has 12% of all volume sold in Iowa; 45% of all liquor volume sold in Iowa were sold in top-10 cities"
      ]
    },
    {
      "cell_type": "markdown",
      "metadata": {
        "id": "WAUWgWivhFIK",
        "colab_type": "text"
      },
      "source": [
        "Find more interesting numbers about cities"
      ]
    },
    {
      "cell_type": "code",
      "metadata": {
        "id": "6Pb5O2D1gvjx",
        "colab_type": "code",
        "outputId": "5a140435-5bb6-4c8e-f6d1-d0c40ec729d0",
        "colab": {
          "base_uri": "https://localhost:8080/",
          "height": 34
        }
      },
      "source": [
        "print('50% of all liquor volume sold in Iowa were sold in ' + (round(сities_all[сities_all['cum_perc_volume_sold_liters']<=0.5].city.count() / сities_all.city.count(),2)*100).astype(int).astype(str) + '% cities')"
      ],
      "execution_count": 0,
      "outputs": [
        {
          "output_type": "stream",
          "text": [
            "50% of all liquor volume sold in Iowa were sold in 3% cities\n"
          ],
          "name": "stdout"
        }
      ]
    },
    {
      "cell_type": "code",
      "metadata": {
        "id": "gwQ4OMjbkZlu",
        "colab_type": "code",
        "outputId": "e1ef18ee-c565-4dd7-c570-ff9302b70313",
        "colab": {
          "base_uri": "https://localhost:8080/",
          "height": 34
        }
      },
      "source": [
        "print('75% of all liquor volume sold in Iowa were sold in ' + (round(сities_all[сities_all['cum_perc_volume_sold_liters']<=0.75].city.count() / сities_all.city.count(),2)*100).astype(int).astype(str) + '% cities')"
      ],
      "execution_count": 0,
      "outputs": [
        {
          "output_type": "stream",
          "text": [
            "75% of all liquor volume sold in Iowa were sold in 10% cities\n"
          ],
          "name": "stdout"
        }
      ]
    },
    {
      "cell_type": "markdown",
      "metadata": {
        "id": "1ewgmm3IyGRt",
        "colab_type": "text"
      },
      "source": [
        "For better understanding let's visualize all volumes by city using a treemap and label first top-20 cities"
      ]
    },
    {
      "cell_type": "code",
      "metadata": {
        "id": "zgiFvXs1trNy",
        "colab_type": "code",
        "outputId": "d31a62ff-81ac-4edf-f6c6-733b6fd340b7",
        "colab": {
          "base_uri": "https://localhost:8080/",
          "height": 303
        }
      },
      "source": [
        "#disable chained_assignment warning\n",
        "pd.options.mode.chained_assignment = None\n",
        "\n",
        "top_cities_df = сities_all.head(20)\n",
        "top_cities_df['label'] = top_cities_df['city'] + \"\\n \" + top_cities_df['perc_volume_sold_liters'].round(2).astype(str)\n",
        "top_cities = top_cities_df['label'].tolist()\n",
        "\n",
        "#using squarify\n",
        "!pip install -q squarify\n",
        "import squarify    \n",
        "import matplotlib as mpl\n",
        "\n",
        "# create a color palette, mapped to these values\n",
        "cmap = mpl.cm.Blues\n",
        "mini=сities_all['perc_volume_sold_liters'].min()\n",
        "maxi=сities_all['perc_volume_sold_liters'].max()\n",
        "norm = mpl.colors.Normalize(vmin=mini, vmax=maxi)\n",
        "colors = [cmap(norm(value)) for value in сities_all['perc_volume_sold_liters']]\n",
        "\n",
        "squarify.plot(sizes=сities_all['perc_volume_sold_liters'], label=top_cities, alpha=.9, color=colors)\n",
        "plt.rc('font', size=10)\n",
        "plt.axis('off')\n",
        "plt.show()"
      ],
      "execution_count": 0,
      "outputs": [
        {
          "output_type": "display_data",
          "data": {
            "image/png": "[encoded data removed]",
            "text/plain": [
              "<Figure size 720x360 with 1 Axes>"
            ]
          },
          "metadata": {
            "tags": []
          }
        }
      ]
    },
    {
      "cell_type": "markdown",
      "metadata": {
        "id": "TC1oAVn3E62a",
        "colab_type": "text"
      },
      "source": [
        "### Stores"
      ]
    },
    {
      "cell_type": "markdown",
      "metadata": {
        "id": "TLNQz3bX33F1",
        "colab_type": "text"
      },
      "source": [
        " Find top-10 stores based on total_sale_dollars metric"
      ]
    },
    {
      "cell_type": "code",
      "metadata": {
        "id": "nZhbichThZdF",
        "colab_type": "code",
        "outputId": "0b3ca0c2-f42f-4a69-895b-f98531c7fbde",
        "colab": {
          "base_uri": "https://localhost:8080/",
          "height": 419
        }
      },
      "source": [
        "stores_all = pd.pivot_table(df, values=['bottles_sold','state_bottle_cost','state_bottle_retail','sale_dollars','volume_sold_liters'], index=['store_number','store_name'],\n",
        "                            aggfunc={'bottles_sold':np.sum, 'state_bottle_cost':np.mean, 'state_bottle_retail':np.mean, 'sale_dollars':np.sum, 'volume_sold_liters':np.sum}).reset_index()\n",
        "stores_all                            "
      ],
      "execution_count": 0,
      "outputs": [
        {
          "output_type": "execute_result",
          "data": {
            "text/html": [
              "<div>\n",
              "<style scoped>\n",
              "    .dataframe tbody tr th:only-of-type {\n",
              "        vertical-align: middle;\n",
              "    }\n",
              "\n",
              "    .dataframe tbody tr th {\n",
              "        vertical-align: top;\n",
              "    }\n",
              "\n",
              "    .dataframe thead th {\n",
              "        text-align: right;\n",
              "    }\n",
              "</style>\n",
              "<table border=\"1\" class=\"dataframe\">\n",
              "  <thead>\n",
              "    <tr style=\"text-align: right;\">\n",
              "      <th></th>\n",
              "      <th>store_number</th>\n",
              "      <th>store_name</th>\n",
              "      <th>bottles_sold</th>\n",
              "      <th>sale_dollars</th>\n",
              "      <th>state_bottle_cost</th>\n",
              "      <th>state_bottle_retail</th>\n",
              "      <th>volume_sold_liters</th>\n",
              "    </tr>\n",
              "  </thead>\n",
              "  <tbody>\n",
              "    <tr>\n",
              "      <th>0</th>\n",
              "      <td>2106</td>\n",
              "      <td>Hillstreet News and Tobacco</td>\n",
              "      <td>270606</td>\n",
              "      <td>3843546.60</td>\n",
              "      <td>11.19</td>\n",
              "      <td>16.79</td>\n",
              "      <td>253391.77</td>\n",
              "    </tr>\n",
              "    <tr>\n",
              "      <th>1</th>\n",
              "      <td>2113</td>\n",
              "      <td>Jamboree Foods</td>\n",
              "      <td>17406</td>\n",
              "      <td>242749.21</td>\n",
              "      <td>11.12</td>\n",
              "      <td>16.68</td>\n",
              "      <td>17119.30</td>\n",
              "    </tr>\n",
              "    <tr>\n",
              "      <th>2</th>\n",
              "      <td>2130</td>\n",
              "      <td>Sycamore Convenience</td>\n",
              "      <td>221483</td>\n",
              "      <td>3477916.42</td>\n",
              "      <td>11.39</td>\n",
              "      <td>17.09</td>\n",
              "      <td>202344.55</td>\n",
              "    </tr>\n",
              "    <tr>\n",
              "      <th>3</th>\n",
              "      <td>2178</td>\n",
              "      <td>Double D Liquor Store</td>\n",
              "      <td>64756</td>\n",
              "      <td>943689.35</td>\n",
              "      <td>10.55</td>\n",
              "      <td>15.83</td>\n",
              "      <td>68996.44</td>\n",
              "    </tr>\n",
              "    <tr>\n",
              "      <th>4</th>\n",
              "      <td>2190</td>\n",
              "      <td>Central City Liquor Inc.</td>\n",
              "      <td>368300</td>\n",
              "      <td>5412035.38</td>\n",
              "      <td>14.19</td>\n",
              "      <td>21.29</td>\n",
              "      <td>235864.39</td>\n",
              "    </tr>\n",
              "    <tr>\n",
              "      <th>...</th>\n",
              "      <td>...</td>\n",
              "      <td>...</td>\n",
              "      <td>...</td>\n",
              "      <td>...</td>\n",
              "      <td>...</td>\n",
              "      <td>...</td>\n",
              "      <td>...</td>\n",
              "    </tr>\n",
              "    <tr>\n",
              "      <th>1887</th>\n",
              "      <td>9930</td>\n",
              "      <td>Thome Enterprises LLC</td>\n",
              "      <td>3</td>\n",
              "      <td>144.00</td>\n",
              "      <td>8.00</td>\n",
              "      <td>12.00</td>\n",
              "      <td>2.25</td>\n",
              "    </tr>\n",
              "    <tr>\n",
              "      <th>1888</th>\n",
              "      <td>9931</td>\n",
              "      <td>Lonely Oak Distilery</td>\n",
              "      <td>44</td>\n",
              "      <td>2520.00</td>\n",
              "      <td>14.00</td>\n",
              "      <td>21.00</td>\n",
              "      <td>33.00</td>\n",
              "    </tr>\n",
              "    <tr>\n",
              "      <th>1889</th>\n",
              "      <td>9934</td>\n",
              "      <td>Cats Eye Distillery LLC</td>\n",
              "      <td>2</td>\n",
              "      <td>693.12</td>\n",
              "      <td>19.25</td>\n",
              "      <td>28.88</td>\n",
              "      <td>1.50</td>\n",
              "    </tr>\n",
              "    <tr>\n",
              "      <th>1890</th>\n",
              "      <td>9937</td>\n",
              "      <td>Green Frog Distillery LLC</td>\n",
              "      <td>2</td>\n",
              "      <td>157.50</td>\n",
              "      <td>17.50</td>\n",
              "      <td>26.25</td>\n",
              "      <td>1.50</td>\n",
              "    </tr>\n",
              "    <tr>\n",
              "      <th>1891</th>\n",
              "      <td>9938</td>\n",
              "      <td>Templeton Distilling LLC</td>\n",
              "      <td>49</td>\n",
              "      <td>246.72</td>\n",
              "      <td>27.41</td>\n",
              "      <td>41.12</td>\n",
              "      <td>36.75</td>\n",
              "    </tr>\n",
              "  </tbody>\n",
              "</table>\n",
              "<p>1892 rows × 7 columns</p>\n",
              "</div>"
            ],
            "text/plain": [
              "     store_number  ... volume_sold_liters\n",
              "0            2106  ...          253391.77\n",
              "1            2113  ...           17119.30\n",
              "2            2130  ...          202344.55\n",
              "3            2178  ...           68996.44\n",
              "4            2190  ...          235864.39\n",
              "...           ...  ...                ...\n",
              "1887         9930  ...               2.25\n",
              "1888         9931  ...              33.00\n",
              "1889         9934  ...               1.50\n",
              "1890         9937  ...               1.50\n",
              "1891         9938  ...              36.75\n",
              "\n",
              "[1892 rows x 7 columns]"
            ]
          },
          "metadata": {
            "tags": []
          },
          "execution_count": 129
        }
      ]
    },
    {
      "cell_type": "markdown",
      "metadata": {
        "id": "jqPEkk1m7gAc",
        "colab_type": "text"
      },
      "source": [
        "It seems that store names could be duplicated because of double quotes in their names in different order. That's why let's replace all double quotes and re-create stores_all table\n"
      ]
    },
    {
      "cell_type": "code",
      "metadata": {
        "id": "PF14uUmVhZne",
        "colab_type": "code",
        "colab": {}
      },
      "source": [
        "df['store_name'] = df['store_name'].str.replace('\"', '', regex=False)\n",
        "stores_all_clean = pd.pivot_table(df, values=['bottles_sold','state_bottle_cost','state_bottle_retail','sale_dollars','volume_sold_liters'], index=['store_number','store_name','city'],\n",
        "                            aggfunc={'bottles_sold':np.sum, 'state_bottle_cost':np.mean, 'state_bottle_retail':np.mean, 'sale_dollars':np.sum, 'volume_sold_liters':np.sum}).reset_index()"
      ],
      "execution_count": 0,
      "outputs": []
    },
    {
      "cell_type": "markdown",
      "metadata": {
        "id": "QxjVDgtb9V-P",
        "colab_type": "text"
      },
      "source": [
        "Check duplicates in stores_all table"
      ]
    },
    {
      "cell_type": "code",
      "metadata": {
        "id": "TysyUQPDhZ4Q",
        "colab_type": "code",
        "outputId": "5d45cf25-4f97-45ec-c1ea-28636cf97d80",
        "colab": {
          "base_uri": "https://localhost:8080/",
          "height": 68
        }
      },
      "source": [
        "check_stores = stores_all_clean.groupby(['store_number']).size().reset_index()\n",
        "check_stores = check_stores.rename(columns={0:\"count\"})\n",
        "check_stores[check_stores['count']>1].count()"
      ],
      "execution_count": 0,
      "outputs": [
        {
          "output_type": "execute_result",
          "data": {
            "text/plain": [
              "store_number    97\n",
              "count           97\n",
              "dtype: int64"
            ]
          },
          "metadata": {
            "tags": []
          },
          "execution_count": 131
        }
      ]
    },
    {
      "cell_type": "markdown",
      "metadata": {
        "id": "Ez6yLzlN_lqu",
        "colab_type": "text"
      },
      "source": [
        "We still have duplicated names in stores_all table. To save the time (trying to clean all city names) and get the correct amount for every city let's create pivot table grouping by \"store_number\" and then join one of store's names for every 97 stores from the previous conclusion\n"
      ]
    },
    {
      "cell_type": "code",
      "metadata": {
        "id": "AwhWyeF1haA1",
        "colab_type": "code",
        "colab": {}
      },
      "source": [
        "stores_all_clean = pd.pivot_table(df, values=['bottles_sold','state_bottle_cost','state_bottle_retail','sale_dollars','volume_sold_liters'], index=['store_number'],\n",
        "                            aggfunc={'bottles_sold':np.sum, 'state_bottle_cost':np.mean, 'state_bottle_retail':np.mean, 'sale_dollars':np.sum, 'volume_sold_liters':np.sum}).reset_index()\n",
        "\n",
        "stores_dict = df[['store_number','store_name','city']]\n",
        "stores_dict = stores_dict.groupby('store_number').first().reset_index()\n",
        "\n",
        "stores_all_clean_merged = stores_all_clean.merge(stores_dict, how = 'left', on = 'store_number')"
      ],
      "execution_count": 0,
      "outputs": []
    },
    {
      "cell_type": "markdown",
      "metadata": {
        "id": "GHZ6wTIxJh7v",
        "colab_type": "text"
      },
      "source": [
        "So, now we can find top-10 stores based on total_sale_dollars metric"
      ]
    },
    {
      "cell_type": "code",
      "metadata": {
        "id": "S_IM22IUJhE1",
        "colab_type": "code",
        "outputId": "d8ae5ceb-ffdc-42c3-922f-8d770a1f281b",
        "colab": {
          "base_uri": "https://localhost:8080/",
          "height": 359
        }
      },
      "source": [
        "stores_all_final = stores_all_clean_merged[['store_number','store_name','city','bottles_sold','sale_dollars','state_bottle_cost','state_bottle_retail','volume_sold_liters']]\n",
        "\n",
        "stores_all_final.columns = ['store_number', 'store_name','city', 'total_bottles_sold', 'total_sale_dollars', 'average_bottle_cost','average_state_bottle_retail','total_volume_sold_liters']\n",
        "\n",
        "stores_all_final = stores_all_final.sort_values(by='total_sale_dollars', ascending = False)\n",
        "stores_all_final['perc_sale_dollars'] = stores_all_final['total_sale_dollars']/сities_all['total_sale_dollars'].sum()\n",
        "stores_all_final['cum_perc_sale_dollars'] = stores_all_final['perc_sale_dollars'].cumsum()\n",
        "\n",
        "stores_all_final.head(10)"
      ],
      "execution_count": 0,
      "outputs": [
        {
          "output_type": "execute_result",
          "data": {
            "text/html": [
              "<div>\n",
              "<style scoped>\n",
              "    .dataframe tbody tr th:only-of-type {\n",
              "        vertical-align: middle;\n",
              "    }\n",
              "\n",
              "    .dataframe tbody tr th {\n",
              "        vertical-align: top;\n",
              "    }\n",
              "\n",
              "    .dataframe thead th {\n",
              "        text-align: right;\n",
              "    }\n",
              "</style>\n",
              "<table border=\"1\" class=\"dataframe\">\n",
              "  <thead>\n",
              "    <tr style=\"text-align: right;\">\n",
              "      <th></th>\n",
              "      <th>store_number</th>\n",
              "      <th>store_name</th>\n",
              "      <th>city</th>\n",
              "      <th>total_bottles_sold</th>\n",
              "      <th>total_sale_dollars</th>\n",
              "      <th>average_bottle_cost</th>\n",
              "      <th>average_state_bottle_retail</th>\n",
              "      <th>total_volume_sold_liters</th>\n",
              "      <th>perc_sale_dollars</th>\n",
              "      <th>cum_perc_sale_dollars</th>\n",
              "    </tr>\n",
              "  </thead>\n",
              "  <tbody>\n",
              "    <tr>\n",
              "      <th>101</th>\n",
              "      <td>2633</td>\n",
              "      <td>Hy-Vee #3 / BDI / Des Moines</td>\n",
              "      <td>Des Moines</td>\n",
              "      <td>1938638</td>\n",
              "      <td>32901149.78</td>\n",
              "      <td>13.29</td>\n",
              "      <td>19.93</td>\n",
              "      <td>1872405.67</td>\n",
              "      <td>0.04</td>\n",
              "      <td>0.04</td>\n",
              "    </tr>\n",
              "    <tr>\n",
              "      <th>871</th>\n",
              "      <td>4829</td>\n",
              "      <td>Central City 2</td>\n",
              "      <td>Des Moines</td>\n",
              "      <td>1863670</td>\n",
              "      <td>32526634.79</td>\n",
              "      <td>13.28</td>\n",
              "      <td>19.92</td>\n",
              "      <td>1790455.22</td>\n",
              "      <td>0.04</td>\n",
              "      <td>0.07</td>\n",
              "    </tr>\n",
              "    <tr>\n",
              "      <th>24</th>\n",
              "      <td>2512</td>\n",
              "      <td>Hy-Vee Wine and Spirits / Iowa City</td>\n",
              "      <td>Iowa City</td>\n",
              "      <td>976151</td>\n",
              "      <td>14284859.36</td>\n",
              "      <td>11.91</td>\n",
              "      <td>17.87</td>\n",
              "      <td>927920.85</td>\n",
              "      <td>0.02</td>\n",
              "      <td>0.09</td>\n",
              "    </tr>\n",
              "    <tr>\n",
              "      <th>179</th>\n",
              "      <td>3385</td>\n",
              "      <td>Sams Club 8162 / Cedar Rapids</td>\n",
              "      <td>Cedar Rapids</td>\n",
              "      <td>598008</td>\n",
              "      <td>10106219.49</td>\n",
              "      <td>12.94</td>\n",
              "      <td>19.42</td>\n",
              "      <td>703010.75</td>\n",
              "      <td>0.01</td>\n",
              "      <td>0.10</td>\n",
              "    </tr>\n",
              "    <tr>\n",
              "      <th>1062</th>\n",
              "      <td>5102</td>\n",
              "      <td>Wilkie Liquors</td>\n",
              "      <td>Mount Vernon</td>\n",
              "      <td>672105</td>\n",
              "      <td>9915269.30</td>\n",
              "      <td>12.32</td>\n",
              "      <td>18.49</td>\n",
              "      <td>662532.06</td>\n",
              "      <td>0.01</td>\n",
              "      <td>0.11</td>\n",
              "    </tr>\n",
              "    <tr>\n",
              "      <th>286</th>\n",
              "      <td>3814</td>\n",
              "      <td>Costco Wholesale #788</td>\n",
              "      <td>West Des Moines</td>\n",
              "      <td>422966</td>\n",
              "      <td>9468382.97</td>\n",
              "      <td>22.19</td>\n",
              "      <td>33.29</td>\n",
              "      <td>659244.50</td>\n",
              "      <td>0.01</td>\n",
              "      <td>0.12</td>\n",
              "    </tr>\n",
              "    <tr>\n",
              "      <th>340</th>\n",
              "      <td>3952</td>\n",
              "      <td>Lot-A-Spirits</td>\n",
              "      <td>Bettendorf</td>\n",
              "      <td>526827</td>\n",
              "      <td>9173915.26</td>\n",
              "      <td>13.57</td>\n",
              "      <td>20.36</td>\n",
              "      <td>506824.15</td>\n",
              "      <td>0.01</td>\n",
              "      <td>0.13</td>\n",
              "    </tr>\n",
              "    <tr>\n",
              "      <th>271</th>\n",
              "      <td>3773</td>\n",
              "      <td>Benz Distributing</td>\n",
              "      <td>Cedar Rapids</td>\n",
              "      <td>485705</td>\n",
              "      <td>8500602.81</td>\n",
              "      <td>14.75</td>\n",
              "      <td>22.12</td>\n",
              "      <td>462885.11</td>\n",
              "      <td>0.01</td>\n",
              "      <td>0.14</td>\n",
              "    </tr>\n",
              "    <tr>\n",
              "      <th>122</th>\n",
              "      <td>2663</td>\n",
              "      <td>Hy-Vee Food Store / Urbandale</td>\n",
              "      <td>Urbandale</td>\n",
              "      <td>465286</td>\n",
              "      <td>8386969.53</td>\n",
              "      <td>12.25</td>\n",
              "      <td>18.37</td>\n",
              "      <td>414637.66</td>\n",
              "      <td>0.01</td>\n",
              "      <td>0.15</td>\n",
              "    </tr>\n",
              "    <tr>\n",
              "      <th>128</th>\n",
              "      <td>2670</td>\n",
              "      <td>Hy-Vee Food Store / Coralville</td>\n",
              "      <td>Coralville</td>\n",
              "      <td>499912</td>\n",
              "      <td>8206162.41</td>\n",
              "      <td>11.21</td>\n",
              "      <td>16.82</td>\n",
              "      <td>476546.94</td>\n",
              "      <td>0.01</td>\n",
              "      <td>0.16</td>\n",
              "    </tr>\n",
              "  </tbody>\n",
              "</table>\n",
              "</div>"
            ],
            "text/plain": [
              "     store_number  ... cum_perc_sale_dollars\n",
              "101          2633  ...                  0.04\n",
              "871          4829  ...                  0.07\n",
              "24           2512  ...                  0.09\n",
              "179          3385  ...                  0.10\n",
              "1062         5102  ...                  0.11\n",
              "286          3814  ...                  0.12\n",
              "340          3952  ...                  0.13\n",
              "271          3773  ...                  0.14\n",
              "122          2663  ...                  0.15\n",
              "128          2670  ...                  0.16\n",
              "\n",
              "[10 rows x 10 columns]"
            ]
          },
          "metadata": {
            "tags": []
          },
          "execution_count": 144
        }
      ]
    },
    {
      "cell_type": "markdown",
      "metadata": {
        "id": "zne4F7gTlfeo",
        "colab_type": "text"
      },
      "source": [
        "Find more interesting numbers about stores"
      ]
    },
    {
      "cell_type": "code",
      "metadata": {
        "id": "SMMWbwssmvH8",
        "colab_type": "code",
        "outputId": "2136cf7c-2d89-464e-b6a4-e98002a2edd6",
        "colab": {
          "base_uri": "https://localhost:8080/",
          "height": 34
        }
      },
      "source": [
        "print('33% of all total_sale_dollars were paid by ' + (round(stores_all_final[stores_all_final['cum_perc_sale_dollars']<=0.33].store_name.count() / stores_all_final.store_name.count(),2)*100).astype(int).astype(str) + '% stores')"
      ],
      "execution_count": 0,
      "outputs": [
        {
          "output_type": "stream",
          "text": [
            "33% of all total_sale_dollars were paid by 2% stores\n"
          ],
          "name": "stdout"
        }
      ]
    },
    {
      "cell_type": "code",
      "metadata": {
        "id": "4s9IIH6hmDnC",
        "colab_type": "code",
        "outputId": "0a1d1bc8-70a9-48b6-96e7-1da1dfdffb09",
        "colab": {
          "base_uri": "https://localhost:8080/",
          "height": 34
        }
      },
      "source": [
        "print('50% of all total_sale_dollars were paid by ' + (round(stores_all_final[stores_all_final['cum_perc_sale_dollars']<=0.5].store_name.count() / stores_all_final.store_name.count(),2)*100).astype(int).astype(str) + '% stores')"
      ],
      "execution_count": 0,
      "outputs": [
        {
          "output_type": "stream",
          "text": [
            "50% of all total_sale_dollars were paid by 5% stores\n"
          ],
          "name": "stdout"
        }
      ]
    },
    {
      "cell_type": "markdown",
      "metadata": {
        "id": "WQqwQJmVLxXJ",
        "colab_type": "text"
      },
      "source": [
        "### 3.3. Categories"
      ]
    },
    {
      "cell_type": "markdown",
      "metadata": {
        "id": "ZJuYJJF0MLxf",
        "colab_type": "text"
      },
      "source": [
        "Find top-10 categories based on total_sale_dollars and total_volume_sold_liters metrics\n"
      ]
    },
    {
      "cell_type": "code",
      "metadata": {
        "id": "V0_N_Yi0MOLo",
        "colab_type": "code",
        "outputId": "acaebe8c-d8e7-44f0-a13a-d44776eb72ee",
        "colab": {
          "base_uri": "https://localhost:8080/",
          "height": 359
        }
      },
      "source": [
        "categories_all = pd.pivot_table(df, values=['bottles_sold','state_bottle_cost','state_bottle_retail','sale_dollars','volume_sold_liters'], index=['category_name'], \n",
        "                            aggfunc={'bottles_sold':np.sum, 'state_bottle_cost':np.mean, 'state_bottle_retail':np.mean, 'sale_dollars':np.sum, 'volume_sold_liters':np.sum}).reset_index()\n",
        "\n",
        "categories_all.columns = ['category_name', 'total_bottles_sold','total_sale_dollars', 'average_bottle_cost','average_state_bottle_retail','total_volume_sold_liters']\n",
        "\n",
        "categories_all_by_volume = categories_all.sort_values(by='total_volume_sold_liters', ascending = False)\n",
        "categories_all_by_sale_dollars = categories_all.sort_values(by='total_sale_dollars', ascending = False)\n",
        "\n",
        "categories_all_by_volume['perc_volume_sold_liters'] = categories_all_by_volume['total_volume_sold_liters']/categories_all_by_volume['total_volume_sold_liters'].sum()\n",
        "categories_all_by_volume['cum_perc_volume_sold_liters'] = categories_all_by_volume['perc_volume_sold_liters'].cumsum()\n",
        "\n",
        "categories_all_by_sale_dollars['perc_sale_dollars'] = categories_all_by_sale_dollars['total_sale_dollars']/categories_all_by_sale_dollars['total_sale_dollars'].sum()\n",
        "categories_all_by_sale_dollars['cum_perc_sale_dollars'] = categories_all_by_sale_dollars['perc_sale_dollars'].cumsum()\n",
        "\n",
        "categories_all_by_volume.head(10)"
      ],
      "execution_count": 0,
      "outputs": [
        {
          "output_type": "execute_result",
          "data": {
            "text/html": [
              "<div>\n",
              "<style scoped>\n",
              "    .dataframe tbody tr th:only-of-type {\n",
              "        vertical-align: middle;\n",
              "    }\n",
              "\n",
              "    .dataframe tbody tr th {\n",
              "        vertical-align: top;\n",
              "    }\n",
              "\n",
              "    .dataframe thead th {\n",
              "        text-align: right;\n",
              "    }\n",
              "</style>\n",
              "<table border=\"1\" class=\"dataframe\">\n",
              "  <thead>\n",
              "    <tr style=\"text-align: right;\">\n",
              "      <th></th>\n",
              "      <th>category_name</th>\n",
              "      <th>total_bottles_sold</th>\n",
              "      <th>total_sale_dollars</th>\n",
              "      <th>average_bottle_cost</th>\n",
              "      <th>average_state_bottle_retail</th>\n",
              "      <th>total_volume_sold_liters</th>\n",
              "      <th>perc_volume_sold_liters</th>\n",
              "      <th>cum_perc_volume_sold_liters</th>\n",
              "    </tr>\n",
              "  </thead>\n",
              "  <tbody>\n",
              "    <tr>\n",
              "      <th>12</th>\n",
              "      <td>American Vodkas</td>\n",
              "      <td>14659144</td>\n",
              "      <td>131707640.10</td>\n",
              "      <td>6.56</td>\n",
              "      <td>9.85</td>\n",
              "      <td>13645659.66</td>\n",
              "      <td>0.23</td>\n",
              "      <td>0.23</td>\n",
              "    </tr>\n",
              "    <tr>\n",
              "      <th>15</th>\n",
              "      <td>Canadian Whiskies</td>\n",
              "      <td>7701801</td>\n",
              "      <td>112390761.50</td>\n",
              "      <td>10.08</td>\n",
              "      <td>15.12</td>\n",
              "      <td>7776893.14</td>\n",
              "      <td>0.13</td>\n",
              "      <td>0.36</td>\n",
              "    </tr>\n",
              "    <tr>\n",
              "      <th>46</th>\n",
              "      <td>Spiced Rum</td>\n",
              "      <td>3926716</td>\n",
              "      <td>59711818.24</td>\n",
              "      <td>9.43</td>\n",
              "      <td>14.15</td>\n",
              "      <td>3867088.57</td>\n",
              "      <td>0.07</td>\n",
              "      <td>0.43</td>\n",
              "    </tr>\n",
              "    <tr>\n",
              "      <th>53</th>\n",
              "      <td>Whiskey Liqueur</td>\n",
              "      <td>5048750</td>\n",
              "      <td>47231044.82</td>\n",
              "      <td>12.46</td>\n",
              "      <td>18.69</td>\n",
              "      <td>2749294.08</td>\n",
              "      <td>0.05</td>\n",
              "      <td>0.47</td>\n",
              "    </tr>\n",
              "    <tr>\n",
              "      <th>47</th>\n",
              "      <td>Straight Bourbon Whiskies</td>\n",
              "      <td>3139279</td>\n",
              "      <td>58285138.10</td>\n",
              "      <td>12.46</td>\n",
              "      <td>18.68</td>\n",
              "      <td>2730561.93</td>\n",
              "      <td>0.05</td>\n",
              "      <td>0.52</td>\n",
              "    </tr>\n",
              "    <tr>\n",
              "      <th>34</th>\n",
              "      <td>Imported Vodkas</td>\n",
              "      <td>2450254</td>\n",
              "      <td>45668133.71</td>\n",
              "      <td>12.72</td>\n",
              "      <td>19.09</td>\n",
              "      <td>2448321.10</td>\n",
              "      <td>0.04</td>\n",
              "      <td>0.56</td>\n",
              "    </tr>\n",
              "    <tr>\n",
              "      <th>13</th>\n",
              "      <td>Blended Whiskies</td>\n",
              "      <td>2399283</td>\n",
              "      <td>23705287.88</td>\n",
              "      <td>7.58</td>\n",
              "      <td>11.37</td>\n",
              "      <td>2207990.76</td>\n",
              "      <td>0.04</td>\n",
              "      <td>0.60</td>\n",
              "    </tr>\n",
              "    <tr>\n",
              "      <th>17</th>\n",
              "      <td>Cocktails /RTD</td>\n",
              "      <td>1299615</td>\n",
              "      <td>14472983.92</td>\n",
              "      <td>7.62</td>\n",
              "      <td>11.44</td>\n",
              "      <td>2051252.93</td>\n",
              "      <td>0.03</td>\n",
              "      <td>0.63</td>\n",
              "    </tr>\n",
              "    <tr>\n",
              "      <th>8</th>\n",
              "      <td>American Flavored Vodka</td>\n",
              "      <td>2419804</td>\n",
              "      <td>24489463.54</td>\n",
              "      <td>7.11</td>\n",
              "      <td>10.67</td>\n",
              "      <td>1783932.26</td>\n",
              "      <td>0.03</td>\n",
              "      <td>0.66</td>\n",
              "    </tr>\n",
              "    <tr>\n",
              "      <th>54</th>\n",
              "      <td>White Rum</td>\n",
              "      <td>1580357</td>\n",
              "      <td>17690824.46</td>\n",
              "      <td>7.49</td>\n",
              "      <td>11.24</td>\n",
              "      <td>1694835.34</td>\n",
              "      <td>0.03</td>\n",
              "      <td>0.69</td>\n",
              "    </tr>\n",
              "  </tbody>\n",
              "</table>\n",
              "</div>"
            ],
            "text/plain": [
              "                category_name  ...  cum_perc_volume_sold_liters\n",
              "12            American Vodkas  ...                         0.23\n",
              "15          Canadian Whiskies  ...                         0.36\n",
              "46                 Spiced Rum  ...                         0.43\n",
              "53            Whiskey Liqueur  ...                         0.47\n",
              "47  Straight Bourbon Whiskies  ...                         0.52\n",
              "34            Imported Vodkas  ...                         0.56\n",
              "13           Blended Whiskies  ...                         0.60\n",
              "17             Cocktails /RTD  ...                         0.63\n",
              "8     American Flavored Vodka  ...                         0.66\n",
              "54                  White Rum  ...                         0.69\n",
              "\n",
              "[10 rows x 8 columns]"
            ]
          },
          "metadata": {
            "tags": []
          },
          "execution_count": 192
        }
      ]
    },
    {
      "cell_type": "code",
      "metadata": {
        "id": "Axvu3kxmncN9",
        "colab_type": "code",
        "outputId": "668527b4-28ec-44f0-bf35-3b9ef84d0a4a",
        "colab": {
          "base_uri": "https://localhost:8080/",
          "height": 359
        }
      },
      "source": [
        "categories_all_by_sale_dollars.head(10)"
      ],
      "execution_count": 0,
      "outputs": [
        {
          "output_type": "execute_result",
          "data": {
            "text/html": [
              "<div>\n",
              "<style scoped>\n",
              "    .dataframe tbody tr th:only-of-type {\n",
              "        vertical-align: middle;\n",
              "    }\n",
              "\n",
              "    .dataframe tbody tr th {\n",
              "        vertical-align: top;\n",
              "    }\n",
              "\n",
              "    .dataframe thead th {\n",
              "        text-align: right;\n",
              "    }\n",
              "</style>\n",
              "<table border=\"1\" class=\"dataframe\">\n",
              "  <thead>\n",
              "    <tr style=\"text-align: right;\">\n",
              "      <th></th>\n",
              "      <th>category_name</th>\n",
              "      <th>total_bottles_sold</th>\n",
              "      <th>total_sale_dollars</th>\n",
              "      <th>average_bottle_cost</th>\n",
              "      <th>average_state_bottle_retail</th>\n",
              "      <th>total_volume_sold_liters</th>\n",
              "      <th>perc_sale_dollars</th>\n",
              "      <th>cum_perc_sale_dollars</th>\n",
              "    </tr>\n",
              "  </thead>\n",
              "  <tbody>\n",
              "    <tr>\n",
              "      <th>12</th>\n",
              "      <td>American Vodkas</td>\n",
              "      <td>14659144</td>\n",
              "      <td>131707640.10</td>\n",
              "      <td>6.56</td>\n",
              "      <td>9.85</td>\n",
              "      <td>13645659.66</td>\n",
              "      <td>0.15</td>\n",
              "      <td>0.15</td>\n",
              "    </tr>\n",
              "    <tr>\n",
              "      <th>15</th>\n",
              "      <td>Canadian Whiskies</td>\n",
              "      <td>7701801</td>\n",
              "      <td>112390761.50</td>\n",
              "      <td>10.08</td>\n",
              "      <td>15.12</td>\n",
              "      <td>7776893.14</td>\n",
              "      <td>0.12</td>\n",
              "      <td>0.27</td>\n",
              "    </tr>\n",
              "    <tr>\n",
              "      <th>46</th>\n",
              "      <td>Spiced Rum</td>\n",
              "      <td>3926716</td>\n",
              "      <td>59711818.24</td>\n",
              "      <td>9.43</td>\n",
              "      <td>14.15</td>\n",
              "      <td>3867088.57</td>\n",
              "      <td>0.07</td>\n",
              "      <td>0.34</td>\n",
              "    </tr>\n",
              "    <tr>\n",
              "      <th>47</th>\n",
              "      <td>Straight Bourbon Whiskies</td>\n",
              "      <td>3139279</td>\n",
              "      <td>58285138.10</td>\n",
              "      <td>12.46</td>\n",
              "      <td>18.68</td>\n",
              "      <td>2730561.93</td>\n",
              "      <td>0.06</td>\n",
              "      <td>0.40</td>\n",
              "    </tr>\n",
              "    <tr>\n",
              "      <th>53</th>\n",
              "      <td>Whiskey Liqueur</td>\n",
              "      <td>5048750</td>\n",
              "      <td>47231044.82</td>\n",
              "      <td>12.46</td>\n",
              "      <td>18.69</td>\n",
              "      <td>2749294.08</td>\n",
              "      <td>0.05</td>\n",
              "      <td>0.45</td>\n",
              "    </tr>\n",
              "    <tr>\n",
              "      <th>34</th>\n",
              "      <td>Imported Vodkas</td>\n",
              "      <td>2450254</td>\n",
              "      <td>45668133.71</td>\n",
              "      <td>12.72</td>\n",
              "      <td>19.09</td>\n",
              "      <td>2448321.10</td>\n",
              "      <td>0.05</td>\n",
              "      <td>0.50</td>\n",
              "    </tr>\n",
              "    <tr>\n",
              "      <th>51</th>\n",
              "      <td>Tennessee Whiskies</td>\n",
              "      <td>1686991</td>\n",
              "      <td>38727650.31</td>\n",
              "      <td>14.33</td>\n",
              "      <td>21.49</td>\n",
              "      <td>1318084.41</td>\n",
              "      <td>0.04</td>\n",
              "      <td>0.55</td>\n",
              "    </tr>\n",
              "    <tr>\n",
              "      <th>0</th>\n",
              "      <td>100% Agave Tequila</td>\n",
              "      <td>1208641</td>\n",
              "      <td>31501897.00</td>\n",
              "      <td>18.54</td>\n",
              "      <td>27.81</td>\n",
              "      <td>893541.53</td>\n",
              "      <td>0.03</td>\n",
              "      <td>0.58</td>\n",
              "    </tr>\n",
              "    <tr>\n",
              "      <th>25</th>\n",
              "      <td>Imported Brandies</td>\n",
              "      <td>1668459</td>\n",
              "      <td>29421448.08</td>\n",
              "      <td>15.45</td>\n",
              "      <td>23.17</td>\n",
              "      <td>686258.53</td>\n",
              "      <td>0.03</td>\n",
              "      <td>0.61</td>\n",
              "    </tr>\n",
              "    <tr>\n",
              "      <th>8</th>\n",
              "      <td>American Flavored Vodka</td>\n",
              "      <td>2419804</td>\n",
              "      <td>24489463.54</td>\n",
              "      <td>7.11</td>\n",
              "      <td>10.67</td>\n",
              "      <td>1783932.26</td>\n",
              "      <td>0.03</td>\n",
              "      <td>0.64</td>\n",
              "    </tr>\n",
              "  </tbody>\n",
              "</table>\n",
              "</div>"
            ],
            "text/plain": [
              "                category_name  ...  cum_perc_sale_dollars\n",
              "12            American Vodkas  ...                   0.15\n",
              "15          Canadian Whiskies  ...                   0.27\n",
              "46                 Spiced Rum  ...                   0.34\n",
              "47  Straight Bourbon Whiskies  ...                   0.40\n",
              "53            Whiskey Liqueur  ...                   0.45\n",
              "34            Imported Vodkas  ...                   0.50\n",
              "51         Tennessee Whiskies  ...                   0.55\n",
              "0          100% Agave Tequila  ...                   0.58\n",
              "25          Imported Brandies  ...                   0.61\n",
              "8     American Flavored Vodka  ...                   0.64\n",
              "\n",
              "[10 rows x 8 columns]"
            ]
          },
          "metadata": {
            "tags": []
          },
          "execution_count": 193
        }
      ]
    },
    {
      "cell_type": "markdown",
      "metadata": {
        "id": "zIraOBAaoKP8",
        "colab_type": "text"
      },
      "source": [
        "We notice that Vodkas and Whiskies are categories with the highest amount both volume_sold and sale_dollars. For better undertanding the interdependencies between these categories let's make several aggregated groups.\n"
      ]
    },
    {
      "cell_type": "code",
      "metadata": {
        "id": "l7gJcDZWo25Y",
        "colab_type": "code",
        "colab": {}
      },
      "source": [
        "categories_all['agg_category'] = np.where(categories_all['category_name'].str.lower().str.contains('whisk'), 'Whiskies', \n",
        "                                          np.where(categories_all['category_name'].str.lower().str.contains('vodka'), 'Vodkas', \n",
        "                                                   np.where(categories_all['category_name'].str.lower().str.contains('gin'), 'Gins',\n",
        "                                                            np.where(categories_all['category_name'].str.lower().str.contains('rum'), 'Rums',\n",
        "                                                                                                                                  'Others'))))"
      ],
      "execution_count": 0,
      "outputs": []
    },
    {
      "cell_type": "code",
      "metadata": {
        "id": "WAlnkiBPyvwP",
        "colab_type": "code",
        "outputId": "8338b460-214c-4a1d-d439-866e06ad60c6",
        "colab": {
          "base_uri": "https://localhost:8080/",
          "height": 204
        }
      },
      "source": [
        "categories_agg = pd.pivot_table(categories_all, values=['total_bottles_sold','total_sale_dollars','total_volume_sold_liters','average_bottle_cost','average_state_bottle_retail'], index=['agg_category'], \n",
        "                            aggfunc={'total_bottles_sold':np.sum, 'total_sale_dollars':np.sum, 'total_volume_sold_liters':np.sum, 'average_bottle_cost':np.mean, 'average_state_bottle_retail':np.mean}).reset_index()\n",
        "categories_agg                           "
      ],
      "execution_count": 0,
      "outputs": [
        {
          "output_type": "execute_result",
          "data": {
            "text/html": [
              "<div>\n",
              "<style scoped>\n",
              "    .dataframe tbody tr th:only-of-type {\n",
              "        vertical-align: middle;\n",
              "    }\n",
              "\n",
              "    .dataframe tbody tr th {\n",
              "        vertical-align: top;\n",
              "    }\n",
              "\n",
              "    .dataframe thead th {\n",
              "        text-align: right;\n",
              "    }\n",
              "</style>\n",
              "<table border=\"1\" class=\"dataframe\">\n",
              "  <thead>\n",
              "    <tr style=\"text-align: right;\">\n",
              "      <th></th>\n",
              "      <th>agg_category</th>\n",
              "      <th>average_bottle_cost</th>\n",
              "      <th>average_state_bottle_retail</th>\n",
              "      <th>total_bottles_sold</th>\n",
              "      <th>total_sale_dollars</th>\n",
              "      <th>total_volume_sold_liters</th>\n",
              "    </tr>\n",
              "  </thead>\n",
              "  <tbody>\n",
              "    <tr>\n",
              "      <th>0</th>\n",
              "      <td>Gins</td>\n",
              "      <td>8.55</td>\n",
              "      <td>12.83</td>\n",
              "      <td>1795653</td>\n",
              "      <td>21913799.61</td>\n",
              "      <td>1503611.97</td>\n",
              "    </tr>\n",
              "    <tr>\n",
              "      <th>1</th>\n",
              "      <td>Others</td>\n",
              "      <td>13.45</td>\n",
              "      <td>20.18</td>\n",
              "      <td>17720863</td>\n",
              "      <td>235584996.87</td>\n",
              "      <td>13341754.14</td>\n",
              "    </tr>\n",
              "    <tr>\n",
              "      <th>2</th>\n",
              "      <td>Rums</td>\n",
              "      <td>9.24</td>\n",
              "      <td>13.87</td>\n",
              "      <td>7249021</td>\n",
              "      <td>100887306.29</td>\n",
              "      <td>7192307.33</td>\n",
              "    </tr>\n",
              "    <tr>\n",
              "      <th>3</th>\n",
              "      <td>Vodkas</td>\n",
              "      <td>10.35</td>\n",
              "      <td>15.53</td>\n",
              "      <td>20587290</td>\n",
              "      <td>220286589.03</td>\n",
              "      <td>18703496.66</td>\n",
              "    </tr>\n",
              "    <tr>\n",
              "      <th>4</th>\n",
              "      <td>Whiskies</td>\n",
              "      <td>15.68</td>\n",
              "      <td>23.52</td>\n",
              "      <td>21706275</td>\n",
              "      <td>324448702.41</td>\n",
              "      <td>18398638.56</td>\n",
              "    </tr>\n",
              "  </tbody>\n",
              "</table>\n",
              "</div>"
            ],
            "text/plain": [
              "  agg_category  ...  total_volume_sold_liters\n",
              "0         Gins  ...                1503611.97\n",
              "1       Others  ...               13341754.14\n",
              "2         Rums  ...                7192307.33\n",
              "3       Vodkas  ...               18703496.66\n",
              "4     Whiskies  ...               18398638.56\n",
              "\n",
              "[5 rows x 6 columns]"
            ]
          },
          "metadata": {
            "tags": []
          },
          "execution_count": 242
        }
      ]
    },
    {
      "cell_type": "code",
      "metadata": {
        "id": "Ndfb3P6_sgfV",
        "colab_type": "code",
        "outputId": "7514d150-fd56-46f1-c4b9-396da7e1aa54",
        "colab": {
          "base_uri": "https://localhost:8080/",
          "height": 513
        }
      },
      "source": [
        "import seaborn as sns; sns.set()\n",
        "\n",
        "ax = sns.scatterplot(x=\"total_sale_dollars\", y=\"total_volume_sold_liters\", data=categories_agg, hue = 'agg_category', size=\"total_bottles_sold\")\n",
        "sns.set(rc={'figure.figsize':(15,8)})"
      ],
      "execution_count": 0,
      "outputs": [
        {
          "output_type": "display_data",
          "data": {
            "image/png": "[encoded data removed]",
            "text/plain": [
              "<Figure size 1080x576 with 1 Axes>"
            ]
          },
          "metadata": {
            "tags": []
          }
        }
      ]
    },
    {
      "cell_type": "markdown",
      "metadata": {
        "id": "dNk6PAZHxd_F",
        "colab_type": "text"
      },
      "source": [
        "As we see from the chart, Vodkas and Whiskies indeed are the best selling liquors in Iowa. Despite the nearly equal total_volume_sold and total_bottles_sold, total_sale_dollars, average Whiskies price per liter is nearly 1.5x higher than Vodkas."
      ]
    },
    {
      "cell_type": "markdown",
      "metadata": {
        "id": "93BpSKxg1nZn",
        "colab_type": "text"
      },
      "source": [
        "### 3.4. Vendors\n"
      ]
    },
    {
      "cell_type": "code",
      "metadata": {
        "id": "ydzR-Lv31uFg",
        "colab_type": "code",
        "outputId": "83090c4a-fb5f-4a9f-c2af-a55df0d6bfa2",
        "colab": {
          "base_uri": "https://localhost:8080/",
          "height": 419
        }
      },
      "source": [
        "vendors_all = pd.pivot_table(df, values=['bottles_sold','state_bottle_cost','state_bottle_retail','sale_dollars','volume_sold_liters'], index=['vendor_name'], \n",
        "                            aggfunc={'bottles_sold':np.sum, 'state_bottle_cost':np.mean, 'state_bottle_retail':np.mean, 'sale_dollars':np.sum, 'volume_sold_liters':np.sum}).reset_index()\n",
        "\n",
        "vendors_all.columns = ['vendor_name', 'total_bottles_sold','total_sale_dollars', 'average_bottle_cost','average_state_bottle_retail','total_volume_sold_liters']\n",
        "\n",
        "\n",
        "vendors_all"
      ],
      "execution_count": 0,
      "outputs": [
        {
          "output_type": "execute_result",
          "data": {
            "text/html": [
              "<div>\n",
              "<style scoped>\n",
              "    .dataframe tbody tr th:only-of-type {\n",
              "        vertical-align: middle;\n",
              "    }\n",
              "\n",
              "    .dataframe tbody tr th {\n",
              "        vertical-align: top;\n",
              "    }\n",
              "\n",
              "    .dataframe thead th {\n",
              "        text-align: right;\n",
              "    }\n",
              "</style>\n",
              "<table border=\"1\" class=\"dataframe\">\n",
              "  <thead>\n",
              "    <tr style=\"text-align: right;\">\n",
              "      <th></th>\n",
              "      <th>vendor_name</th>\n",
              "      <th>total_bottles_sold</th>\n",
              "      <th>total_sale_dollars</th>\n",
              "      <th>average_bottle_cost</th>\n",
              "      <th>average_state_bottle_retail</th>\n",
              "      <th>total_volume_sold_liters</th>\n",
              "    </tr>\n",
              "  </thead>\n",
              "  <tbody>\n",
              "    <tr>\n",
              "      <th>0</th>\n",
              "      <td>10th Mountain Whiskey &amp; Spirit Company</td>\n",
              "      <td>6</td>\n",
              "      <td>292.50</td>\n",
              "      <td>32.50</td>\n",
              "      <td>48.75</td>\n",
              "      <td>4.50</td>\n",
              "    </tr>\n",
              "    <tr>\n",
              "      <th>1</th>\n",
              "      <td>3 BADGE CORPORATION</td>\n",
              "      <td>1812</td>\n",
              "      <td>50834.73</td>\n",
              "      <td>19.45</td>\n",
              "      <td>29.17</td>\n",
              "      <td>1359.00</td>\n",
              "    </tr>\n",
              "    <tr>\n",
              "      <th>2</th>\n",
              "      <td>3-Oaks Distillery, LLC</td>\n",
              "      <td>671</td>\n",
              "      <td>19814.40</td>\n",
              "      <td>18.02</td>\n",
              "      <td>27.03</td>\n",
              "      <td>503.25</td>\n",
              "    </tr>\n",
              "    <tr>\n",
              "      <th>3</th>\n",
              "      <td>A HARDY USA LTD</td>\n",
              "      <td>1041</td>\n",
              "      <td>18347.91</td>\n",
              "      <td>11.13</td>\n",
              "      <td>16.69</td>\n",
              "      <td>780.75</td>\n",
              "    </tr>\n",
              "    <tr>\n",
              "      <th>4</th>\n",
              "      <td>A V BRANDS INC</td>\n",
              "      <td>30</td>\n",
              "      <td>815.82</td>\n",
              "      <td>20.21</td>\n",
              "      <td>30.32</td>\n",
              "      <td>22.50</td>\n",
              "    </tr>\n",
              "    <tr>\n",
              "      <th>...</th>\n",
              "      <td>...</td>\n",
              "      <td>...</td>\n",
              "      <td>...</td>\n",
              "      <td>...</td>\n",
              "      <td>...</td>\n",
              "      <td>...</td>\n",
              "    </tr>\n",
              "    <tr>\n",
              "      <th>238</th>\n",
              "      <td>William Grant &amp; Sons Inc</td>\n",
              "      <td>345708</td>\n",
              "      <td>8415582.47</td>\n",
              "      <td>18.70</td>\n",
              "      <td>28.06</td>\n",
              "      <td>291586.66</td>\n",
              "    </tr>\n",
              "    <tr>\n",
              "      <th>239</th>\n",
              "      <td>Winebow Inc</td>\n",
              "      <td>12</td>\n",
              "      <td>195.12</td>\n",
              "      <td>10.84</td>\n",
              "      <td>16.26</td>\n",
              "      <td>9.00</td>\n",
              "    </tr>\n",
              "    <tr>\n",
              "      <th>240</th>\n",
              "      <td>World Trade Liquor Imports LLC</td>\n",
              "      <td>24</td>\n",
              "      <td>1503.00</td>\n",
              "      <td>41.75</td>\n",
              "      <td>62.62</td>\n",
              "      <td>18.00</td>\n",
              "    </tr>\n",
              "    <tr>\n",
              "      <th>241</th>\n",
              "      <td>Worldwide Libations, LLC</td>\n",
              "      <td>2297</td>\n",
              "      <td>51382.44</td>\n",
              "      <td>14.91</td>\n",
              "      <td>22.36</td>\n",
              "      <td>1722.75</td>\n",
              "    </tr>\n",
              "    <tr>\n",
              "      <th>242</th>\n",
              "      <td>YAHARA BAY DISTILLERS INC</td>\n",
              "      <td>3128</td>\n",
              "      <td>58790.99</td>\n",
              "      <td>15.35</td>\n",
              "      <td>23.03</td>\n",
              "      <td>1032.85</td>\n",
              "    </tr>\n",
              "  </tbody>\n",
              "</table>\n",
              "<p>243 rows × 6 columns</p>\n",
              "</div>"
            ],
            "text/plain": [
              "                                vendor_name  ...  total_volume_sold_liters\n",
              "0    10th Mountain Whiskey & Spirit Company  ...                      4.50\n",
              "1                       3 BADGE CORPORATION  ...                   1359.00\n",
              "2                    3-Oaks Distillery, LLC  ...                    503.25\n",
              "3                           A HARDY USA LTD  ...                    780.75\n",
              "4                            A V BRANDS INC  ...                     22.50\n",
              "..                                      ...  ...                       ...\n",
              "238                William Grant & Sons Inc  ...                 291586.66\n",
              "239                             Winebow Inc  ...                      9.00\n",
              "240          World Trade Liquor Imports LLC  ...                     18.00\n",
              "241                Worldwide Libations, LLC  ...                   1722.75\n",
              "242               YAHARA BAY DISTILLERS INC  ...                   1032.85\n",
              "\n",
              "[243 rows x 6 columns]"
            ]
          },
          "metadata": {
            "tags": []
          },
          "execution_count": 244
        }
      ]
    },
    {
      "cell_type": "markdown",
      "metadata": {
        "id": "wWrY8W_T2vHS",
        "colab_type": "text"
      },
      "source": [
        "Top-10 vendors based on total_sale_dollars and total_volume_sold_liters metrics"
      ]
    },
    {
      "cell_type": "code",
      "metadata": {
        "id": "zYSl93Uy20zL",
        "colab_type": "code",
        "outputId": "a43c0b40-7561-4c86-d1e8-08ecbd523812",
        "colab": {
          "base_uri": "https://localhost:8080/",
          "height": 359
        }
      },
      "source": [
        "vendors_all = pd.pivot_table(df, values=['bottles_sold','state_bottle_cost','state_bottle_retail','sale_dollars','volume_sold_liters'], index=['vendor_name'], \n",
        "                            aggfunc={'bottles_sold':np.sum, 'state_bottle_cost':np.mean, 'state_bottle_retail':np.mean, 'sale_dollars':np.sum, 'volume_sold_liters':np.sum}).reset_index()\n",
        "\n",
        "vendors_all.columns = ['category_name', 'total_bottles_sold','total_sale_dollars', 'average_bottle_cost','average_state_bottle_retail','total_volume_sold_liters']\n",
        "\n",
        "vendors_all_by_sale_dollars = vendors_all.sort_values(by='total_sale_dollars', ascending = False)\n",
        "vendors_all_by_sale_dollars['perc_sale_dollars'] = vendors_all_by_sale_dollars['total_sale_dollars']/vendors_all_by_sale_dollars['total_sale_dollars'].sum()\n",
        "vendors_all_by_sale_dollars['cum_perc_sale_dollars'] = vendors_all_by_sale_dollars['perc_sale_dollars'].cumsum()\n",
        "\n",
        "vendors_all_by_sale_dollars.head(10)"
      ],
      "execution_count": 0,
      "outputs": [
        {
          "output_type": "execute_result",
          "data": {
            "text/html": [
              "<div>\n",
              "<style scoped>\n",
              "    .dataframe tbody tr th:only-of-type {\n",
              "        vertical-align: middle;\n",
              "    }\n",
              "\n",
              "    .dataframe tbody tr th {\n",
              "        vertical-align: top;\n",
              "    }\n",
              "\n",
              "    .dataframe thead th {\n",
              "        text-align: right;\n",
              "    }\n",
              "</style>\n",
              "<table border=\"1\" class=\"dataframe\">\n",
              "  <thead>\n",
              "    <tr style=\"text-align: right;\">\n",
              "      <th></th>\n",
              "      <th>category_name</th>\n",
              "      <th>total_bottles_sold</th>\n",
              "      <th>total_sale_dollars</th>\n",
              "      <th>average_bottle_cost</th>\n",
              "      <th>average_state_bottle_retail</th>\n",
              "      <th>total_volume_sold_liters</th>\n",
              "      <th>perc_sale_dollars</th>\n",
              "      <th>cum_perc_sale_dollars</th>\n",
              "    </tr>\n",
              "  </thead>\n",
              "  <tbody>\n",
              "    <tr>\n",
              "      <th>46</th>\n",
              "      <td>DIAGEO AMERICAS</td>\n",
              "      <td>10523049</td>\n",
              "      <td>193087776.92</td>\n",
              "      <td>12.46</td>\n",
              "      <td>18.70</td>\n",
              "      <td>9206446.02</td>\n",
              "      <td>0.21</td>\n",
              "      <td>0.21</td>\n",
              "    </tr>\n",
              "    <tr>\n",
              "      <th>183</th>\n",
              "      <td>SAZERAC COMPANY  INC</td>\n",
              "      <td>8800965</td>\n",
              "      <td>76561034.22</td>\n",
              "      <td>11.06</td>\n",
              "      <td>16.59</td>\n",
              "      <td>5561309.23</td>\n",
              "      <td>0.08</td>\n",
              "      <td>0.30</td>\n",
              "    </tr>\n",
              "    <tr>\n",
              "      <th>102</th>\n",
              "      <td>Jim Beam Brands</td>\n",
              "      <td>4759446</td>\n",
              "      <td>68387812.08</td>\n",
              "      <td>9.86</td>\n",
              "      <td>14.79</td>\n",
              "      <td>4354502.69</td>\n",
              "      <td>0.08</td>\n",
              "      <td>0.37</td>\n",
              "    </tr>\n",
              "    <tr>\n",
              "      <th>155</th>\n",
              "      <td>PERNOD RICARD USA</td>\n",
              "      <td>3715227</td>\n",
              "      <td>66099956.26</td>\n",
              "      <td>12.21</td>\n",
              "      <td>18.32</td>\n",
              "      <td>3000800.41</td>\n",
              "      <td>0.07</td>\n",
              "      <td>0.45</td>\n",
              "    </tr>\n",
              "    <tr>\n",
              "      <th>31</th>\n",
              "      <td>CONSTELLATION BRANDS INC</td>\n",
              "      <td>5344306</td>\n",
              "      <td>54832948.07</td>\n",
              "      <td>7.05</td>\n",
              "      <td>10.58</td>\n",
              "      <td>5209043.69</td>\n",
              "      <td>0.06</td>\n",
              "      <td>0.51</td>\n",
              "    </tr>\n",
              "    <tr>\n",
              "      <th>111</th>\n",
              "      <td>LUXCO INC</td>\n",
              "      <td>6034334</td>\n",
              "      <td>47950829.08</td>\n",
              "      <td>5.85</td>\n",
              "      <td>8.78</td>\n",
              "      <td>6204915.07</td>\n",
              "      <td>0.05</td>\n",
              "      <td>0.56</td>\n",
              "    </tr>\n",
              "    <tr>\n",
              "      <th>27</th>\n",
              "      <td>Brown Forman Corp.</td>\n",
              "      <td>2037932</td>\n",
              "      <td>46888290.57</td>\n",
              "      <td>14.51</td>\n",
              "      <td>21.76</td>\n",
              "      <td>1649160.25</td>\n",
              "      <td>0.05</td>\n",
              "      <td>0.61</td>\n",
              "    </tr>\n",
              "    <tr>\n",
              "      <th>63</th>\n",
              "      <td>FIFTH GENERATION INC</td>\n",
              "      <td>2122600</td>\n",
              "      <td>39912885.84</td>\n",
              "      <td>12.23</td>\n",
              "      <td>18.35</td>\n",
              "      <td>2207103.54</td>\n",
              "      <td>0.04</td>\n",
              "      <td>0.66</td>\n",
              "    </tr>\n",
              "    <tr>\n",
              "      <th>13</th>\n",
              "      <td>BACARDI USA INC</td>\n",
              "      <td>2063968</td>\n",
              "      <td>35802302.44</td>\n",
              "      <td>12.13</td>\n",
              "      <td>18.19</td>\n",
              "      <td>1854859.52</td>\n",
              "      <td>0.04</td>\n",
              "      <td>0.70</td>\n",
              "    </tr>\n",
              "    <tr>\n",
              "      <th>184</th>\n",
              "      <td>SAZERAC NORTH AMERICA</td>\n",
              "      <td>3817805</td>\n",
              "      <td>29579768.11</td>\n",
              "      <td>6.06</td>\n",
              "      <td>9.08</td>\n",
              "      <td>4134035.51</td>\n",
              "      <td>0.03</td>\n",
              "      <td>0.73</td>\n",
              "    </tr>\n",
              "  </tbody>\n",
              "</table>\n",
              "</div>"
            ],
            "text/plain": [
              "                category_name  ...  cum_perc_sale_dollars\n",
              "46            DIAGEO AMERICAS  ...                   0.21\n",
              "183      SAZERAC COMPANY  INC  ...                   0.30\n",
              "102           Jim Beam Brands  ...                   0.37\n",
              "155         PERNOD RICARD USA  ...                   0.45\n",
              "31   CONSTELLATION BRANDS INC  ...                   0.51\n",
              "111                 LUXCO INC  ...                   0.56\n",
              "27         Brown Forman Corp.  ...                   0.61\n",
              "63       FIFTH GENERATION INC  ...                   0.66\n",
              "13            BACARDI USA INC  ...                   0.70\n",
              "184     SAZERAC NORTH AMERICA  ...                   0.73\n",
              "\n",
              "[10 rows x 8 columns]"
            ]
          },
          "metadata": {
            "tags": []
          },
          "execution_count": 247
        }
      ]
    },
    {
      "cell_type": "code",
      "metadata": {
        "id": "YSsu00DD44CT",
        "colab_type": "code",
        "outputId": "aed6de94-b823-45f0-d9aa-0f504f507a78",
        "colab": {
          "base_uri": "https://localhost:8080/",
          "height": 359
        }
      },
      "source": [
        "vendors_all_by_volume = vendors_all.sort_values(by='total_volume_sold_liters', ascending = False)\n",
        "\n",
        "vendors_all_by_volume['perc_volume_sold_liters'] = vendors_all_by_volume['total_volume_sold_liters']/categories_all_by_volume['total_volume_sold_liters'].sum()\n",
        "vendors_all_by_volume['cum_perc_volume_sold_liters'] = vendors_all_by_volume['perc_volume_sold_liters'].cumsum()\n",
        "\n",
        "vendors_all_by_volume.head(10)"
      ],
      "execution_count": 0,
      "outputs": [
        {
          "output_type": "execute_result",
          "data": {
            "text/html": [
              "<div>\n",
              "<style scoped>\n",
              "    .dataframe tbody tr th:only-of-type {\n",
              "        vertical-align: middle;\n",
              "    }\n",
              "\n",
              "    .dataframe tbody tr th {\n",
              "        vertical-align: top;\n",
              "    }\n",
              "\n",
              "    .dataframe thead th {\n",
              "        text-align: right;\n",
              "    }\n",
              "</style>\n",
              "<table border=\"1\" class=\"dataframe\">\n",
              "  <thead>\n",
              "    <tr style=\"text-align: right;\">\n",
              "      <th></th>\n",
              "      <th>category_name</th>\n",
              "      <th>total_bottles_sold</th>\n",
              "      <th>total_sale_dollars</th>\n",
              "      <th>average_bottle_cost</th>\n",
              "      <th>average_state_bottle_retail</th>\n",
              "      <th>total_volume_sold_liters</th>\n",
              "      <th>perc_volume_sold_liters</th>\n",
              "      <th>cum_perc_volume_sold_liters</th>\n",
              "    </tr>\n",
              "  </thead>\n",
              "  <tbody>\n",
              "    <tr>\n",
              "      <th>46</th>\n",
              "      <td>DIAGEO AMERICAS</td>\n",
              "      <td>10523049</td>\n",
              "      <td>193087776.92</td>\n",
              "      <td>12.46</td>\n",
              "      <td>18.70</td>\n",
              "      <td>9206446.02</td>\n",
              "      <td>0.16</td>\n",
              "      <td>0.16</td>\n",
              "    </tr>\n",
              "    <tr>\n",
              "      <th>111</th>\n",
              "      <td>LUXCO INC</td>\n",
              "      <td>6034334</td>\n",
              "      <td>47950829.08</td>\n",
              "      <td>5.85</td>\n",
              "      <td>8.78</td>\n",
              "      <td>6204915.07</td>\n",
              "      <td>0.10</td>\n",
              "      <td>0.26</td>\n",
              "    </tr>\n",
              "    <tr>\n",
              "      <th>183</th>\n",
              "      <td>SAZERAC COMPANY  INC</td>\n",
              "      <td>8800965</td>\n",
              "      <td>76561034.22</td>\n",
              "      <td>11.06</td>\n",
              "      <td>16.59</td>\n",
              "      <td>5561309.23</td>\n",
              "      <td>0.09</td>\n",
              "      <td>0.35</td>\n",
              "    </tr>\n",
              "    <tr>\n",
              "      <th>31</th>\n",
              "      <td>CONSTELLATION BRANDS INC</td>\n",
              "      <td>5344306</td>\n",
              "      <td>54832948.07</td>\n",
              "      <td>7.05</td>\n",
              "      <td>10.58</td>\n",
              "      <td>5209043.69</td>\n",
              "      <td>0.09</td>\n",
              "      <td>0.44</td>\n",
              "    </tr>\n",
              "    <tr>\n",
              "      <th>102</th>\n",
              "      <td>Jim Beam Brands</td>\n",
              "      <td>4759446</td>\n",
              "      <td>68387812.08</td>\n",
              "      <td>9.86</td>\n",
              "      <td>14.79</td>\n",
              "      <td>4354502.69</td>\n",
              "      <td>0.07</td>\n",
              "      <td>0.52</td>\n",
              "    </tr>\n",
              "    <tr>\n",
              "      <th>184</th>\n",
              "      <td>SAZERAC NORTH AMERICA</td>\n",
              "      <td>3817805</td>\n",
              "      <td>29579768.11</td>\n",
              "      <td>6.06</td>\n",
              "      <td>9.08</td>\n",
              "      <td>4134035.51</td>\n",
              "      <td>0.07</td>\n",
              "      <td>0.59</td>\n",
              "    </tr>\n",
              "    <tr>\n",
              "      <th>155</th>\n",
              "      <td>PERNOD RICARD USA</td>\n",
              "      <td>3715227</td>\n",
              "      <td>66099956.26</td>\n",
              "      <td>12.21</td>\n",
              "      <td>18.32</td>\n",
              "      <td>3000800.41</td>\n",
              "      <td>0.05</td>\n",
              "      <td>0.64</td>\n",
              "    </tr>\n",
              "    <tr>\n",
              "      <th>63</th>\n",
              "      <td>FIFTH GENERATION INC</td>\n",
              "      <td>2122600</td>\n",
              "      <td>39912885.84</td>\n",
              "      <td>12.23</td>\n",
              "      <td>18.35</td>\n",
              "      <td>2207103.54</td>\n",
              "      <td>0.04</td>\n",
              "      <td>0.67</td>\n",
              "    </tr>\n",
              "    <tr>\n",
              "      <th>87</th>\n",
              "      <td>Heaven Hill Brands</td>\n",
              "      <td>2344656</td>\n",
              "      <td>25616129.58</td>\n",
              "      <td>7.75</td>\n",
              "      <td>11.63</td>\n",
              "      <td>2169508.61</td>\n",
              "      <td>0.04</td>\n",
              "      <td>0.71</td>\n",
              "    </tr>\n",
              "    <tr>\n",
              "      <th>112</th>\n",
              "      <td>Laird &amp; Company</td>\n",
              "      <td>2424523</td>\n",
              "      <td>13742628.41</td>\n",
              "      <td>4.61</td>\n",
              "      <td>6.91</td>\n",
              "      <td>2051218.10</td>\n",
              "      <td>0.03</td>\n",
              "      <td>0.75</td>\n",
              "    </tr>\n",
              "  </tbody>\n",
              "</table>\n",
              "</div>"
            ],
            "text/plain": [
              "                category_name  ...  cum_perc_volume_sold_liters\n",
              "46            DIAGEO AMERICAS  ...                         0.16\n",
              "111                 LUXCO INC  ...                         0.26\n",
              "183      SAZERAC COMPANY  INC  ...                         0.35\n",
              "31   CONSTELLATION BRANDS INC  ...                         0.44\n",
              "102           Jim Beam Brands  ...                         0.52\n",
              "184     SAZERAC NORTH AMERICA  ...                         0.59\n",
              "155         PERNOD RICARD USA  ...                         0.64\n",
              "63       FIFTH GENERATION INC  ...                         0.67\n",
              "87         Heaven Hill Brands  ...                         0.71\n",
              "112           Laird & Company  ...                         0.75\n",
              "\n",
              "[10 rows x 8 columns]"
            ]
          },
          "metadata": {
            "tags": []
          },
          "execution_count": 249
        }
      ]
    },
    {
      "cell_type": "markdown",
      "metadata": {
        "id": "PWc3j3mW7dds",
        "colab_type": "text"
      },
      "source": [
        "DIAGEO AMERICAS\t- top vendor by both metrics - have near 1/5 of all Iowa money spent on liquor and near 1/6 of all liters sold in Iowa were DIAGEO AMERICAS liquors"
      ]
    },
    {
      "cell_type": "markdown",
      "metadata": {
        "id": "-LfcExJD8MA6",
        "colab_type": "text"
      },
      "source": [
        "Let's find the most popular bottle_volume for every vendor\n"
      ]
    },
    {
      "cell_type": "code",
      "metadata": {
        "id": "tD6CBoDs-C2U",
        "colab_type": "code",
        "outputId": "e59ea0b3-279d-4a0c-cad3-0d45deb83e94",
        "colab": {
          "base_uri": "https://localhost:8080/",
          "height": 34
        }
      },
      "source": [
        "vendors_all_with_bottle_volume = pd.pivot_table(df, values=['bottles_sold','state_bottle_cost','state_bottle_retail','sale_dollars','volume_sold_liters'], index=['vendor_name','bottle_volume_ml'], \n",
        "                            aggfunc={'bottles_sold':np.sum, 'state_bottle_cost':np.mean, 'state_bottle_retail':np.mean, 'sale_dollars':np.sum, 'volume_sold_liters':np.sum}).reset_index()\n",
        "                            \n",
        "bottle_volumes = vendors_all_with_bottle_volume[['vendor_name','bottle_volume_ml','bottles_sold']].sort_values(['vendor_name','bottles_sold'], ascending=False)\n",
        "bottle_volumes_grouped = bottle_volumes.groupby(['vendor_name']).head(1)\n",
        "bottle_volumes_grouped = bottle_volumes_grouped.groupby('bottle_volume_ml').size().reset_index()\n",
        "bottle_volumes_grouped = bottle_volumes_grouped.rename(columns={0:'count_by_vendor'})\n",
        "print(\"bottle volume 750 ml is the most popular volume among \"+ (round(bottle_volumes_grouped[bottle_volumes_grouped['bottle_volume_ml']==750].count_by_vendor.sum() / bottle_volumes_grouped.count_by_vendor.sum(),2)*100).astype(int).astype(str) + \"% vendors\")"
      ],
      "execution_count": 0,
      "outputs": [
        {
          "output_type": "stream",
          "text": [
            "bottle volume 750 ml is the most popular volume among 86% vendors\n"
          ],
          "name": "stdout"
        }
      ]
    },
    {
      "cell_type": "markdown",
      "metadata": {
        "id": "MjoRhSIMHaG4",
        "colab_type": "text"
      },
      "source": [
        "### 3.5. Products"
      ]
    },
    {
      "cell_type": "markdown",
      "metadata": {
        "id": "UQqJ8E7bJACQ",
        "colab_type": "text"
      },
      "source": [
        "Find top-10 products by total_volume_sold_liters metrics"
      ]
    },
    {
      "cell_type": "code",
      "metadata": {
        "id": "ENBA39sFHdd0",
        "colab_type": "code",
        "outputId": "3adefee0-b355-453d-a5bf-f378db8b8373",
        "colab": {
          "base_uri": "https://localhost:8080/",
          "height": 359
        }
      },
      "source": [
        "products_all = pd.pivot_table(df, values=['bottles_sold','state_bottle_cost','state_bottle_retail','sale_dollars','volume_sold_liters'], index=['item_description', 'vendor_name'], \n",
        "                            aggfunc={'bottles_sold':np.sum, 'state_bottle_cost':np.mean, 'state_bottle_retail':np.mean, 'sale_dollars':np.sum, 'volume_sold_liters':np.sum}).reset_index()\n",
        "\n",
        "products_all.columns = ['item_description', 'vendor_name', 'total_bottles_sold','total_sale_dollars', 'average_bottle_cost','average_state_bottle_retail','total_volume_sold_liters']\n",
        "\n",
        "products_all = products_all.sort_values(by='total_volume_sold_liters', ascending = False)\n",
        "products_all['perc_volume_sold_liters'] = products_all['total_volume_sold_liters']/products_all['total_volume_sold_liters'].sum()\n",
        "products_all['cum_perc_volume_sold_liters'] = products_all['perc_volume_sold_liters'].cumsum()\n",
        "\n",
        "products_all.head(10)"
      ],
      "execution_count": 0,
      "outputs": [
        {
          "output_type": "execute_result",
          "data": {
            "text/html": [
              "<div>\n",
              "<style scoped>\n",
              "    .dataframe tbody tr th:only-of-type {\n",
              "        vertical-align: middle;\n",
              "    }\n",
              "\n",
              "    .dataframe tbody tr th {\n",
              "        vertical-align: top;\n",
              "    }\n",
              "\n",
              "    .dataframe thead th {\n",
              "        text-align: right;\n",
              "    }\n",
              "</style>\n",
              "<table border=\"1\" class=\"dataframe\">\n",
              "  <thead>\n",
              "    <tr style=\"text-align: right;\">\n",
              "      <th></th>\n",
              "      <th>item_description</th>\n",
              "      <th>vendor_name</th>\n",
              "      <th>total_bottles_sold</th>\n",
              "      <th>total_sale_dollars</th>\n",
              "      <th>average_bottle_cost</th>\n",
              "      <th>average_state_bottle_retail</th>\n",
              "      <th>total_volume_sold_liters</th>\n",
              "      <th>perc_volume_sold_liters</th>\n",
              "      <th>cum_perc_volume_sold_liters</th>\n",
              "    </tr>\n",
              "  </thead>\n",
              "  <tbody>\n",
              "    <tr>\n",
              "      <th>609</th>\n",
              "      <td>Black Velvet</td>\n",
              "      <td>CONSTELLATION BRANDS INC</td>\n",
              "      <td>3147688</td>\n",
              "      <td>33791604.96</td>\n",
              "      <td>6.74</td>\n",
              "      <td>10.11</td>\n",
              "      <td>3594744.51</td>\n",
              "      <td>0.06</td>\n",
              "      <td>0.06</td>\n",
              "    </tr>\n",
              "    <tr>\n",
              "      <th>2466</th>\n",
              "      <td>Hawkeye Vodka</td>\n",
              "      <td>LUXCO INC</td>\n",
              "      <td>2328195</td>\n",
              "      <td>15371444.41</td>\n",
              "      <td>4.71</td>\n",
              "      <td>7.07</td>\n",
              "      <td>2411879.59</td>\n",
              "      <td>0.04</td>\n",
              "      <td>0.10</td>\n",
              "    </tr>\n",
              "    <tr>\n",
              "      <th>4898</th>\n",
              "      <td>Titos Handmade Vodka</td>\n",
              "      <td>FIFTH GENERATION INC</td>\n",
              "      <td>2098566</td>\n",
              "      <td>39446795.28</td>\n",
              "      <td>12.19</td>\n",
              "      <td>18.28</td>\n",
              "      <td>2196830.19</td>\n",
              "      <td>0.04</td>\n",
              "      <td>0.14</td>\n",
              "    </tr>\n",
              "    <tr>\n",
              "      <th>1006</th>\n",
              "      <td>Captain Morgan Spiced Rum</td>\n",
              "      <td>DIAGEO AMERICAS</td>\n",
              "      <td>1344476</td>\n",
              "      <td>23445541.91</td>\n",
              "      <td>11.48</td>\n",
              "      <td>17.23</td>\n",
              "      <td>1375028.58</td>\n",
              "      <td>0.02</td>\n",
              "      <td>0.16</td>\n",
              "    </tr>\n",
              "    <tr>\n",
              "      <th>1911</th>\n",
              "      <td>Fireball Cinnamon Whiskey</td>\n",
              "      <td>SAZERAC COMPANY  INC</td>\n",
              "      <td>1815526</td>\n",
              "      <td>19656869.05</td>\n",
              "      <td>9.76</td>\n",
              "      <td>14.65</td>\n",
              "      <td>1223309.50</td>\n",
              "      <td>0.02</td>\n",
              "      <td>0.18</td>\n",
              "    </tr>\n",
              "    <tr>\n",
              "      <th>492</th>\n",
              "      <td>Barton Vodka</td>\n",
              "      <td>SAZERAC NORTH AMERICA</td>\n",
              "      <td>1021632</td>\n",
              "      <td>6848300.77</td>\n",
              "      <td>5.13</td>\n",
              "      <td>7.70</td>\n",
              "      <td>1141185.05</td>\n",
              "      <td>0.02</td>\n",
              "      <td>0.20</td>\n",
              "    </tr>\n",
              "    <tr>\n",
              "      <th>1943</th>\n",
              "      <td>Five O'clock Vodka</td>\n",
              "      <td>Laird &amp; Company</td>\n",
              "      <td>907575</td>\n",
              "      <td>5369980.16</td>\n",
              "      <td>4.83</td>\n",
              "      <td>7.25</td>\n",
              "      <td>826037.51</td>\n",
              "      <td>0.01</td>\n",
              "      <td>0.22</td>\n",
              "    </tr>\n",
              "    <tr>\n",
              "      <th>3344</th>\n",
              "      <td>Mccormick Vodka Pet</td>\n",
              "      <td>McCormick Distilling Co.</td>\n",
              "      <td>1193381</td>\n",
              "      <td>4784123.69</td>\n",
              "      <td>4.14</td>\n",
              "      <td>6.22</td>\n",
              "      <td>699275.63</td>\n",
              "      <td>0.01</td>\n",
              "      <td>0.23</td>\n",
              "    </tr>\n",
              "    <tr>\n",
              "      <th>172</th>\n",
              "      <td>Admiral Nelson Spiced Rum</td>\n",
              "      <td>Heaven Hill Brands</td>\n",
              "      <td>645203</td>\n",
              "      <td>7210094.93</td>\n",
              "      <td>8.03</td>\n",
              "      <td>12.05</td>\n",
              "      <td>692306.25</td>\n",
              "      <td>0.01</td>\n",
              "      <td>0.24</td>\n",
              "    </tr>\n",
              "    <tr>\n",
              "      <th>1347</th>\n",
              "      <td>Crown Royal</td>\n",
              "      <td>DIAGEO AMERICAS</td>\n",
              "      <td>805478</td>\n",
              "      <td>19130260.57</td>\n",
              "      <td>15.36</td>\n",
              "      <td>23.05</td>\n",
              "      <td>638672.21</td>\n",
              "      <td>0.01</td>\n",
              "      <td>0.25</td>\n",
              "    </tr>\n",
              "  </tbody>\n",
              "</table>\n",
              "</div>"
            ],
            "text/plain": [
              "               item_description  ... cum_perc_volume_sold_liters\n",
              "609                Black Velvet  ...                        0.06\n",
              "2466              Hawkeye Vodka  ...                        0.10\n",
              "4898       Titos Handmade Vodka  ...                        0.14\n",
              "1006  Captain Morgan Spiced Rum  ...                        0.16\n",
              "1911  Fireball Cinnamon Whiskey  ...                        0.18\n",
              "492                Barton Vodka  ...                        0.20\n",
              "1943         Five O'clock Vodka  ...                        0.22\n",
              "3344        Mccormick Vodka Pet  ...                        0.23\n",
              "172   Admiral Nelson Spiced Rum  ...                        0.24\n",
              "1347                Crown Royal  ...                        0.25\n",
              "\n",
              "[10 rows x 9 columns]"
            ]
          },
          "metadata": {
            "tags": []
          },
          "execution_count": 285
        }
      ]
    }
  ]
}