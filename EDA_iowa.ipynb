{
  "nbformat": 4,
  "nbformat_minor": 0,
  "metadata": {
    "colab": {
      "name": "EDA_iowa.ipynb",
      "provenance": [],
      "collapsed_sections": [],
      "authorship_tag": "ABX9TyOrqaKPBVhJGPIPbaiyitZZ",
      "include_colab_link": true
    },
    "kernelspec": {
      "name": "python3",
      "display_name": "Python 3"
    }
  },
  "cells": [
    {
      "cell_type": "markdown",
      "metadata": {
        "id": "view-in-github",
        "colab_type": "text"
      },
      "source": [
        "<a href=\"https://colab.research.google.com/github/polesh21/iowa_liquor_sales/blob/stage/EDA_iowa.ipynb\" target=\"_parent\"><img src=\"https://colab.research.google.com/assets/colab-badge.svg\" alt=\"Open In Colab\"/></a>"
      ]
    },
    {
      "cell_type": "markdown",
      "metadata": {
        "id": "uEk3TTXgjRZm",
        "colab_type": "text"
      },
      "source": [
        ""
      ]
    },
    {
      "cell_type": "code",
      "metadata": {
        "id": "j7U4fxzopm8t",
        "colab_type": "code",
        "colab": {}
      },
      "source": [
        "import pandas as pd\n",
        "import numpy as np"
      ],
      "execution_count": 0,
      "outputs": []
    },
    {
      "cell_type": "markdown",
      "metadata": {
        "id": "fSvQVu8qjJFR",
        "colab_type": "text"
      },
      "source": [
        "# Connect to Google Bigquery public data \"iows_luqior_sales\"\n",
        "\n"
      ]
    },
    {
      "cell_type": "code",
      "metadata": {
        "id": "jEpZLjNalzV8",
        "colab_type": "code",
        "outputId": "71507e9d-406c-49b9-b3f6-bfe8a451419e",
        "colab": {
          "base_uri": "https://localhost:8080/",
          "height": 122
        }
      },
      "source": [
        "from google.colab import drive\n",
        "drive.mount('/content/gdrive')"
      ],
      "execution_count": 2,
      "outputs": [
        {
          "output_type": "stream",
          "text": [
            "Go to this URL in a browser: https://accounts.google.com/o/oauth2/auth?client_id=947318989803-6bn6qk8qdgf4n4g3pfee6491hc0brc4i.apps.googleusercontent.com&redirect_uri=urn%3aietf%3awg%3aoauth%3a2.0%3aoob&response_type=code&scope=email%20https%3a%2f%2fwww.googleapis.com%2fauth%2fdocs.test%20https%3a%2f%2fwww.googleapis.com%2fauth%2fdrive%20https%3a%2f%2fwww.googleapis.com%2fauth%2fdrive.photos.readonly%20https%3a%2f%2fwww.googleapis.com%2fauth%2fpeopleapi.readonly\n",
            "\n",
            "Enter your authorization code:\n",
            "··········\n",
            "Mounted at /content/gdrive\n"
          ],
          "name": "stdout"
        }
      ]
    },
    {
      "cell_type": "code",
      "metadata": {
        "colab_type": "code",
        "id": "NUzQWsLFlz6U",
        "outputId": "ad546b3a-672a-4612-dfb1-7ec48cabccd7",
        "colab": {
          "base_uri": "https://localhost:8080/",
          "height": 34
        }
      },
      "source": [
        "#ensure the file is accessible\n",
        "!ls /content/gdrive/'My Drive'/'Colab Notebooks'/temp"
      ],
      "execution_count": 3,
      "outputs": [
        {
          "output_type": "stream",
          "text": [
            "DPolieshko-0cf48e53ce74.json\n"
          ],
          "name": "stdout"
        }
      ]
    },
    {
      "cell_type": "code",
      "metadata": {
        "id": "DJH8ObvaoGA_",
        "colab_type": "code",
        "colab": {}
      },
      "source": [
        "from google.cloud import bigquery\n",
        "import os\n",
        "os.environ[\"GOOGLE_APPLICATION_CREDENTIALS\"]=\"/content/gdrive/My Drive/Colab Notebooks/temp/DPolieshko-0cf48e53ce74.json\""
      ],
      "execution_count": 0,
      "outputs": []
    },
    {
      "cell_type": "code",
      "metadata": {
        "id": "E8nrIvQcoT2E",
        "colab_type": "code",
        "outputId": "2edb9c42-7ad7-4a46-84b2-0f32e211df8c",
        "colab": {
          "base_uri": "https://localhost:8080/",
          "height": 34
        }
      },
      "source": [
        "#ensure the path is set correctly\n",
        "!echo $GOOGLE_APPLICATION_CREDENTIALS"
      ],
      "execution_count": 5,
      "outputs": [
        {
          "output_type": "stream",
          "text": [
            "/content/gdrive/My Drive/Colab Notebooks/temp/DPolieshko-0cf48e53ce74.json\n"
          ],
          "name": "stdout"
        }
      ]
    },
    {
      "cell_type": "code",
      "metadata": {
        "id": "QiA6_MBVlbPi",
        "colab_type": "code",
        "colab": {}
      },
      "source": [
        "client = bigquery.Client()"
      ],
      "execution_count": 0,
      "outputs": []
    },
    {
      "cell_type": "markdown",
      "metadata": {
        "id": "rkKXHvDhjgyO",
        "colab_type": "text"
      },
      "source": [
        "In this analysis we are going to extract data for 2017-2019:\n"
      ]
    },
    {
      "cell_type": "code",
      "metadata": {
        "id": "uHgAZ23IwoYh",
        "colab_type": "code",
        "colab": {}
      },
      "source": [
        "sql = '''\n",
        "        SELECT *\n",
        "        FROM `bigquery-public-data.iowa_liquor_sales.sales`\n",
        "         where date >='2017-01-01' and date <='2019-12-31'\n",
        "        '''\n",
        "\n",
        "df = client.query(sql).to_dataframe()"
      ],
      "execution_count": 0,
      "outputs": []
    },
    {
      "cell_type": "markdown",
      "metadata": {
        "id": "ZJ4WbeSHikg0",
        "colab_type": "text"
      },
      "source": [
        "# Data preparation"
      ]
    },
    {
      "cell_type": "code",
      "metadata": {
        "id": "UKGJVyGK1z_c",
        "colab_type": "code",
        "outputId": "12f9fec2-f4a0-4b5b-e85d-c0177e0a05db",
        "colab": {
          "base_uri": "https://localhost:8080/",
          "height": 173
        }
      },
      "source": [
        "df[['store_name','county','category_name','vendor_name','item_description','category_name']].describe()\n",
        " #   'bottle_volume_ml','state_bottle_cost','state_bottle_retail','bottles_sold','sale_dollars','volume_sold_liters']].describe()"
      ],
      "execution_count": 8,
      "outputs": [
        {
          "output_type": "execute_result",
          "data": {
            "text/html": [
              "<div>\n",
              "<style scoped>\n",
              "    .dataframe tbody tr th:only-of-type {\n",
              "        vertical-align: middle;\n",
              "    }\n",
              "\n",
              "    .dataframe tbody tr th {\n",
              "        vertical-align: top;\n",
              "    }\n",
              "\n",
              "    .dataframe thead th {\n",
              "        text-align: right;\n",
              "    }\n",
              "</style>\n",
              "<table border=\"1\" class=\"dataframe\">\n",
              "  <thead>\n",
              "    <tr style=\"text-align: right;\">\n",
              "      <th></th>\n",
              "      <th>store_name</th>\n",
              "      <th>county</th>\n",
              "      <th>category_name</th>\n",
              "      <th>vendor_name</th>\n",
              "      <th>item_description</th>\n",
              "      <th>category_name</th>\n",
              "    </tr>\n",
              "  </thead>\n",
              "  <tbody>\n",
              "    <tr>\n",
              "      <th>count</th>\n",
              "      <td>7027179</td>\n",
              "      <td>6977246</td>\n",
              "      <td>7019110</td>\n",
              "      <td>7027176</td>\n",
              "      <td>7027179</td>\n",
              "      <td>7019110</td>\n",
              "    </tr>\n",
              "    <tr>\n",
              "      <th>unique</th>\n",
              "      <td>2007</td>\n",
              "      <td>132</td>\n",
              "      <td>55</td>\n",
              "      <td>250</td>\n",
              "      <td>5303</td>\n",
              "      <td>55</td>\n",
              "    </tr>\n",
              "    <tr>\n",
              "      <th>top</th>\n",
              "      <td>Hy-Vee #3 / BDI / Des Moines</td>\n",
              "      <td>POLK</td>\n",
              "      <td>American Vodkas</td>\n",
              "      <td>DIAGEO AMERICAS</td>\n",
              "      <td>Black Velvet</td>\n",
              "      <td>American Vodkas</td>\n",
              "    </tr>\n",
              "    <tr>\n",
              "      <th>freq</th>\n",
              "      <td>63906</td>\n",
              "      <td>1160867</td>\n",
              "      <td>1063138</td>\n",
              "      <td>1193449</td>\n",
              "      <td>182819</td>\n",
              "      <td>1063138</td>\n",
              "    </tr>\n",
              "  </tbody>\n",
              "</table>\n",
              "</div>"
            ],
            "text/plain": [
              "                          store_name   county  ... item_description    category_name\n",
              "count                        7027179  6977246  ...          7027179          7019110\n",
              "unique                          2007      132  ...             5303               55\n",
              "top     Hy-Vee #3 / BDI / Des Moines     POLK  ...     Black Velvet  American Vodkas\n",
              "freq                           63906  1160867  ...           182819          1063138\n",
              "\n",
              "[4 rows x 6 columns]"
            ]
          },
          "metadata": {
            "tags": []
          },
          "execution_count": 8
        }
      ]
    },
    {
      "cell_type": "markdown",
      "metadata": {
        "id": "sV09YRxIioos",
        "colab_type": "text"
      },
      "source": [
        "\n",
        "Several text columns appear to have not equal number of values. That's why we need to drop na values and remove duplicates in our table"
      ]
    },
    {
      "cell_type": "code",
      "metadata": {
        "id": "7cC_wSpyT0rN",
        "colab_type": "code",
        "colab": {}
      },
      "source": [
        "df = df.dropna()\n",
        "df = df.drop_duplicates()"
      ],
      "execution_count": 0,
      "outputs": []
    },
    {
      "cell_type": "markdown",
      "metadata": {
        "id": "d3fIhribivv2",
        "colab_type": "text"
      },
      "source": [
        "\n",
        "Now we can identify most frequent values in our columns"
      ]
    },
    {
      "cell_type": "code",
      "metadata": {
        "id": "-yj95CQYkWaN",
        "colab_type": "code",
        "outputId": "adf71e74-09f6-41ae-c8a7-ed89778af772",
        "colab": {
          "base_uri": "https://localhost:8080/",
          "height": 173
        }
      },
      "source": [
        "df[['store_name','county','category_name','vendor_name','item_description','category_name']].describe()\n",
        " #   'bottle_volume_ml','state_bottle_cost','state_bottle_retail','bottles_sold','sale_dollars','volume_sold_liters']].describe()"
      ],
      "execution_count": 10,
      "outputs": [
        {
          "output_type": "execute_result",
          "data": {
            "text/html": [
              "<div>\n",
              "<style scoped>\n",
              "    .dataframe tbody tr th:only-of-type {\n",
              "        vertical-align: middle;\n",
              "    }\n",
              "\n",
              "    .dataframe tbody tr th {\n",
              "        vertical-align: top;\n",
              "    }\n",
              "\n",
              "    .dataframe thead th {\n",
              "        text-align: right;\n",
              "    }\n",
              "</style>\n",
              "<table border=\"1\" class=\"dataframe\">\n",
              "  <thead>\n",
              "    <tr style=\"text-align: right;\">\n",
              "      <th></th>\n",
              "      <th>store_name</th>\n",
              "      <th>county</th>\n",
              "      <th>category_name</th>\n",
              "      <th>vendor_name</th>\n",
              "      <th>item_description</th>\n",
              "      <th>category_name</th>\n",
              "    </tr>\n",
              "  </thead>\n",
              "  <tbody>\n",
              "    <tr>\n",
              "      <th>count</th>\n",
              "      <td>6315669</td>\n",
              "      <td>6315669</td>\n",
              "      <td>6315669</td>\n",
              "      <td>6315669</td>\n",
              "      <td>6315669</td>\n",
              "      <td>6315669</td>\n",
              "    </tr>\n",
              "    <tr>\n",
              "      <th>unique</th>\n",
              "      <td>1863</td>\n",
              "      <td>129</td>\n",
              "      <td>55</td>\n",
              "      <td>243</td>\n",
              "      <td>5090</td>\n",
              "      <td>55</td>\n",
              "    </tr>\n",
              "    <tr>\n",
              "      <th>top</th>\n",
              "      <td>Hy-Vee #3 / BDI / Des Moines</td>\n",
              "      <td>POLK</td>\n",
              "      <td>American Vodkas</td>\n",
              "      <td>DIAGEO AMERICAS</td>\n",
              "      <td>Black Velvet</td>\n",
              "      <td>American Vodkas</td>\n",
              "    </tr>\n",
              "    <tr>\n",
              "      <th>freq</th>\n",
              "      <td>63770</td>\n",
              "      <td>1032853</td>\n",
              "      <td>958487</td>\n",
              "      <td>1072822</td>\n",
              "      <td>166209</td>\n",
              "      <td>958487</td>\n",
              "    </tr>\n",
              "  </tbody>\n",
              "</table>\n",
              "</div>"
            ],
            "text/plain": [
              "                          store_name   county  ... item_description    category_name\n",
              "count                        6315669  6315669  ...          6315669          6315669\n",
              "unique                          1863      129  ...             5090               55\n",
              "top     Hy-Vee #3 / BDI / Des Moines     POLK  ...     Black Velvet  American Vodkas\n",
              "freq                           63770  1032853  ...           166209           958487\n",
              "\n",
              "[4 rows x 6 columns]"
            ]
          },
          "metadata": {
            "tags": []
          },
          "execution_count": 10
        }
      ]
    },
    {
      "cell_type": "markdown",
      "metadata": {
        "id": "WHDy-VRDi0IK",
        "colab_type": "text"
      },
      "source": [
        "Let's check data types in our table"
      ]
    },
    {
      "cell_type": "code",
      "metadata": {
        "id": "KEFhpZuZoJ11",
        "colab_type": "code",
        "outputId": "76ca0a38-9e03-4020-a806-1558ffcc67b4",
        "colab": {
          "base_uri": "https://localhost:8080/",
          "height": 510
        }
      },
      "source": [
        "df.info()"
      ],
      "execution_count": 0,
      "outputs": [
        {
          "output_type": "stream",
          "text": [
            "<class 'pandas.core.frame.DataFrame'>\n",
            "Int64Index: 6315669 entries, 0 to 7027178\n",
            "Data columns (total 24 columns):\n",
            "invoice_and_item_number    object\n",
            "date                       object\n",
            "store_number               object\n",
            "store_name                 object\n",
            "address                    object\n",
            "city                       object\n",
            "zip_code                   object\n",
            "store_location             object\n",
            "county_number              object\n",
            "county                     object\n",
            "category                   object\n",
            "category_name              object\n",
            "vendor_number              object\n",
            "vendor_name                object\n",
            "item_number                object\n",
            "item_description           object\n",
            "pack                       int64\n",
            "bottle_volume_ml           int64\n",
            "state_bottle_cost          float64\n",
            "state_bottle_retail        float64\n",
            "bottles_sold               int64\n",
            "sale_dollars               float64\n",
            "volume_sold_liters         float64\n",
            "volume_sold_gallons        float64\n",
            "dtypes: float64(5), int64(3), object(16)\n",
            "memory usage: 1.2+ GB\n"
          ],
          "name": "stdout"
        }
      ]
    },
    {
      "cell_type": "markdown",
      "metadata": {
        "id": "1WBzuaAei5LC",
        "colab_type": "text"
      },
      "source": [
        "We notice that column with dates isn't actually a date column. Let's fix it"
      ]
    },
    {
      "cell_type": "code",
      "metadata": {
        "id": "Vuiomu1uoLjO",
        "colab_type": "code",
        "outputId": "932fd315-523b-466e-c2fb-f0c1617e9e34",
        "colab": {
          "base_uri": "https://localhost:8080/",
          "height": 898
        }
      },
      "source": [
        "#convert date column to date type\n",
        "df['date']= pd.to_datetime(df['date'])\n",
        "\n",
        "#make additional columns for further analysis\n",
        "df['month'] = df['date'].dt.month\n",
        "df['year'] = df['date'].dt.year\n",
        "df['day_of_week_num'] = df['date'].dt.dayofweek\n",
        "df['day_of_week'] = df['date'].dt.weekday_name\n",
        "df"
      ],
      "execution_count": 11,
      "outputs": [
        {
          "output_type": "execute_result",
          "data": {
            "text/html": [
              "<div>\n",
              "<style scoped>\n",
              "    .dataframe tbody tr th:only-of-type {\n",
              "        vertical-align: middle;\n",
              "    }\n",
              "\n",
              "    .dataframe tbody tr th {\n",
              "        vertical-align: top;\n",
              "    }\n",
              "\n",
              "    .dataframe thead th {\n",
              "        text-align: right;\n",
              "    }\n",
              "</style>\n",
              "<table border=\"1\" class=\"dataframe\">\n",
              "  <thead>\n",
              "    <tr style=\"text-align: right;\">\n",
              "      <th></th>\n",
              "      <th>invoice_and_item_number</th>\n",
              "      <th>date</th>\n",
              "      <th>store_number</th>\n",
              "      <th>store_name</th>\n",
              "      <th>address</th>\n",
              "      <th>city</th>\n",
              "      <th>zip_code</th>\n",
              "      <th>store_location</th>\n",
              "      <th>county_number</th>\n",
              "      <th>county</th>\n",
              "      <th>category</th>\n",
              "      <th>category_name</th>\n",
              "      <th>vendor_number</th>\n",
              "      <th>vendor_name</th>\n",
              "      <th>item_number</th>\n",
              "      <th>item_description</th>\n",
              "      <th>pack</th>\n",
              "      <th>bottle_volume_ml</th>\n",
              "      <th>state_bottle_cost</th>\n",
              "      <th>state_bottle_retail</th>\n",
              "      <th>bottles_sold</th>\n",
              "      <th>sale_dollars</th>\n",
              "      <th>volume_sold_liters</th>\n",
              "      <th>volume_sold_gallons</th>\n",
              "      <th>month</th>\n",
              "      <th>year</th>\n",
              "      <th>day_of_week_num</th>\n",
              "      <th>day_of_week</th>\n",
              "    </tr>\n",
              "  </thead>\n",
              "  <tbody>\n",
              "    <tr>\n",
              "      <th>0</th>\n",
              "      <td>INV-22062200070</td>\n",
              "      <td>2019-09-23</td>\n",
              "      <td>2552</td>\n",
              "      <td>Hy-Vee Food Store #3 / Cedar Rapids</td>\n",
              "      <td>20 Wilson Avenue West</td>\n",
              "      <td>Cedar Rapids</td>\n",
              "      <td>52404</td>\n",
              "      <td>POINT (-91.658577 41.955859)</td>\n",
              "      <td>57</td>\n",
              "      <td>LINN</td>\n",
              "      <td>1081600</td>\n",
              "      <td>Whiskey Liqueur</td>\n",
              "      <td>121</td>\n",
              "      <td>COOPER SPIRITS INTERNATIONAL</td>\n",
              "      <td>74740</td>\n",
              "      <td>Slow and Low</td>\n",
              "      <td>6</td>\n",
              "      <td>750</td>\n",
              "      <td>12.17</td>\n",
              "      <td>18.26</td>\n",
              "      <td>6</td>\n",
              "      <td>118.56</td>\n",
              "      <td>4.50</td>\n",
              "      <td>1.18</td>\n",
              "      <td>9</td>\n",
              "      <td>2019</td>\n",
              "      <td>0</td>\n",
              "      <td>Monday</td>\n",
              "    </tr>\n",
              "    <tr>\n",
              "      <th>1</th>\n",
              "      <td>INV-19241400019</td>\n",
              "      <td>2019-05-08</td>\n",
              "      <td>4609</td>\n",
              "      <td>Kum &amp; Go #579 / Ankeny</td>\n",
              "      <td>165 SW Magazine Rd</td>\n",
              "      <td>Ankeny</td>\n",
              "      <td>50023</td>\n",
              "      <td>POINT (-93.602007 41.717286)</td>\n",
              "      <td>77</td>\n",
              "      <td>Polk</td>\n",
              "      <td>1081600</td>\n",
              "      <td>Whiskey Liqueur</td>\n",
              "      <td>421</td>\n",
              "      <td>SAZERAC COMPANY  INC</td>\n",
              "      <td>64865</td>\n",
              "      <td>Fireball Cinnamon Whiskey PET</td>\n",
              "      <td>12</td>\n",
              "      <td>750</td>\n",
              "      <td>8.98</td>\n",
              "      <td>13.47</td>\n",
              "      <td>6</td>\n",
              "      <td>80.82</td>\n",
              "      <td>4.50</td>\n",
              "      <td>1.18</td>\n",
              "      <td>5</td>\n",
              "      <td>2019</td>\n",
              "      <td>2</td>\n",
              "      <td>Wednesday</td>\n",
              "    </tr>\n",
              "    <tr>\n",
              "      <th>2</th>\n",
              "      <td>INV-19084500011</td>\n",
              "      <td>2019-05-01</td>\n",
              "      <td>4767</td>\n",
              "      <td>Casey's General Store #3075 / Ankeny</td>\n",
              "      <td>6981 NE 14th St</td>\n",
              "      <td>Ankeny</td>\n",
              "      <td>50023</td>\n",
              "      <td>POINT (-93.600659 41.687793000000006)</td>\n",
              "      <td>77</td>\n",
              "      <td>Polk</td>\n",
              "      <td>1081600</td>\n",
              "      <td>Whiskey Liqueur</td>\n",
              "      <td>421</td>\n",
              "      <td>SAZERAC COMPANY  INC</td>\n",
              "      <td>86884</td>\n",
              "      <td>Southern Comfort</td>\n",
              "      <td>24</td>\n",
              "      <td>375</td>\n",
              "      <td>4.78</td>\n",
              "      <td>7.17</td>\n",
              "      <td>12</td>\n",
              "      <td>86.04</td>\n",
              "      <td>4.50</td>\n",
              "      <td>1.18</td>\n",
              "      <td>5</td>\n",
              "      <td>2019</td>\n",
              "      <td>2</td>\n",
              "      <td>Wednesday</td>\n",
              "    </tr>\n",
              "    <tr>\n",
              "      <th>3</th>\n",
              "      <td>INV-22554900004</td>\n",
              "      <td>2019-10-15</td>\n",
              "      <td>4980</td>\n",
              "      <td>Pronto BP</td>\n",
              "      <td>7305 Laporte Rd</td>\n",
              "      <td>Washburn</td>\n",
              "      <td>50702</td>\n",
              "      <td>POINT (-92.264665 42.409095)</td>\n",
              "      <td>7</td>\n",
              "      <td>Black Hawk</td>\n",
              "      <td>1081600</td>\n",
              "      <td>Whiskey Liqueur</td>\n",
              "      <td>421</td>\n",
              "      <td>SAZERAC COMPANY  INC</td>\n",
              "      <td>64865</td>\n",
              "      <td>Fireball Cinnamon Whiskey PET</td>\n",
              "      <td>12</td>\n",
              "      <td>750</td>\n",
              "      <td>8.98</td>\n",
              "      <td>13.47</td>\n",
              "      <td>6</td>\n",
              "      <td>80.82</td>\n",
              "      <td>4.50</td>\n",
              "      <td>1.18</td>\n",
              "      <td>10</td>\n",
              "      <td>2019</td>\n",
              "      <td>1</td>\n",
              "      <td>Tuesday</td>\n",
              "    </tr>\n",
              "    <tr>\n",
              "      <th>4</th>\n",
              "      <td>INV-22243700017</td>\n",
              "      <td>2019-10-01</td>\n",
              "      <td>5519</td>\n",
              "      <td>Casey's General Store #3648 / Akron</td>\n",
              "      <td>80 South St</td>\n",
              "      <td>Akron</td>\n",
              "      <td>51001</td>\n",
              "      <td>POINT (-96.56323 42.823106)</td>\n",
              "      <td>75</td>\n",
              "      <td>PLYMOUTH</td>\n",
              "      <td>1081600</td>\n",
              "      <td>Whiskey Liqueur</td>\n",
              "      <td>421</td>\n",
              "      <td>SAZERAC COMPANY  INC</td>\n",
              "      <td>64865</td>\n",
              "      <td>Fireball Cinnamon Whiskey PET</td>\n",
              "      <td>12</td>\n",
              "      <td>750</td>\n",
              "      <td>8.98</td>\n",
              "      <td>13.47</td>\n",
              "      <td>6</td>\n",
              "      <td>80.82</td>\n",
              "      <td>4.50</td>\n",
              "      <td>1.18</td>\n",
              "      <td>10</td>\n",
              "      <td>2019</td>\n",
              "      <td>1</td>\n",
              "      <td>Tuesday</td>\n",
              "    </tr>\n",
              "    <tr>\n",
              "      <th>...</th>\n",
              "      <td>...</td>\n",
              "      <td>...</td>\n",
              "      <td>...</td>\n",
              "      <td>...</td>\n",
              "      <td>...</td>\n",
              "      <td>...</td>\n",
              "      <td>...</td>\n",
              "      <td>...</td>\n",
              "      <td>...</td>\n",
              "      <td>...</td>\n",
              "      <td>...</td>\n",
              "      <td>...</td>\n",
              "      <td>...</td>\n",
              "      <td>...</td>\n",
              "      <td>...</td>\n",
              "      <td>...</td>\n",
              "      <td>...</td>\n",
              "      <td>...</td>\n",
              "      <td>...</td>\n",
              "      <td>...</td>\n",
              "      <td>...</td>\n",
              "      <td>...</td>\n",
              "      <td>...</td>\n",
              "      <td>...</td>\n",
              "      <td>...</td>\n",
              "      <td>...</td>\n",
              "      <td>...</td>\n",
              "      <td>...</td>\n",
              "    </tr>\n",
              "    <tr>\n",
              "      <th>7027173</th>\n",
              "      <td>INV-10722800103</td>\n",
              "      <td>2018-03-05</td>\n",
              "      <td>2653</td>\n",
              "      <td>Hy-Vee Wine and Spirits / Washington</td>\n",
              "      <td>1004 W Madison St</td>\n",
              "      <td>Washington</td>\n",
              "      <td>52353</td>\n",
              "      <td>POINT (-91.704567 41.296576)</td>\n",
              "      <td>92</td>\n",
              "      <td>WASHINGTON</td>\n",
              "      <td>1081600</td>\n",
              "      <td>Whiskey Liqueur</td>\n",
              "      <td>260</td>\n",
              "      <td>DIAGEO AMERICAS</td>\n",
              "      <td>66203</td>\n",
              "      <td>Piehole Apple Pie</td>\n",
              "      <td>12</td>\n",
              "      <td>750</td>\n",
              "      <td>7.49</td>\n",
              "      <td>11.24</td>\n",
              "      <td>2</td>\n",
              "      <td>22.48</td>\n",
              "      <td>1.50</td>\n",
              "      <td>0.40</td>\n",
              "      <td>3</td>\n",
              "      <td>2018</td>\n",
              "      <td>0</td>\n",
              "      <td>Monday</td>\n",
              "    </tr>\n",
              "    <tr>\n",
              "      <th>7027174</th>\n",
              "      <td>INV-20525300090</td>\n",
              "      <td>2019-07-10</td>\n",
              "      <td>2605</td>\n",
              "      <td>Hy-Vee Drugstore #5 / Cedar Rapids</td>\n",
              "      <td>2001 Blairs Ferry Road NE</td>\n",
              "      <td>Cedar Rapids</td>\n",
              "      <td>52402</td>\n",
              "      <td>POINT (-91.668909 42.034799)</td>\n",
              "      <td>57</td>\n",
              "      <td>LINN</td>\n",
              "      <td>1081600</td>\n",
              "      <td>Whiskey Liqueur</td>\n",
              "      <td>421</td>\n",
              "      <td>SAZERAC COMPANY  INC</td>\n",
              "      <td>66203</td>\n",
              "      <td>Piehole Apple Pie</td>\n",
              "      <td>12</td>\n",
              "      <td>750</td>\n",
              "      <td>7.49</td>\n",
              "      <td>11.24</td>\n",
              "      <td>3</td>\n",
              "      <td>33.72</td>\n",
              "      <td>2.25</td>\n",
              "      <td>0.59</td>\n",
              "      <td>7</td>\n",
              "      <td>2019</td>\n",
              "      <td>2</td>\n",
              "      <td>Wednesday</td>\n",
              "    </tr>\n",
              "    <tr>\n",
              "      <th>7027175</th>\n",
              "      <td>INV-21878300041</td>\n",
              "      <td>2019-09-13</td>\n",
              "      <td>2612</td>\n",
              "      <td>Hy-Vee Store / Perry</td>\n",
              "      <td>1215  141 St</td>\n",
              "      <td>Perry</td>\n",
              "      <td>50220</td>\n",
              "      <td>POINT (-94.104501 41.830292)</td>\n",
              "      <td>25</td>\n",
              "      <td>DALLAS</td>\n",
              "      <td>1081600</td>\n",
              "      <td>Whiskey Liqueur</td>\n",
              "      <td>421</td>\n",
              "      <td>SAZERAC COMPANY  INC</td>\n",
              "      <td>66203</td>\n",
              "      <td>Piehole Apple Pie</td>\n",
              "      <td>12</td>\n",
              "      <td>750</td>\n",
              "      <td>7.49</td>\n",
              "      <td>11.24</td>\n",
              "      <td>3</td>\n",
              "      <td>33.72</td>\n",
              "      <td>2.25</td>\n",
              "      <td>0.59</td>\n",
              "      <td>9</td>\n",
              "      <td>2019</td>\n",
              "      <td>4</td>\n",
              "      <td>Friday</td>\n",
              "    </tr>\n",
              "    <tr>\n",
              "      <th>7027176</th>\n",
              "      <td>INV-13091200020</td>\n",
              "      <td>2018-07-06</td>\n",
              "      <td>2602</td>\n",
              "      <td>Hy-Vee Food Store / Webster City</td>\n",
              "      <td>823  2nd St</td>\n",
              "      <td>Webster City</td>\n",
              "      <td>50595</td>\n",
              "      <td>POINT (-93.825486 42.469466)</td>\n",
              "      <td>40</td>\n",
              "      <td>HAMILTON</td>\n",
              "      <td>1081600</td>\n",
              "      <td>Whiskey Liqueur</td>\n",
              "      <td>260</td>\n",
              "      <td>DIAGEO AMERICAS</td>\n",
              "      <td>66208</td>\n",
              "      <td>Piehole Cherry Pie</td>\n",
              "      <td>12</td>\n",
              "      <td>750</td>\n",
              "      <td>7.49</td>\n",
              "      <td>11.24</td>\n",
              "      <td>3</td>\n",
              "      <td>33.72</td>\n",
              "      <td>2.25</td>\n",
              "      <td>0.59</td>\n",
              "      <td>7</td>\n",
              "      <td>2018</td>\n",
              "      <td>4</td>\n",
              "      <td>Friday</td>\n",
              "    </tr>\n",
              "    <tr>\n",
              "      <th>7027177</th>\n",
              "      <td>INV-23602200116</td>\n",
              "      <td>2019-12-02</td>\n",
              "      <td>2576</td>\n",
              "      <td>Hy-Vee Wine and Spirits / Storm Lake</td>\n",
              "      <td>1250 N Lake St</td>\n",
              "      <td>Storm Lake</td>\n",
              "      <td>50588</td>\n",
              "      <td>POINT (-95.200758 42.65318400000001)</td>\n",
              "      <td>11</td>\n",
              "      <td>BUENA VIST</td>\n",
              "      <td>1081600</td>\n",
              "      <td>Whiskey Liqueur</td>\n",
              "      <td>421</td>\n",
              "      <td>SAZERAC COMPANY  INC</td>\n",
              "      <td>66213</td>\n",
              "      <td>Piehole Pecan Pie</td>\n",
              "      <td>12</td>\n",
              "      <td>750</td>\n",
              "      <td>7.49</td>\n",
              "      <td>11.24</td>\n",
              "      <td>3</td>\n",
              "      <td>33.72</td>\n",
              "      <td>2.25</td>\n",
              "      <td>0.59</td>\n",
              "      <td>12</td>\n",
              "      <td>2019</td>\n",
              "      <td>0</td>\n",
              "      <td>Monday</td>\n",
              "    </tr>\n",
              "  </tbody>\n",
              "</table>\n",
              "<p>6315669 rows × 28 columns</p>\n",
              "</div>"
            ],
            "text/plain": [
              "        invoice_and_item_number       date  ... day_of_week_num day_of_week\n",
              "0               INV-22062200070 2019-09-23  ...               0      Monday\n",
              "1               INV-19241400019 2019-05-08  ...               2   Wednesday\n",
              "2               INV-19084500011 2019-05-01  ...               2   Wednesday\n",
              "3               INV-22554900004 2019-10-15  ...               1     Tuesday\n",
              "4               INV-22243700017 2019-10-01  ...               1     Tuesday\n",
              "...                         ...        ...  ...             ...         ...\n",
              "7027173         INV-10722800103 2018-03-05  ...               0      Monday\n",
              "7027174         INV-20525300090 2019-07-10  ...               2   Wednesday\n",
              "7027175         INV-21878300041 2019-09-13  ...               4      Friday\n",
              "7027176         INV-13091200020 2018-07-06  ...               4      Friday\n",
              "7027177         INV-23602200116 2019-12-02  ...               0      Monday\n",
              "\n",
              "[6315669 rows x 28 columns]"
            ]
          },
          "metadata": {
            "tags": []
          },
          "execution_count": 11
        }
      ]
    },
    {
      "cell_type": "markdown",
      "metadata": {
        "id": "hbzJCR6FjGxo",
        "colab_type": "text"
      },
      "source": [
        "# Data Analysis"
      ]
    },
    {
      "cell_type": "markdown",
      "metadata": {
        "id": "_etvDYbJjWF6",
        "colab_type": "text"
      },
      "source": [
        "Let's find annual sold liters amount"
      ]
    },
    {
      "cell_type": "code",
      "metadata": {
        "id": "Tcf7SVMfj17q",
        "colab_type": "code",
        "colab": {
          "base_uri": "https://localhost:8080/",
          "height": 142
        },
        "outputId": "585cb33c-140d-4a2d-fd8a-9ee7ab9036c0"
      },
      "source": [
        "by_year = df.groupby(['year']).sum().reset_index()\n",
        "liters_by_year = by_year[['year','volume_sold_liters']]\n",
        "\n",
        "#remove scientific notation\n",
        "pd.set_option('display.float_format', lambda x: '%.2f' % x)\n",
        "\n",
        "liters_by_year"
      ],
      "execution_count": 14,
      "outputs": [
        {
          "output_type": "execute_result",
          "data": {
            "text/html": [
              "<div>\n",
              "<style scoped>\n",
              "    .dataframe tbody tr th:only-of-type {\n",
              "        vertical-align: middle;\n",
              "    }\n",
              "\n",
              "    .dataframe tbody tr th {\n",
              "        vertical-align: top;\n",
              "    }\n",
              "\n",
              "    .dataframe thead th {\n",
              "        text-align: right;\n",
              "    }\n",
              "</style>\n",
              "<table border=\"1\" class=\"dataframe\">\n",
              "  <thead>\n",
              "    <tr style=\"text-align: right;\">\n",
              "      <th></th>\n",
              "      <th>year</th>\n",
              "      <th>volume_sold_liters</th>\n",
              "    </tr>\n",
              "  </thead>\n",
              "  <tbody>\n",
              "    <tr>\n",
              "      <th>0</th>\n",
              "      <td>2017</td>\n",
              "      <td>18784995.16</td>\n",
              "    </tr>\n",
              "    <tr>\n",
              "      <th>1</th>\n",
              "      <td>2018</td>\n",
              "      <td>19959044.48</td>\n",
              "    </tr>\n",
              "    <tr>\n",
              "      <th>2</th>\n",
              "      <td>2019</td>\n",
              "      <td>20395769.02</td>\n",
              "    </tr>\n",
              "  </tbody>\n",
              "</table>\n",
              "</div>"
            ],
            "text/plain": [
              "   year  volume_sold_liters\n",
              "0  2017         18784995.16\n",
              "1  2018         19959044.48\n",
              "2  2019         20395769.02"
            ]
          },
          "metadata": {
            "tags": []
          },
          "execution_count": 14
        }
      ]
    },
    {
      "cell_type": "code",
      "metadata": {
        "id": "UwC26KSZykOz",
        "colab_type": "code",
        "outputId": "2e917321-1de7-48ce-eb2e-94259e961295",
        "colab": {
          "base_uri": "https://localhost:8080/",
          "height": 362
        }
      },
      "source": [
        "from matplotlib import pyplot as plt\n",
        "import seaborn as sns\n",
        "plt.rcParams[\"figure.figsize\"] = (10,5)\n",
        "sns.barplot(x='year',y='volume_sold_liters',data=liters_by_year)"
      ],
      "execution_count": 15,
      "outputs": [
        {
          "output_type": "execute_result",
          "data": {
            "text/plain": [
              "<matplotlib.axes._subplots.AxesSubplot at 0x7f4e06895a20>"
            ]
          },
          "metadata": {
            "tags": []
          },
          "execution_count": 15
        },
        {
          "output_type": "display_data",
          "data": {
            "image/png": "[encoded data removed]",
            "text/plain": [
              "<Figure size 720x360 with 1 Axes>"
            ]
          },
          "metadata": {
            "tags": []
          }
        }
      ]
    },
    {
      "cell_type": "markdown",
      "metadata": {
        "id": "3wkuwhCykOR9",
        "colab_type": "text"
      },
      "source": [
        "Sold liters amound slightly tends to grow from year to year"
      ]
    },
    {
      "cell_type": "markdown",
      "metadata": {
        "id": "VMvqIdMDjS3V",
        "colab_type": "text"
      },
      "source": [
        "Then we want to find monthly dynamics of volumes sold"
      ]
    },
    {
      "cell_type": "code",
      "metadata": {
        "id": "OArBXBUslK6r",
        "colab_type": "code",
        "colab": {
          "base_uri": "https://localhost:8080/",
          "height": 421
        },
        "outputId": "798751b3-3f21-49c8-887d-874b171e7bca"
      },
      "source": [
        "by_month = df.groupby(['month']).sum().reset_index()\n",
        "liters_by_month = by_month[['month','volume_sold_liters']]\n",
        "liters_by_month"
      ],
      "execution_count": 16,
      "outputs": [
        {
          "output_type": "execute_result",
          "data": {
            "text/html": [
              "<div>\n",
              "<style scoped>\n",
              "    .dataframe tbody tr th:only-of-type {\n",
              "        vertical-align: middle;\n",
              "    }\n",
              "\n",
              "    .dataframe tbody tr th {\n",
              "        vertical-align: top;\n",
              "    }\n",
              "\n",
              "    .dataframe thead th {\n",
              "        text-align: right;\n",
              "    }\n",
              "</style>\n",
              "<table border=\"1\" class=\"dataframe\">\n",
              "  <thead>\n",
              "    <tr style=\"text-align: right;\">\n",
              "      <th></th>\n",
              "      <th>month</th>\n",
              "      <th>volume_sold_liters</th>\n",
              "    </tr>\n",
              "  </thead>\n",
              "  <tbody>\n",
              "    <tr>\n",
              "      <th>0</th>\n",
              "      <td>1</td>\n",
              "      <td>3992362.34</td>\n",
              "    </tr>\n",
              "    <tr>\n",
              "      <th>1</th>\n",
              "      <td>2</td>\n",
              "      <td>4374604.13</td>\n",
              "    </tr>\n",
              "    <tr>\n",
              "      <th>2</th>\n",
              "      <td>3</td>\n",
              "      <td>4443313.45</td>\n",
              "    </tr>\n",
              "    <tr>\n",
              "      <th>3</th>\n",
              "      <td>4</td>\n",
              "      <td>4718679.60</td>\n",
              "    </tr>\n",
              "    <tr>\n",
              "      <th>4</th>\n",
              "      <td>5</td>\n",
              "      <td>5600887.81</td>\n",
              "    </tr>\n",
              "    <tr>\n",
              "      <th>5</th>\n",
              "      <td>6</td>\n",
              "      <td>5199680.07</td>\n",
              "    </tr>\n",
              "    <tr>\n",
              "      <th>6</th>\n",
              "      <td>7</td>\n",
              "      <td>5025944.05</td>\n",
              "    </tr>\n",
              "    <tr>\n",
              "      <th>7</th>\n",
              "      <td>8</td>\n",
              "      <td>5204768.57</td>\n",
              "    </tr>\n",
              "    <tr>\n",
              "      <th>8</th>\n",
              "      <td>9</td>\n",
              "      <td>4523443.80</td>\n",
              "    </tr>\n",
              "    <tr>\n",
              "      <th>9</th>\n",
              "      <td>10</td>\n",
              "      <td>5612335.03</td>\n",
              "    </tr>\n",
              "    <tr>\n",
              "      <th>10</th>\n",
              "      <td>11</td>\n",
              "      <td>4829735.82</td>\n",
              "    </tr>\n",
              "    <tr>\n",
              "      <th>11</th>\n",
              "      <td>12</td>\n",
              "      <td>5614053.99</td>\n",
              "    </tr>\n",
              "  </tbody>\n",
              "</table>\n",
              "</div>"
            ],
            "text/plain": [
              "    month  volume_sold_liters\n",
              "0       1          3992362.34\n",
              "1       2          4374604.13\n",
              "2       3          4443313.45\n",
              "3       4          4718679.60\n",
              "4       5          5600887.81\n",
              "5       6          5199680.07\n",
              "6       7          5025944.05\n",
              "7       8          5204768.57\n",
              "8       9          4523443.80\n",
              "9      10          5612335.03\n",
              "10     11          4829735.82\n",
              "11     12          5614053.99"
            ]
          },
          "metadata": {
            "tags": []
          },
          "execution_count": 16
        }
      ]
    },
    {
      "cell_type": "code",
      "metadata": {
        "id": "GhUDPhSLtSfH",
        "colab_type": "code",
        "outputId": "7c2c096c-a587-4c3d-b2b7-5f95bbf03744",
        "colab": {
          "base_uri": "https://localhost:8080/",
          "height": 351
        }
      },
      "source": [
        "sns.barplot(x='month',y='volume_sold_liters',data=liters_by_month)"
      ],
      "execution_count": 17,
      "outputs": [
        {
          "output_type": "execute_result",
          "data": {
            "text/plain": [
              "<matplotlib.axes._subplots.AxesSubplot at 0x7f4e0ad567b8>"
            ]
          },
          "metadata": {
            "tags": []
          },
          "execution_count": 17
        },
        {
          "output_type": "display_data",
          "data": {
            "image/png": "[encoded data removed]",
            "text/plain": [
              "<Figure size 720x360 with 1 Axes>"
            ]
          },
          "metadata": {
            "tags": []
          }
        }
      ]
    },
    {
      "cell_type": "markdown",
      "metadata": {
        "id": "P0403_vDlTDZ",
        "colab_type": "text"
      },
      "source": [
        "May, October and December appears to be the months with highest sold amounts;  January - with lowest"
      ]
    },
    {
      "cell_type": "markdown",
      "metadata": {
        "id": "9ekw0Bf_lvsl",
        "colab_type": "text"
      },
      "source": [
        "Daily dynamics"
      ]
    },
    {
      "cell_type": "code",
      "metadata": {
        "id": "Kz8L1bCRl0ai",
        "colab_type": "code",
        "colab": {
          "base_uri": "https://localhost:8080/",
          "height": 266
        },
        "outputId": "8c7504cc-1799-497a-cac3-6803a259139f"
      },
      "source": [
        "by_day = df.groupby(['day_of_week_num','day_of_week']).sum().reset_index()\n",
        "liters_by_day = by_day[['day_of_week_num','day_of_week','volume_sold_liters']]\n",
        "liters_by_day"
      ],
      "execution_count": 18,
      "outputs": [
        {
          "output_type": "execute_result",
          "data": {
            "text/html": [
              "<div>\n",
              "<style scoped>\n",
              "    .dataframe tbody tr th:only-of-type {\n",
              "        vertical-align: middle;\n",
              "    }\n",
              "\n",
              "    .dataframe tbody tr th {\n",
              "        vertical-align: top;\n",
              "    }\n",
              "\n",
              "    .dataframe thead th {\n",
              "        text-align: right;\n",
              "    }\n",
              "</style>\n",
              "<table border=\"1\" class=\"dataframe\">\n",
              "  <thead>\n",
              "    <tr style=\"text-align: right;\">\n",
              "      <th></th>\n",
              "      <th>day_of_week_num</th>\n",
              "      <th>day_of_week</th>\n",
              "      <th>volume_sold_liters</th>\n",
              "    </tr>\n",
              "  </thead>\n",
              "  <tbody>\n",
              "    <tr>\n",
              "      <th>0</th>\n",
              "      <td>0</td>\n",
              "      <td>Monday</td>\n",
              "      <td>12871843.84</td>\n",
              "    </tr>\n",
              "    <tr>\n",
              "      <th>1</th>\n",
              "      <td>1</td>\n",
              "      <td>Tuesday</td>\n",
              "      <td>12430716.43</td>\n",
              "    </tr>\n",
              "    <tr>\n",
              "      <th>2</th>\n",
              "      <td>2</td>\n",
              "      <td>Wednesday</td>\n",
              "      <td>12815284.63</td>\n",
              "    </tr>\n",
              "    <tr>\n",
              "      <th>3</th>\n",
              "      <td>3</td>\n",
              "      <td>Thursday</td>\n",
              "      <td>12667278.59</td>\n",
              "    </tr>\n",
              "    <tr>\n",
              "      <th>4</th>\n",
              "      <td>4</td>\n",
              "      <td>Friday</td>\n",
              "      <td>8028630.44</td>\n",
              "    </tr>\n",
              "    <tr>\n",
              "      <th>5</th>\n",
              "      <td>5</td>\n",
              "      <td>Saturday</td>\n",
              "      <td>318307.19</td>\n",
              "    </tr>\n",
              "    <tr>\n",
              "      <th>6</th>\n",
              "      <td>6</td>\n",
              "      <td>Sunday</td>\n",
              "      <td>7747.54</td>\n",
              "    </tr>\n",
              "  </tbody>\n",
              "</table>\n",
              "</div>"
            ],
            "text/plain": [
              "   day_of_week_num day_of_week  volume_sold_liters\n",
              "0                0      Monday         12871843.84\n",
              "1                1     Tuesday         12430716.43\n",
              "2                2   Wednesday         12815284.63\n",
              "3                3    Thursday         12667278.59\n",
              "4                4      Friday          8028630.44\n",
              "5                5    Saturday           318307.19\n",
              "6                6      Sunday             7747.54"
            ]
          },
          "metadata": {
            "tags": []
          },
          "execution_count": 18
        }
      ]
    },
    {
      "cell_type": "code",
      "metadata": {
        "id": "8W66Qt8Sk-by",
        "colab_type": "code",
        "outputId": "2dce58b6-662d-482e-af19-d86bf512f601",
        "colab": {
          "base_uri": "https://localhost:8080/",
          "height": 363
        }
      },
      "source": [
        "sns.barplot(x='day_of_week',y='volume_sold_liters',data=liters_by_day)"
      ],
      "execution_count": 19,
      "outputs": [
        {
          "output_type": "execute_result",
          "data": {
            "text/plain": [
              "<matplotlib.axes._subplots.AxesSubplot at 0x7f4e0b28af98>"
            ]
          },
          "metadata": {
            "tags": []
          },
          "execution_count": 19
        },
        {
          "output_type": "display_data",
          "data": {
            "image/png": "[encoded data removed]",
            "text/plain": [
              "<Figure size 720x360 with 1 Axes>"
            ]
          },
          "metadata": {
            "tags": []
          }
        }
      ]
    },
    {
      "cell_type": "markdown",
      "metadata": {
        "id": "nD9tzbkDl_OD",
        "colab_type": "text"
      },
      "source": [
        "Liquor trade deals are closing mainly on working days. Although, total amounts sold on Friday are 1.5x lower than on any other working day"
      ]
    },
    {
      "cell_type": "markdown",
      "metadata": {
        "id": "dMsQ4wEQm6Rb",
        "colab_type": "text"
      },
      "source": [
        "Let's find top-10 cities based on total_volume_sold_liters metric\n"
      ]
    },
    {
      "cell_type": "code",
      "metadata": {
        "id": "06Tnl9gTPHpf",
        "colab_type": "code",
        "outputId": "18311737-e8cd-44fa-dc53-d5d84d118f8f",
        "colab": {
          "base_uri": "https://localhost:8080/",
          "height": 359
        }
      },
      "source": [
        "сities_all = pd.pivot_table(df, values=['bottles_sold','state_bottle_cost','state_bottle_retail','sale_dollars','volume_sold_liters'], index=['city'], \n",
        "                            aggfunc={'bottles_sold':np.sum, 'state_bottle_cost':np.mean, 'state_bottle_retail':np.mean, 'sale_dollars':np.sum, 'volume_sold_liters':np.sum}).reset_index()\n",
        "\n",
        "сities_all.columns = ['city', 'total_bottles_sold','total_sale_dollars', 'average_bottle_cost','average_state_bottle_retail','total_volume_sold_liters']\n",
        "\n",
        "сities_all = сities_all.sort_values(by='total_volume_sold_liters', ascending = False)\n",
        "сities_all['perc_volume_sold_liters'] = сities_all['total_volume_sold_liters']/сities_all['total_volume_sold_liters'].sum()\n",
        "сities_all['cum_perc_volume_sold_liters'] = сities_all['perc_volume_sold_liters'].cumsum()\n",
        "\n",
        "сities_all.head(10)"
      ],
      "execution_count": 22,
      "outputs": [
        {
          "output_type": "execute_result",
          "data": {
            "text/html": [
              "<div>\n",
              "<style scoped>\n",
              "    .dataframe tbody tr th:only-of-type {\n",
              "        vertical-align: middle;\n",
              "    }\n",
              "\n",
              "    .dataframe tbody tr th {\n",
              "        vertical-align: top;\n",
              "    }\n",
              "\n",
              "    .dataframe thead th {\n",
              "        text-align: right;\n",
              "    }\n",
              "</style>\n",
              "<table border=\"1\" class=\"dataframe\">\n",
              "  <thead>\n",
              "    <tr style=\"text-align: right;\">\n",
              "      <th></th>\n",
              "      <th>city</th>\n",
              "      <th>total_bottles_sold</th>\n",
              "      <th>total_sale_dollars</th>\n",
              "      <th>average_bottle_cost</th>\n",
              "      <th>average_state_bottle_retail</th>\n",
              "      <th>total_volume_sold_liters</th>\n",
              "      <th>perc_volume_sold_liters</th>\n",
              "      <th>cum_perc_volume_sold_liters</th>\n",
              "    </tr>\n",
              "  </thead>\n",
              "  <tbody>\n",
              "    <tr>\n",
              "      <th>103</th>\n",
              "      <td>Des Moines</td>\n",
              "      <td>9298489</td>\n",
              "      <td>120228325.14</td>\n",
              "      <td>10.62</td>\n",
              "      <td>15.93</td>\n",
              "      <td>6944199.47</td>\n",
              "      <td>0.12</td>\n",
              "      <td>0.12</td>\n",
              "    </tr>\n",
              "    <tr>\n",
              "      <th>58</th>\n",
              "      <td>Cedar Rapids</td>\n",
              "      <td>5081923</td>\n",
              "      <td>63669053.52</td>\n",
              "      <td>9.96</td>\n",
              "      <td>14.94</td>\n",
              "      <td>4140881.71</td>\n",
              "      <td>0.07</td>\n",
              "      <td>0.19</td>\n",
              "    </tr>\n",
              "    <tr>\n",
              "      <th>93</th>\n",
              "      <td>Davenport</td>\n",
              "      <td>3581472</td>\n",
              "      <td>40591145.58</td>\n",
              "      <td>9.54</td>\n",
              "      <td>14.31</td>\n",
              "      <td>2601383.49</td>\n",
              "      <td>0.04</td>\n",
              "      <td>0.23</td>\n",
              "    </tr>\n",
              "    <tr>\n",
              "      <th>410</th>\n",
              "      <td>West Des Moines</td>\n",
              "      <td>2196995</td>\n",
              "      <td>34661601.47</td>\n",
              "      <td>11.03</td>\n",
              "      <td>16.54</td>\n",
              "      <td>2134629.79</td>\n",
              "      <td>0.04</td>\n",
              "      <td>0.27</td>\n",
              "    </tr>\n",
              "    <tr>\n",
              "      <th>351</th>\n",
              "      <td>Sioux City</td>\n",
              "      <td>2556953</td>\n",
              "      <td>33318306.35</td>\n",
              "      <td>10.32</td>\n",
              "      <td>15.48</td>\n",
              "      <td>2103556.77</td>\n",
              "      <td>0.04</td>\n",
              "      <td>0.30</td>\n",
              "    </tr>\n",
              "    <tr>\n",
              "      <th>85</th>\n",
              "      <td>Council Bluffs</td>\n",
              "      <td>2533833</td>\n",
              "      <td>31864398.02</td>\n",
              "      <td>9.62</td>\n",
              "      <td>14.43</td>\n",
              "      <td>2017998.46</td>\n",
              "      <td>0.03</td>\n",
              "      <td>0.34</td>\n",
              "    </tr>\n",
              "    <tr>\n",
              "      <th>399</th>\n",
              "      <td>Waterloo</td>\n",
              "      <td>2870304</td>\n",
              "      <td>30859116.41</td>\n",
              "      <td>9.10</td>\n",
              "      <td>13.65</td>\n",
              "      <td>1883899.08</td>\n",
              "      <td>0.03</td>\n",
              "      <td>0.37</td>\n",
              "    </tr>\n",
              "    <tr>\n",
              "      <th>192</th>\n",
              "      <td>Iowa City</td>\n",
              "      <td>2180106</td>\n",
              "      <td>29804335.09</td>\n",
              "      <td>10.48</td>\n",
              "      <td>15.72</td>\n",
              "      <td>1866179.87</td>\n",
              "      <td>0.03</td>\n",
              "      <td>0.40</td>\n",
              "    </tr>\n",
              "    <tr>\n",
              "      <th>108</th>\n",
              "      <td>Dubuque</td>\n",
              "      <td>1667467</td>\n",
              "      <td>22370781.81</td>\n",
              "      <td>10.30</td>\n",
              "      <td>15.45</td>\n",
              "      <td>1464046.66</td>\n",
              "      <td>0.02</td>\n",
              "      <td>0.43</td>\n",
              "    </tr>\n",
              "    <tr>\n",
              "      <th>16</th>\n",
              "      <td>Ames</td>\n",
              "      <td>1471988</td>\n",
              "      <td>21400066.30</td>\n",
              "      <td>11.40</td>\n",
              "      <td>17.10</td>\n",
              "      <td>1445232.05</td>\n",
              "      <td>0.02</td>\n",
              "      <td>0.45</td>\n",
              "    </tr>\n",
              "  </tbody>\n",
              "</table>\n",
              "</div>"
            ],
            "text/plain": [
              "                city  ...  cum_perc_volume_sold_liters\n",
              "103       Des Moines  ...                         0.12\n",
              "58      Cedar Rapids  ...                         0.19\n",
              "93         Davenport  ...                         0.23\n",
              "410  West Des Moines  ...                         0.27\n",
              "351       Sioux City  ...                         0.30\n",
              "85    Council Bluffs  ...                         0.34\n",
              "399         Waterloo  ...                         0.37\n",
              "192        Iowa City  ...                         0.40\n",
              "108          Dubuque  ...                         0.43\n",
              "16              Ames  ...                         0.45\n",
              "\n",
              "[10 rows x 8 columns]"
            ]
          },
          "metadata": {
            "tags": []
          },
          "execution_count": 22
        }
      ]
    },
    {
      "cell_type": "markdown",
      "metadata": {
        "id": "V0MWNJc4w_vk",
        "colab_type": "text"
      },
      "source": [
        "Des Moines has 12% of all volume sold in Iowa; 45% of all sales in Iowa have taken place in top-10 cities"
      ]
    },
    {
      "cell_type": "markdown",
      "metadata": {
        "id": "1ewgmm3IyGRt",
        "colab_type": "text"
      },
      "source": [
        "For better understanding let's visualize all volumes by city using a treemap and label first top-20 cities"
      ]
    },
    {
      "cell_type": "code",
      "metadata": {
        "id": "zgiFvXs1trNy",
        "colab_type": "code",
        "colab": {
          "base_uri": "https://localhost:8080/",
          "height": 306
        },
        "outputId": "a8dc2990-b9f0-409e-9c6c-b768966ef648"
      },
      "source": [
        "#disable chained_assignment warning\n",
        "pd.options.mode.chained_assignment = None\n",
        "\n",
        "top_cities_df = сities_all.head(20)\n",
        "top_cities_df['label'] = top_cities_df['city'] + \"\\n \" + top_cities_df['perc_volume_sold_liters'].round(2).astype(str)\n",
        "top_cities = top_cities_df['label'].tolist()\n",
        "\n",
        "#using squarify\n",
        "!pip install -q squarify\n",
        "import squarify    \n",
        "import matplotlib as mpl\n",
        "\n",
        "# create a color palette, mapped to these values\n",
        "cmap = mpl.cm.Blues\n",
        "mini=сities_all['perc_volume_sold_liters'].min()\n",
        "maxi=сities_all['perc_volume_sold_liters'].max()\n",
        "norm = mpl.colors.Normalize(vmin=mini, vmax=maxi)\n",
        "colors = [cmap(norm(value)) for value in сities_all['perc_volume_sold_liters']]\n",
        "\n",
        "squarify.plot(sizes=сities_all['perc_volume_sold_liters'], label=top_cities, alpha=.9, color=colors)\n",
        "plt.rc('font', size=14)\n",
        "plt.axis('off')\n",
        "plt.show()"
      ],
      "execution_count": 69,
      "outputs": [
        {
          "output_type": "display_data",
          "data": {
            "image/png": "[encoded data removed]",
            "text/plain": [
              "<Figure size 720x360 with 1 Axes>"
            ]
          },
          "metadata": {
            "tags": []
          }
        }
      ]
    },
    {
      "cell_type": "code",
      "metadata": {
        "id": "vXbSb90_hZPW",
        "colab_type": "code",
        "colab": {}
      },
      "source": [
        "\n"
      ],
      "execution_count": 0,
      "outputs": []
    },
    {
      "cell_type": "code",
      "metadata": {
        "id": "nZhbichThZdF",
        "colab_type": "code",
        "colab": {}
      },
      "source": [
        ""
      ],
      "execution_count": 0,
      "outputs": []
    },
    {
      "cell_type": "code",
      "metadata": {
        "id": "PF14uUmVhZne",
        "colab_type": "code",
        "colab": {}
      },
      "source": [
        ""
      ],
      "execution_count": 0,
      "outputs": []
    },
    {
      "cell_type": "code",
      "metadata": {
        "id": "TysyUQPDhZ4Q",
        "colab_type": "code",
        "colab": {}
      },
      "source": [
        ""
      ],
      "execution_count": 0,
      "outputs": []
    },
    {
      "cell_type": "code",
      "metadata": {
        "id": "AwhWyeF1haA1",
        "colab_type": "code",
        "colab": {}
      },
      "source": [
        ""
      ],
      "execution_count": 0,
      "outputs": []
    }
  ]
}